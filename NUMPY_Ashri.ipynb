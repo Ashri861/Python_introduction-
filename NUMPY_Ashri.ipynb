{
  "nbformat": 4,
  "nbformat_minor": 0,
  "metadata": {
    "colab": {
      "provenance": []
    },
    "kernelspec": {
      "name": "python3",
      "display_name": "Python 3"
    },
    "language_info": {
      "name": "python"
    }
  },
  "cells": [
    {
      "cell_type": "markdown",
      "source": [
        "# *NUMPY*\n",
        "```\n",
        "\n"
      ],
      "metadata": {
        "id": "RqabcKaGgue9"
      }
    },
    {
      "cell_type": "code",
      "execution_count": null,
      "metadata": {
        "colab": {
          "base_uri": "https://localhost:8080/"
        },
        "id": "OtgjokDLcNJL",
        "outputId": "1201d6eb-a878-4e3c-e003-05f48ca32439"
      },
      "outputs": [
        {
          "output_type": "stream",
          "name": "stdout",
          "text": [
            "[1. 3. 0.]\n",
            "[ True False  True]\n"
          ]
        }
      ],
      "source": [
        "import numpy as np\n",
        "a=np.array([1,3,0],float)\n",
        "print(a)\n",
        "print(a<2)\n"
      ]
    },
    {
      "cell_type": "code",
      "source": [
        "import numpy as np\n",
        "a=np.array([2,3,4])  #using list, 1-D Array\n",
        "print(a)\n",
        "print(type(a))\n",
        "b=np.array((2,3,4))  #using tuple\n",
        "print(b)\n",
        "print(type(b))\n",
        "#creating 2-D array\n",
        "x=np.array([[1,3,5],[2,4,6]])\n",
        "print(x)\n",
        "print(x[0][0])\n"
      ],
      "metadata": {
        "colab": {
          "base_uri": "https://localhost:8080/"
        },
        "id": "XVCnh3qsg-f6",
        "outputId": "e9c435af-2bd7-4ce3-cae8-a1ed7f8dbd6c"
      },
      "execution_count": null,
      "outputs": [
        {
          "output_type": "stream",
          "name": "stdout",
          "text": [
            "[2 3 4]\n",
            "<class 'numpy.ndarray'>\n",
            "[2 3 4]\n",
            "<class 'numpy.ndarray'>\n",
            "[[1 3 5]\n",
            " [2 4 6]]\n",
            "1\n"
          ]
        }
      ]
    },
    {
      "cell_type": "code",
      "source": [
        "import numpy as np\n",
        "a=np.array([[1,2],[3,4]],dtype=complex)\n",
        "print(type(a))\n",
        "print(a)\n",
        "arr=np.zeros((3,3),int)\n",
        "print(arr)\n",
        "arr=np.ones((3,3),int)\n",
        "print(arr)\n",
        "arr=np.empty((3,4))  #uninitialised garbage value\n",
        "print(arr)\n",
        "arr=np.arange(0,2,0.3)\n",
        "print(arr)"
      ],
      "metadata": {
        "colab": {
          "base_uri": "https://localhost:8080/"
        },
        "id": "dn86xpXaIuLU",
        "outputId": "f2a1ed48-087c-41fb-be19-0c00aa6ae922"
      },
      "execution_count": null,
      "outputs": [
        {
          "output_type": "stream",
          "name": "stdout",
          "text": [
            "<class 'numpy.ndarray'>\n",
            "[[1.+0.j 2.+0.j]\n",
            " [3.+0.j 4.+0.j]]\n",
            "[[0 0 0]\n",
            " [0 0 0]\n",
            " [0 0 0]]\n",
            "[[1 1 1]\n",
            " [1 1 1]\n",
            " [1 1 1]]\n",
            "[[4.64617016e-310 0.00000000e+000 7.92975362e-321 4.64616982e-310]\n",
            " [6.93768998e-310 4.64616982e-310 6.93768998e-310 6.93768998e-310]\n",
            " [0.00000000e+000 9.88131292e-324 6.36598737e-314 5.43472210e-323]]\n",
            "[0.  0.3 0.6 0.9 1.2 1.5 1.8]\n"
          ]
        }
      ]
    },
    {
      "cell_type": "code",
      "source": [
        "np.linspace(0,2,9)\n",
        "print(arr)\n",
        "np.identity(3,int)\n",
        "print(arr)\n",
        "#array iteration\n",
        "A=np.array([1,4,5],int)\n",
        "for x in A:\n",
        "  print(x,end=\",\")\n",
        "np.array([[1,2],[3,4],[5,6]],int)\n",
        "for x in A:\n",
        "  print(x,end=\",\")"
      ],
      "metadata": {
        "id": "9XrgBKHuOj80",
        "colab": {
          "base_uri": "https://localhost:8080/"
        },
        "outputId": "6db2127d-6ede-4ab7-b13e-a2764196ec28"
      },
      "execution_count": null,
      "outputs": [
        {
          "output_type": "stream",
          "name": "stdout",
          "text": [
            "[0.  0.3 0.6 0.9 1.2 1.5 1.8]\n",
            "[0.  0.3 0.6 0.9 1.2 1.5 1.8]\n",
            "1,4,5,1,4,5,"
          ]
        }
      ]
    },
    {
      "cell_type": "code",
      "source": [
        "A=np.array([6,2,5,-1,0])\n",
        "print(np.sort(A))\n"
      ],
      "metadata": {
        "id": "7D9g8rWKYi8N"
      },
      "execution_count": null,
      "outputs": []
    },
    {
      "cell_type": "code",
      "source": [
        "#7.Indexing/Slicing:\n",
        "print(A[2:5])\n",
        "print(A[0:6:2])\n",
        "print(A[::-1])\n",
        "#8.Transpose:\n",
        "A=np.array([[1,2,3],[4,5,6],[7,8,9]])\n",
        "print(A.transpose())"
      ],
      "metadata": {
        "colab": {
          "base_uri": "https://localhost:8080/"
        },
        "id": "833jpgG-Yzp9",
        "outputId": "6e2ce017-5bb3-4437-f28c-6c0d7d4ab14b"
      },
      "execution_count": null,
      "outputs": [
        {
          "output_type": "stream",
          "name": "stdout",
          "text": [
            "[[7 8 9]]\n",
            "[[1 2 3]\n",
            " [7 8 9]]\n",
            "[[7 8 9]\n",
            " [4 5 6]\n",
            " [1 2 3]]\n",
            "[[1 4 7]\n",
            " [2 5 8]\n",
            " [3 6 9]]\n"
          ]
        }
      ]
    },
    {
      "cell_type": "code",
      "source": [
        "#convert 2-D array to 1-D array\n",
        "x=np.arange(0,10)\n",
        "print(x)\n",
        "x=x.reshape(5,2)\n",
        "print(x)"
      ],
      "metadata": {
        "id": "VB7yjvErb48t"
      },
      "execution_count": null,
      "outputs": []
    },
    {
      "cell_type": "code",
      "source": [
        "#To select elements from 1D array based on indexes\n",
        "a=np.array([2,4,6,8])\n",
        "index=np.array([0,0,1,3,2,1])\n",
        "t=a[index]\n",
        "print(t)\n",
        "#To select elements from 2D array based on indexes\n",
        "a=np.array([[2,4,6,8],[1,3,5,7]])\n",
        "\n"
      ],
      "metadata": {
        "id": "PKI55Zd_RD7x"
      },
      "execution_count": null,
      "outputs": []
    },
    {
      "cell_type": "code",
      "source": [
        "#To find the determinant:\n",
        "import numpy as np\n",
        "a=np.array([[4,20,0],[9,3,7],[1,2,1]])\n",
        "print(np.linalg.eig(a))\n",
        "#To find eigen values and eigen vectors\n",
        "vals,vecs=np.linalg.eig(a)\n",
        "print(vals)\n",
        "print(vecs)\n",
        "#To print inverse of a matrix\n",
        "b=np.linalg.inv(a)\n",
        "print(b)\n"
      ],
      "metadata": {
        "colab": {
          "base_uri": "https://localhost:8080/"
        },
        "id": "fmdp6JFSblzF",
        "outputId": "d112f18c-2fcf-4713-c705-c1ac060b8dcd"
      },
      "execution_count": null,
      "outputs": [
        {
          "output_type": "stream",
          "name": "stdout",
          "text": [
            "(array([ 17.64697688, -10.11745319,   0.47047632]), array([[-0.82039505, -0.81659788, -0.62940553],\n",
            "       [-0.55979561,  0.57641412,  0.11107509],\n",
            "       [-0.11653685, -0.03024347,  0.76909753]]))\n",
            "[ 17.64697688 -10.11745319   0.47047632]\n",
            "[[-0.82039505 -0.81659788 -0.62940553]\n",
            " [-0.55979561  0.57641412  0.11107509]\n",
            " [-0.11653685 -0.03024347  0.76909753]]\n",
            "[[ 0.13095238  0.23809524 -1.66666667]\n",
            " [ 0.02380952 -0.04761905  0.33333333]\n",
            " [-0.17857143 -0.14285714  2.        ]]\n"
          ]
        }
      ]
    },
    {
      "cell_type": "code",
      "source": [
        "a=np.array([0,1,4,2,5,2,5,6,3,9])\n",
        "print(a.mean())\n",
        "print(a.var())\n",
        "print(a.std())\n",
        "print(np.median(a))\n",
        "print(np.cov(a))"
      ],
      "metadata": {
        "colab": {
          "base_uri": "https://localhost:8080/"
        },
        "id": "Do8boo8ad8gU",
        "outputId": "23dbdfa7-8a5c-40c5-950e-1d662ed1dc4f"
      },
      "execution_count": null,
      "outputs": [
        {
          "output_type": "stream",
          "name": "stdout",
          "text": [
            "3.7\n",
            "6.410000000000001\n",
            "2.5317977802344327\n",
            "3.5\n",
            "7.122222222222223\n"
          ]
        }
      ]
    },
    {
      "cell_type": "markdown",
      "source": [
        "###PROGRAM 5"
      ],
      "metadata": {
        "id": "Qm9k7l-8fWNj"
      }
    },
    {
      "cell_type": "code",
      "source": [
        "import numpy as np\n",
        "a=np.array([[5,9,8],[4,11,6],[7,15,10]])\n",
        "b=np.array([[0,-1,2],[4,6,10],[3,1,5]])\n",
        "a=a-2\n",
        "b=b+3\n",
        "b=b.transpose()\n",
        "x=(np.dot(b))"
      ],
      "metadata": {
        "id": "W_Fw1sCKfdnb",
        "colab": {
          "base_uri": "https://localhost:8080/",
          "height": 234
        },
        "outputId": "888339db-6e35-4fd9-fba1-898ae4700cf1"
      },
      "execution_count": null,
      "outputs": [
        {
          "output_type": "error",
          "ename": "TypeError",
          "evalue": "ignored",
          "traceback": [
            "\u001b[0;31m---------------------------------------------------------------------------\u001b[0m",
            "\u001b[0;31mTypeError\u001b[0m                                 Traceback (most recent call last)",
            "\u001b[0;32m<ipython-input-1-c43fa52dc4e1>\u001b[0m in \u001b[0;36m<module>\u001b[0;34m()\u001b[0m\n\u001b[1;32m      5\u001b[0m \u001b[0mb\u001b[0m\u001b[0;34m=\u001b[0m\u001b[0mb\u001b[0m\u001b[0;34m+\u001b[0m\u001b[0;36m3\u001b[0m\u001b[0;34m\u001b[0m\u001b[0;34m\u001b[0m\u001b[0m\n\u001b[1;32m      6\u001b[0m \u001b[0mb\u001b[0m\u001b[0;34m=\u001b[0m\u001b[0mb\u001b[0m\u001b[0;34m.\u001b[0m\u001b[0mtranspose\u001b[0m\u001b[0;34m(\u001b[0m\u001b[0;34m)\u001b[0m\u001b[0;34m\u001b[0m\u001b[0;34m\u001b[0m\u001b[0m\n\u001b[0;32m----> 7\u001b[0;31m \u001b[0mx\u001b[0m\u001b[0;34m=\u001b[0m\u001b[0;34m(\u001b[0m\u001b[0mnp\u001b[0m\u001b[0;34m.\u001b[0m\u001b[0mdot\u001b[0m\u001b[0;34m(\u001b[0m\u001b[0mb\u001b[0m\u001b[0;34m)\u001b[0m\u001b[0;34m)\u001b[0m\u001b[0;34m\u001b[0m\u001b[0;34m\u001b[0m\u001b[0m\n\u001b[0m",
            "\u001b[0;32m<__array_function__ internals>\u001b[0m in \u001b[0;36mdot\u001b[0;34m(*args, **kwargs)\u001b[0m\n",
            "\u001b[0;31mTypeError\u001b[0m: dot() missing 1 required positional argument: 'b'"
          ]
        }
      ]
    },
    {
      "cell_type": "code",
      "source": [
        "import xlrd as xl     #to read from an excel file\n",
        "#to specify the filename\n",
        "filename=\"/content/Book1.xlsx\"\n",
        "#to specify the sheetname\n",
        "sheetNumber=0\n",
        "#to open the workbook for reading\n",
        "wb=xl.open_workbook(filename)\n",
        "sheet=wb.sheet_by_index(sheetNumber)\n",
        "x=sheet.nrows\n",
        "print(x)    #Print Number of Rows\n",
        "x=sheet.ncols\n",
        "print(x)    #Print Number of Columns\n",
        "x=sheet.row_values(1)\n",
        "print(x)\n",
        "\n",
        "d=sheet.cell_value(0,1)\n",
        "print(d)"
      ],
      "metadata": {
        "colab": {
          "base_uri": "https://localhost:8080/"
        },
        "id": "AnJVYcHGG93i",
        "outputId": "cd78d279-2de5-43d1-d6f4-b69300bef138"
      },
      "execution_count": null,
      "outputs": [
        {
          "output_type": "stream",
          "name": "stdout",
          "text": [
            "10\n",
            "5\n",
            "[2.0, 9.0, 4.0, 18.0, 10.0]\n",
            "10.0\n"
          ]
        }
      ]
    },
    {
      "cell_type": "markdown",
      "source": [
        "DATA VISUALISATION - PANDAS"
      ],
      "metadata": {
        "id": "-4b9BYj-3E9a"
      }
    },
    {
      "cell_type": "code",
      "source": [
        "import pandas as pd\n",
        "df=pd.read_csv('/content/empdata.csv')\n",
        "print(df)  #df/print(df)/display(df)\n",
        "#to retrieve a range of rows\n",
        "df[2:5]\n",
        "df[::2]\n",
        "df[5:0:-1]\n",
        "#To retrieve column names\n",
        "df.columns\n",
        "#To retrieve column data\n",
        "df.Empid\n",
        "df['Empid']"
      ],
      "metadata": {
        "colab": {
          "base_uri": "https://localhost:8080/"
        },
        "id": "98IqcMRr3DEH",
        "outputId": "b0e01483-d32e-4bfb-e7db-cc26825f807a"
      },
      "execution_count": null,
      "outputs": [
        {
          "output_type": "stream",
          "name": "stdout",
          "text": [
            "   Empid           Ename    Salary         DOJ\n",
            "0   1001          Ganesh   1000.00  10/10/2000\n",
            "1   1002            Anil  23000.50   3/20/2002\n",
            "2   1003             NaN  18000.33         NaN\n",
            "3   1004    Hema Chandra  16500.50   9/10/2000\n",
            "4   1005  Laxmi Prasanna       NaN   10/8/2000\n",
            "5   1006          Anant    9999.99    9/9/1999\n"
          ]
        },
        {
          "output_type": "execute_result",
          "data": {
            "text/plain": [
              "0    1001\n",
              "1    1002\n",
              "2    1003\n",
              "3    1004\n",
              "4    1005\n",
              "5    1006\n",
              "Name: Empid, dtype: int64"
            ]
          },
          "metadata": {},
          "execution_count": 3
        }
      ]
    },
    {
      "cell_type": "code",
      "source": [
        "#to retrieve a range of rows\n",
        "df[2:5]\n",
        "print(\"\")\n",
        "df[::2]\n",
        "print(\"\")\n",
        "df[5:0:-1]\n",
        "\n",
        "#To retrieve column names\n",
        "df.columns\n",
        "\n",
        "#To retrieve column data\n",
        "print(\"\")\n",
        "df.Empid\n",
        "print(\"\")\n",
        "df['Empid']"
      ],
      "metadata": {
        "colab": {
          "base_uri": "https://localhost:8080/"
        },
        "id": "928xqauHGfMS",
        "outputId": "3594b5ac-486e-4329-ab45-46950b20dd6e"
      },
      "execution_count": null,
      "outputs": [
        {
          "output_type": "stream",
          "name": "stdout",
          "text": [
            "\n",
            "\n",
            "\n",
            "\n"
          ]
        },
        {
          "output_type": "execute_result",
          "data": {
            "text/plain": [
              "0    1001\n",
              "1    1002\n",
              "2    1003\n",
              "3    1004\n",
              "4    1005\n",
              "5    1006\n",
              "Name: Empid, dtype: int64"
            ]
          },
          "metadata": {},
          "execution_count": 5
        }
      ]
    },
    {
      "cell_type": "code",
      "source": [
        "import pandas as pd\n",
        "df=pd.read_csv('/content/empdata.csv')\n",
        "x=df.Empid\n",
        "y=df.Salary\n",
        "import matplotlib.pyplot as plt\n",
        "plt.bar(x,y,label=\"EMPLOYEE DATA\",COLOR=\"green\")\n",
        "plt.xlabel(\"Employee Ids\")\n",
        "plt.ylabel(\"Salary\")\n",
        "plt.title(\"Employee\")\n",
        "plt.legend()\n",
        "plt.show()\n"
      ],
      "metadata": {
        "id": "NmwlzFpw5c2O",
        "colab": {
          "base_uri": "https://localhost:8080/",
          "height": 295
        },
        "outputId": "90ec7579-308f-44ff-deb0-501650ee4cc5"
      },
      "execution_count": null,
      "outputs": [
        {
          "output_type": "display_data",
          "data": {
            "image/png": "[encoded data removed]",
            "text/plain": [
              "<Figure size 432x288 with 1 Axes>"
            ]
          },
          "metadata": {
            "needs_background": "light"
          }
        }
      ]
    },
    {
      "cell_type": "markdown",
      "source": [
        "two bar graphs"
      ],
      "metadata": {
        "id": "OUocjS8L8Ytl"
      }
    },
    {
      "cell_type": "code",
      "source": [
        "import matplotlib.pyplot as plt\n",
        "x=[1001,1003,1006,1007,1009,1011]\n",
        "y=[10000,23000.50,18000,16500,12000.75,9999.99]\n",
        "x1=[1002,1004,1010,1008,1014,1015]\n",
        "y1=[5000,6000,4500,12000,9000,10000]\n",
        "plt.bar(x,y,label=\"Sales Department\",color=\"yellow\")\n",
        "plt.bar(x1,y1,label=\"Production Depatment\",color=\"orange\")\n",
        "plt.xlabel(\"Empids\")\n",
        "plt.ylabel(\"Salaries\")\n",
        "plt.legend()\n",
        "plt.show()"
      ],
      "metadata": {
        "colab": {
          "base_uri": "https://localhost:8080/",
          "height": 279
        },
        "id": "6ZZYehAK8VCu",
        "outputId": "6402cc6d-4619-4cbe-b101-76f651c41efc"
      },
      "execution_count": null,
      "outputs": [
        {
          "output_type": "display_data",
          "data": {
            "image/png": "[encoded data removed]",
            "text/plain": [
              "<Figure size 432x288 with 1 Axes>"
            ]
          },
          "metadata": {
            "needs_background": "light"
          }
        }
      ]
    },
    {
      "cell_type": "markdown",
      "source": [
        "Histogram"
      ],
      "metadata": {
        "id": "hjJxaOO9-szn"
      }
    },
    {
      "cell_type": "code",
      "source": [
        "import matplotlib.pyplot as plt\n",
        "emp_ages=[22,45,30,59,58,57,45,43,50,40,34,33,25,19]\n",
        "bins=[0,10,20,30,40,50,60]\n",
        "plt.hist(emp_ages,bins,histtype='bar',rwidth=0.8,color='magenta')\n",
        "plt.xlabel(\"Employee Ages\")\n",
        "plt.ylabel(\"No. of Employees\")\n",
        "plt.title(\"PU\")\n",
        "plt.legend()\n",
        "plt.show()"
      ],
      "metadata": {
        "colab": {
          "base_uri": "https://localhost:8080/",
          "height": 312
        },
        "id": "VDqDhjUo-sa9",
        "outputId": "08e1f8e5-6435-4e4a-e4d7-af9369a3ce2c"
      },
      "execution_count": null,
      "outputs": [
        {
          "output_type": "stream",
          "name": "stderr",
          "text": [
            "No handles with labels found to put in legend.\n"
          ]
        },
        {
          "output_type": "display_data",
          "data": {
            "image/png": "[encoded data removed]",
            "text/plain": [
              "<Figure size 432x288 with 1 Axes>"
            ]
          },
          "metadata": {
            "needs_background": "light"
          }
        }
      ]
    },
    {
      "cell_type": "code",
      "source": [
        "import matplotlib.pyplot as plt\n",
        "sugar=[113,85,90,150,149,88,93,115,135,80,82,129]\n",
        "bins=[80,100,125,150]\n",
        "labels=[\"normal\",\"pre-diabetic\",\"diabetic\"]\n",
        "plt.xlabel(\"Sugar levels\")\n",
        "plt.ylabel(\"No. of Patients\")\n",
        "(n,bins,patches)=plt.hist(sugar,bins,histtype=\"bar\",rwidth=1.0,label=labels)\n",
        "plt.setp(patches[0],facecolor=\"yellow\",label=\"Normal\")\n",
        "plt.setp(patches[1],facecolor=\"orange\",label=\"Pre-diabetic\")\n",
        "plt.setp(patches[2],facecolor=\"red\",label=\"Diabetic\")\n",
        "plt.legend()\n",
        "plt.show()\n",
        "#n is the count of each bin\n",
        "print(\"No. of normal patients=\",n[0])\n",
        "print(\"No. of pre-diabetic patients=\",n[1])\n",
        "print(\"No. of diabetic patients=\",n[2])\n",
        "print(\"The bin intervals are\",bins)"
      ],
      "metadata": {
        "colab": {
          "base_uri": "https://localhost:8080/",
          "height": 349
        },
        "id": "KxQI_IcEBhjm",
        "outputId": "46d050c3-bc5b-498f-c999-eb0503340bbe"
      },
      "execution_count": null,
      "outputs": [
        {
          "output_type": "display_data",
          "data": {
            "image/png": "[encoded data removed]",
            "text/plain": [
              "<Figure size 432x288 with 1 Axes>"
            ]
          },
          "metadata": {
            "needs_background": "light"
          }
        },
        {
          "output_type": "stream",
          "name": "stdout",
          "text": [
            "No. of normal patients= 6.0\n",
            "No. of pre-diabetic patients= 2.0\n",
            "No. of diabetic patients= 4.0\n",
            "The bin intervals are [ 80 100 125 150]\n"
          ]
        }
      ]
    },
    {
      "cell_type": "code",
      "source": [
        "import matplotlib.pyplot as plt\n",
        "sugar_men=[113,85,90,150,149,88,93,115,135,80,77,82,129]\n",
        "sugar_women=[103,80,85,110,112,88,90,105,125,85,77,72,128]\n",
        "bins=[80,100,125,150]\n",
        "(n,bins,patches)=plt.hist([sugar_men,sugar_women],bins,rwidth=1.0,color=[\"silver\",\"gold\"],label=[\"men\",\"women\"])\n",
        "plt.xlabel(\"Sugar levels\")\n",
        "plt.ylabel(\"No. of Patients\")\n",
        "plt.title(\"Sugar level analysis\")\n",
        "plt.legend()\n",
        "plt.show()\n",
        "print(\"No. of normal, pre diabetic  and diabetic patients(men) are \",n[0])\n",
        "print(\"No. of normal, pre diabetic  and diabetic patients(women) are \",n[1])\n",
        "print(\"The bin intervals are\",bins)"
      ],
      "metadata": {
        "colab": {
          "base_uri": "https://localhost:8080/",
          "height": 347
        },
        "id": "VitpKDu_Hlct",
        "outputId": "76caaa35-c014-44a0-f16c-21264f46678b"
      },
      "execution_count": null,
      "outputs": [
        {
          "output_type": "display_data",
          "data": {
            "image/png": "[encoded data removed]",
            "text/plain": [
              "<Figure size 432x288 with 1 Axes>"
            ]
          },
          "metadata": {
            "needs_background": "light"
          }
        },
        {
          "output_type": "stream",
          "name": "stdout",
          "text": [
            "No. of normal, pre diabetic  and diabetic patients(men) are  [6. 2. 4.]\n",
            "No. of normal, pre diabetic  and diabetic patients(women) are  [5. 4. 2.]\n",
            "The bin intervals are [ 80 100 125 150]\n"
          ]
        }
      ]
    },
    {
      "cell_type": "markdown",
      "source": [
        "Pie Chart"
      ],
      "metadata": {
        "id": "VDxUzomMI3i3"
      }
    },
    {
      "cell_type": "code",
      "source": [
        "import matplotlib.pyplot as plt\n",
        "slices=[50,20,15,15]\n",
        "depts=['Sales','Production','HR','Finance']\n",
        "cols=['magenta','cyan','brown','gold']\n",
        "plt.pie(slices,labels=depts,colors=cols,startangle=90,explode=(0,0.2,0,0),shadow=True,autopct='%.1f')\n",
        "plt.title('XYZ COMPANY')\n",
        "plt.legend()\n",
        "plt.show()"
      ],
      "metadata": {
        "colab": {
          "base_uri": "https://localhost:8080/",
          "height": 264
        },
        "id": "NfRDO7qvHDT1",
        "outputId": "164ee53a-f18b-4fc4-f8f6-f9f0dc0391b7"
      },
      "execution_count": null,
      "outputs": [
        {
          "output_type": "display_data",
          "data": {
            "image/png": "[encoded data removed]",
            "text/plain": [
              "<Figure size 432x288 with 1 Axes>"
            ]
          },
          "metadata": {}
        }
      ]
    },
    {
      "cell_type": "code",
      "source": [
        "import matplotlib.pyplot as plt\n",
        "slices=[50,20,15,15]\n",
        "depts=['India','France','Germany','Italy']\n",
        "cols=['magenta','cyan','silver','gold']\n",
        "plt.pie(slices,labels=depts,colors=cols,startangle=90,explode=(0,0.2,0,0),shadow=True,autopct='%.1f')\n",
        "plt.title('2016 Summer Olympics')\n",
        "plt.legend()\n",
        "plt.show()"
      ],
      "metadata": {
        "colab": {
          "base_uri": "https://localhost:8080/",
          "height": 264
        },
        "id": "_H0Vrd6KKHDp",
        "outputId": "69631dab-1825-49cc-b63e-4c8c3aa5ecdb"
      },
      "execution_count": null,
      "outputs": [
        {
          "output_type": "display_data",
          "data": {
            "image/png": "[encoded data removed]",
            "text/plain": [
              "<Figure size 432x288 with 1 Axes>"
            ]
          },
          "metadata": {}
        }
      ]
    },
    {
      "cell_type": "code",
      "source": [
        "import matplotlib.pyplot as plt\n",
        "import pandas as pd\n",
        "df=pd.read_csv(\"/content/Lisas Collection.csv\")\n",
        "months=df['Month']\n",
        "y1=df['Books']\n",
        "y2=df['CDs']\n",
        "print(months)\n",
        "print(y1)\n",
        "print(y2)\n",
        "plt.plot(months,y1,'blue',label='Books')\n",
        "plt.plot(months,y2,'red',label='CDs')\n",
        "plt.title('Lisas Collection')\n",
        "plt.xlabel('Month')\n",
        "plt.ylabel('Count')\n",
        "plt.legend()\n",
        "plt.show()\n"
      ],
      "metadata": {
        "colab": {
          "base_uri": "https://localhost:8080/",
          "height": 607
        },
        "id": "qfcPpCpfXavW",
        "outputId": "10c7cc9d-86a4-4ddb-d96d-590adae4de3d"
      },
      "execution_count": null,
      "outputs": [
        {
          "output_type": "stream",
          "name": "stdout",
          "text": [
            "0    Jan\n",
            "1    Feb\n",
            "2    Mar\n",
            "3    Apr\n",
            "4    May\n",
            "Name: Month, dtype: object\n",
            "0    10\n",
            "1    13\n",
            "2    19\n",
            "3    25\n",
            "4    30\n",
            "Name: Books, dtype: int64\n",
            "0    15\n",
            "1    20\n",
            "2    20\n",
            "3    15\n",
            "4    25\n",
            "Name: CDs, dtype: int64\n"
          ]
        },
        {
          "output_type": "display_data",
          "data": {
            "image/png": "[encoded data removed]",
            "text/plain": [
              "<Figure size 432x288 with 1 Axes>"
            ]
          },
          "metadata": {
            "needs_background": "light"
          }
        }
      ]
    }
  ]
}