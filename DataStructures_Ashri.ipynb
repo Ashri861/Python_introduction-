{
  "nbformat": 4,
  "nbformat_minor": 0,
  "metadata": {
    "colab": {
      "provenance": []
    },
    "kernelspec": {
      "name": "python3",
      "display_name": "Python 3"
    },
    "language_info": {
      "name": "python"
    }
  },
  "cells": [
    {
      "cell_type": "markdown",
      "metadata": {
        "id": "VqqkNFdnnznJ"
      },
      "source": [
        "# **LISTS**"
      ]
    },
    {
      "cell_type": "markdown",
      "source": [
        "###accessing elements of a list\n"
      ],
      "metadata": {
        "id": "v3HLb65UxpTd"
      }
    },
    {
      "cell_type": "code",
      "metadata": {
        "colab": {
          "base_uri": "https://localhost:8080/"
        },
        "id": "HB-9Iqbnnp-T",
        "outputId": "8ff61dac-4ce3-4a05-bfce-be6e461ad676"
      },
      "source": [
        "\n",
        "n=[1,2,3,4,True,'hello']\n",
        "print(n[2])\n",
        "k=[1,2.4,'a','ASHRI',[1,2,3]]   #Nested list\n",
        "print(k[4][1])"
      ],
      "execution_count": null,
      "outputs": [
        {
          "output_type": "stream",
          "name": "stdout",
          "text": [
            "3\n",
            "2\n"
          ]
        }
      ]
    },
    {
      "cell_type": "markdown",
      "source": [
        "###negative indexing\n"
      ],
      "metadata": {
        "id": "t53PCzLkx2Dl"
      }
    },
    {
      "cell_type": "code",
      "metadata": {
        "colab": {
          "base_uri": "https://localhost:8080/",
          "height": 35
        },
        "id": "3ORU22mSpbnQ",
        "outputId": "f6f7a53f-4c8c-4cd4-9755-9fcfd73bee13"
      },
      "source": [
        "\n",
        "n=['p','r','o','b','e']\n",
        "n[-1]"
      ],
      "execution_count": null,
      "outputs": [
        {
          "output_type": "execute_result",
          "data": {
            "application/vnd.google.colaboratory.intrinsic+json": {
              "type": "string"
            },
            "text/plain": [
              "'e'"
            ]
          },
          "metadata": {},
          "execution_count": 7
        }
      ]
    },
    {
      "cell_type": "markdown",
      "source": [
        "###List Slicing"
      ],
      "metadata": {
        "id": "YNGEEcOfyCDN"
      }
    },
    {
      "cell_type": "code",
      "metadata": {
        "colab": {
          "base_uri": "https://localhost:8080/"
        },
        "id": "R47JIlj3qa86",
        "outputId": "5a0448e7-b60e-42e9-f980-d743beabb17d"
      },
      "source": [
        "\n",
        "n=['p','r','o','b','f','e']\n",
        "n[2:]\n",
        "n[:]"
      ],
      "execution_count": null,
      "outputs": [
        {
          "output_type": "execute_result",
          "data": {
            "text/plain": [
              "['p', 'r', 'o', 'b', 'f', 'e']"
            ]
          },
          "metadata": {},
          "execution_count": 8
        }
      ]
    },
    {
      "cell_type": "code",
      "metadata": {
        "colab": {
          "base_uri": "https://localhost:8080/"
        },
        "id": "sZR4b7gMreTJ",
        "outputId": "0eb6b0a9-c346-46b4-9242-824c854b7999"
      },
      "source": [
        "n=['p','r','o','b','f','e']\n",
        "print(n[2:])\n",
        "print(n[:])\n",
        "print(n[2:3])\n",
        "print(n[:3])\n"
      ],
      "execution_count": null,
      "outputs": [
        {
          "output_type": "stream",
          "name": "stdout",
          "text": [
            "['o', 'b', 'f', 'e']\n",
            "['p', 'r', 'o', 'b', 'f', 'e']\n",
            "['o']\n",
            "['p', 'r', 'o']\n"
          ]
        }
      ]
    },
    {
      "cell_type": "markdown",
      "source": [
        "###updating elements in a list : </br>a slice operator on the left can update multiple elements"
      ],
      "metadata": {
        "id": "uizP-yvGyTpV"
      }
    },
    {
      "cell_type": "code",
      "metadata": {
        "colab": {
          "base_uri": "https://localhost:8080/"
        },
        "id": "xT2U_W5YsAHw",
        "outputId": "d1d96fdf-c452-4144-c1f0-225318b7b7ce"
      },
      "source": [
        "\n",
        "t=['p','r','o','b','f','e']\n",
        "t[1:3]=['x','y']    # updating multiple elements to the list\n",
        "print(t)\n",
        "t[-1]='g'       #updating single element to the list\n",
        "print(t)"
      ],
      "execution_count": null,
      "outputs": [
        {
          "output_type": "stream",
          "name": "stdout",
          "text": [
            "['p', 'x', 'y', 'b', 'f', 'e']\n",
            "['p', 'x', 'y', 'b', 'f', 'g']\n"
          ]
        }
      ]
    },
    {
      "cell_type": "markdown",
      "source": [
        "###Changing elements in a list"
      ],
      "metadata": {
        "id": "X6RxVoHiJGDg"
      }
    },
    {
      "cell_type": "code",
      "source": [
        "odd=[2,4,6,8]\n",
        "odd[0]=1\n",
        "print(odd)\n",
        "odd[1:4]=[3,5,7]\n",
        "print(odd)"
      ],
      "metadata": {
        "colab": {
          "base_uri": "https://localhost:8080/"
        },
        "id": "denB37rlH70R",
        "outputId": "54a71623-7039-483e-dc36-6557e68a2bab"
      },
      "execution_count": null,
      "outputs": [
        {
          "output_type": "stream",
          "name": "stdout",
          "text": [
            "[1, 4, 6, 8]\n",
            "[1, 3, 5, 7]\n"
          ]
        }
      ]
    },
    {
      "cell_type": "markdown",
      "source": [
        "###Adding elements in a list"
      ],
      "metadata": {
        "id": "RH5aWDUvJWxf"
      }
    },
    {
      "cell_type": "code",
      "metadata": {
        "colab": {
          "base_uri": "https://localhost:8080/"
        },
        "id": "nBdsH_PmuLyx",
        "outputId": "512aa59b-1df8-4848-f363-88cf30241837"
      },
      "source": [
        "#append()\n",
        "odd=[1,3,5]\n",
        "odd.append(7)    #adding single element to the list\n",
        "print(odd)\n",
        "#extend()\n",
        "odd.extend([9,11,13])   #adding multiple items to a list\n",
        "print(odd)\n",
        "\n",
        "f=[1,2,3,4,5,6]\n",
        "f=f+[7,8,9,10]    #concatenation operator-'+'\n",
        "print(f)\n",
        "print([\"a\"]*3)   #star operator\n"
      ],
      "execution_count": null,
      "outputs": [
        {
          "output_type": "stream",
          "name": "stdout",
          "text": [
            "[1, 3, 5, 7]\n",
            "[1, 3, 5, 7, 9, 11, 13]\n",
            "[1, 2, 3, 4, 5, 6, 7, 8, 9, 10]\n",
            "['a', 'a', 'a']\n"
          ]
        }
      ]
    },
    {
      "cell_type": "markdown",
      "source": [
        "####Insertion into a list"
      ],
      "metadata": {
        "id": "eQWsRWn0c175"
      }
    },
    {
      "cell_type": "code",
      "metadata": {
        "colab": {
          "base_uri": "https://localhost:8080/"
        },
        "id": "LS7J4xEaxP6Z",
        "outputId": "75c061ef-a427-4569-faa9-719a08fa8d19"
      },
      "source": [
        "\n",
        "odd=[1,9,6]\n",
        "odd.insert(1,3)\n",
        "print(odd)\n",
        "odd[2:2]=5,7 # to insert elements in the middle of a list an not at its end\n",
        "print(odd)\n",
        "odd[2:5]=6,8  #element is getting replaced\n",
        "print(odd)"
      ],
      "execution_count": null,
      "outputs": [
        {
          "output_type": "stream",
          "name": "stdout",
          "text": [
            "[1, 3, 9, 6]\n",
            "[1, 3, 5, 7, 9, 6]\n",
            "[1, 3, 6, 8, 6]\n"
          ]
        }
      ]
    },
    {
      "cell_type": "code",
      "metadata": {
        "colab": {
          "base_uri": "https://localhost:8080/",
          "height": 235
        },
        "id": "mmUtx2pSCkHz",
        "outputId": "f6562329-4698-4c59-e978-0fdd1eab63d8"
      },
      "source": [
        "#deleting elements from a list\n",
        "m=['p','r','o','b','l','e','m']\n",
        "del m[2]  #delete one item from the list\n",
        "print(m)\n",
        "del m[1:5] #delete multiple elements\n",
        "print(m)\n",
        "del m #delete entire list\n",
        "print(m)"
      ],
      "execution_count": null,
      "outputs": [
        {
          "output_type": "stream",
          "name": "stdout",
          "text": [
            "['p', 'r', 'b', 'l', 'e', 'm']\n",
            "['p', 'm']\n"
          ]
        },
        {
          "output_type": "error",
          "ename": "NameError",
          "evalue": "ignored",
          "traceback": [
            "\u001b[0;31m---------------------------------------------------------------------------\u001b[0m",
            "\u001b[0;31mNameError\u001b[0m                                 Traceback (most recent call last)",
            "\u001b[0;32m<ipython-input-21-f77c796a40eb>\u001b[0m in \u001b[0;36m<module>\u001b[0;34m()\u001b[0m\n\u001b[1;32m      6\u001b[0m \u001b[0mprint\u001b[0m\u001b[0;34m(\u001b[0m\u001b[0mm\u001b[0m\u001b[0;34m)\u001b[0m\u001b[0;34m\u001b[0m\u001b[0;34m\u001b[0m\u001b[0m\n\u001b[1;32m      7\u001b[0m \u001b[0;32mdel\u001b[0m \u001b[0mm\u001b[0m\u001b[0;34m\u001b[0m\u001b[0;34m\u001b[0m\u001b[0m\n\u001b[0;32m----> 8\u001b[0;31m \u001b[0mprint\u001b[0m\u001b[0;34m(\u001b[0m\u001b[0mm\u001b[0m\u001b[0;34m)\u001b[0m\u001b[0;34m\u001b[0m\u001b[0;34m\u001b[0m\u001b[0m\n\u001b[0m",
            "\u001b[0;31mNameError\u001b[0m: name 'm' is not defined"
          ]
        }
      ]
    },
    {
      "cell_type": "code",
      "metadata": {
        "colab": {
          "base_uri": "https://localhost:8080/"
        },
        "id": "o1ceakUxE9QU",
        "outputId": "338a157f-40fd-40e3-ad2c-aa131d0d1d3d"
      },
      "source": [
        "#Remove function\n",
        "m=['p','r','o','b','l','e','m']\n",
        "m.remove('p')\n",
        "print(m)\n",
        "#Pop function\n",
        "m.pop(1)\n",
        "print(m)"
      ],
      "execution_count": null,
      "outputs": [
        {
          "output_type": "stream",
          "name": "stdout",
          "text": [
            "['r', 'o', 'b', 'l', 'e', 'm']\n",
            "['r', 'b', 'l', 'e', 'm']\n"
          ]
        }
      ]
    },
    {
      "cell_type": "markdown",
      "source": [
        "##Iterating through loops"
      ],
      "metadata": {
        "id": "TiIw4X1x7wZu"
      }
    },
    {
      "cell_type": "code",
      "source": [
        "for k in 'apple':\n",
        " print(k)\n",
        "for k in [4,3,2,1]:\n",
        "   print(k)\n",
        "\n"
      ],
      "metadata": {
        "colab": {
          "base_uri": "https://localhost:8080/"
        },
        "id": "IM3opJVCAx71",
        "outputId": "0c5552a2-ee3d-412f-e4db-d5b21137277a"
      },
      "execution_count": null,
      "outputs": [
        {
          "output_type": "stream",
          "name": "stdout",
          "text": [
            "a\n",
            "p\n",
            "p\n",
            "l\n",
            "e\n",
            "4\n",
            "3\n",
            "2\n",
            "1\n"
          ]
        }
      ]
    },
    {
      "cell_type": "code",
      "source": [
        "for k in ['Apple','Banana','Pear']:\n",
        "  print(k)"
      ],
      "metadata": {
        "colab": {
          "base_uri": "https://localhost:8080/"
        },
        "id": "nHEAxat5u1GA",
        "outputId": "e8067d9d-ea44-4502-8508-48f3689908ae"
      },
      "execution_count": null,
      "outputs": [
        {
          "output_type": "stream",
          "name": "stdout",
          "text": [
            "Apple\n",
            "Banana\n",
            "Pear\n"
          ]
        }
      ]
    },
    {
      "cell_type": "code",
      "source": [
        "for k in range(0,11):\n",
        "  print(k)"
      ],
      "metadata": {
        "colab": {
          "base_uri": "https://localhost:8080/"
        },
        "id": "dcCtVqbn7LGd",
        "outputId": "c1e6daa7-f7f1-4bff-dd5f-890a363f97af"
      },
      "execution_count": null,
      "outputs": [
        {
          "output_type": "stream",
          "name": "stdout",
          "text": [
            "0\n",
            "1\n",
            "2\n",
            "3\n",
            "4\n",
            "5\n",
            "6\n",
            "7\n",
            "8\n",
            "9\n",
            "10\n"
          ]
        }
      ]
    },
    {
      "cell_type": "code",
      "source": [
        "for k in range(2,10,2): #(starting point,ending point,step size)\n",
        "  print(k)\n"
      ],
      "metadata": {
        "colab": {
          "base_uri": "https://localhost:8080/"
        },
        "id": "fcr2niLJ7bG9",
        "outputId": "0ddaca24-ee5b-4fa6-effd-ffb16de66822"
      },
      "execution_count": null,
      "outputs": [
        {
          "output_type": "stream",
          "name": "stdout",
          "text": [
            "2\n",
            "4\n",
            "6\n",
            "8\n"
          ]
        }
      ]
    },
    {
      "cell_type": "code",
      "source": [
        "for k in range(10,-1,-2):\n",
        "  print(k)\n"
      ],
      "metadata": {
        "id": "4Hc8UC7H8wml",
        "colab": {
          "base_uri": "https://localhost:8080/"
        },
        "outputId": "e1c499e4-8ca6-4010-d79b-25ab99d037f2"
      },
      "execution_count": null,
      "outputs": [
        {
          "output_type": "stream",
          "name": "stdout",
          "text": [
            "10\n",
            "8\n",
            "6\n",
            "4\n",
            "2\n",
            "0\n"
          ]
        }
      ]
    },
    {
      "cell_type": "markdown",
      "source": [
        "EXERCISE PROBLEMS"
      ],
      "metadata": {
        "id": "r6ux88KBuJUN"
      }
    },
    {
      "cell_type": "markdown",
      "source": [
        "###Find the sum of all numbers stored in a list"
      ],
      "metadata": {
        "id": "ctFuGYZEuTkv"
      }
    },
    {
      "cell_type": "code",
      "source": [
        "\n",
        "nums=[1,2,3,4,5]\n",
        "sum=0\n",
        "for i in range(0,len(nums)):\n",
        "  sum=sum+nums[i]\n",
        "print(\"sum: \",sum)\n"
      ],
      "metadata": {
        "id": "y5bXbZh8L6JQ",
        "colab": {
          "base_uri": "https://localhost:8080/"
        },
        "outputId": "0a092496-1e83-44e0-d206-5ad0afbece04"
      },
      "execution_count": null,
      "outputs": [
        {
          "output_type": "stream",
          "name": "stdout",
          "text": [
            "sum:  15\n"
          ]
        }
      ]
    },
    {
      "cell_type": "markdown",
      "source": [
        "#### find the sum of all numbers stored in a list​"
      ],
      "metadata": {
        "id": "3JcJu7UMwVbN"
      }
    },
    {
      "cell_type": "code",
      "source": [
        "\n",
        "nums=[1,2,3,4,5]\n",
        "sum=0\n",
        "for n in nums:\n",
        "  sum=sum+n\n",
        "print(\"Sum: \",sum)"
      ],
      "metadata": {
        "colab": {
          "base_uri": "https://localhost:8080/"
        },
        "id": "95fZAVdpzIoD",
        "outputId": "2b23de28-f511-4021-e782-1d0b04f8cfb2"
      },
      "execution_count": null,
      "outputs": [
        {
          "output_type": "stream",
          "name": "stdout",
          "text": [
            "Sum:  15\n"
          ]
        }
      ]
    },
    {
      "cell_type": "markdown",
      "source": [
        "###Find the sum and average of all n numbers stored in a list given by the user\n",
        "\n"
      ],
      "metadata": {
        "id": "wcY7W8EJ5EN7"
      }
    },
    {
      "cell_type": "code",
      "source": [
        "sum=0\n",
        "marks=[]\n",
        "size=int(input(\"Enter size of the list : \"))\n",
        "print('Size of the list is: ',size)\n",
        "for i in range(0,size):\n",
        "  a=int(input('Enter a number'))\n",
        "  marks.append(a)\n",
        "for x in marks:\n",
        "  print('Element is: ',x)\n",
        "  sum=sum+(x)\n",
        "print('Sum= ',sum)\n",
        "print('Average= ',sum/float(size))\n"
      ],
      "metadata": {
        "colab": {
          "base_uri": "https://localhost:8080/"
        },
        "id": "r6ege6OA5kJp",
        "outputId": "84c9e995-106d-4175-93e1-e5673f724b29"
      },
      "execution_count": null,
      "outputs": [
        {
          "output_type": "stream",
          "name": "stdout",
          "text": [
            "Enter size of the list : 2\n",
            "Size of the list is:  2\n",
            "Enter a number5\n",
            "Enter a number1\n",
            "Element is:  5\n",
            "Element is:  1\n",
            "Sum=  6\n",
            "Average=  3.0\n"
          ]
        }
      ]
    },
    {
      "cell_type": "markdown",
      "source": [
        "###Read a list of integers.From the input list,store only integers between 1 and 100 in another list."
      ],
      "metadata": {
        "id": "9OkOJPUodjyr"
      }
    },
    {
      "cell_type": "code",
      "source": [
        "list1=[]\n",
        "list2=[]\n",
        "size=int(input('Enter size of the list'))\n",
        "for i in range(size):\n",
        "  num=int(input('Enter a number: '))\n",
        "  list1.append(num)\n",
        "print('The input list is',list1)\n",
        "for i in list1:\n",
        "  if i>=1 and i<=100:\n",
        "    list2.append(i)\n",
        "print('The new list is',list2)\n"
      ],
      "metadata": {
        "colab": {
          "base_uri": "https://localhost:8080/"
        },
        "id": "FmxCd58Bdz3x",
        "outputId": "2e72b8f6-4850-4658-cff9-0714f470a45d"
      },
      "execution_count": null,
      "outputs": [
        {
          "output_type": "stream",
          "name": "stdout",
          "text": [
            "Enter size of the list5\n",
            "Enter a number: 2\n",
            "Enter a number: 22\n",
            "Enter a number: 222\n",
            "Enter a number: 2222\n",
            "Enter a number: 22222\n",
            "The input list is [2, 22, 222, 2222, 22222]\n",
            "The new list is [2, 22]\n"
          ]
        }
      ]
    },
    {
      "cell_type": "markdown",
      "source": [
        "###Read the ages of a list of people into a list.For all ages between 40 to 50,the string 'middle age' should be stored instead.Print the resulting list."
      ],
      "metadata": {
        "id": "wL2c5OCznFGH"
      }
    },
    {
      "cell_type": "code",
      "source": [
        "ages=[]\n",
        "nop=int(input('Enter the total no. of people: '))\n",
        "for i in range(nop):\n",
        "  a=int(input('Enter an age'))\n",
        "  ages.append(a)\n",
        "print('\\nThe input ages are:\\n')\n",
        "for i in ages:\n",
        "  print(i)\n",
        "for i in range(len(ages)):\n",
        "  if ages[i]>40 and ages[i]<50:\n",
        "    ages[i]='middle age'\n",
        "print('\\nThe modified ages are: \\n')\n",
        "for i in ages:\n",
        "  print(i)\n",
        "\n"
      ],
      "metadata": {
        "colab": {
          "base_uri": "https://localhost:8080/"
        },
        "id": "YWINYQwsnkG_",
        "outputId": "1e80dfc0-d765-4594-95d6-c5da8450e375"
      },
      "execution_count": null,
      "outputs": [
        {
          "output_type": "stream",
          "name": "stdout",
          "text": [
            "Enter the total no. of people: 2\n",
            "Enter an age2\n",
            "Enter an age45\n",
            "\n",
            "The input ages are:\n",
            "\n",
            "2\n",
            "45\n",
            "\n",
            "The modified ages are: \n",
            "\n",
            "2\n",
            "middle age\n"
          ]
        }
      ]
    },
    {
      "cell_type": "markdown",
      "source": [
        "SORT METHOD"
      ],
      "metadata": {
        "id": "9Wgw8NaBqrje"
      }
    },
    {
      "cell_type": "code",
      "source": [
        "cars=['Ford','BMW','Bolvo']\n",
        "cars.sort\n",
        "print(cars)"
      ],
      "metadata": {
        "colab": {
          "base_uri": "https://localhost:8080/"
        },
        "id": "elxaactSqNlO",
        "outputId": "f15eff21-4bcb-487d-e28c-0aa0a9c7c22d"
      },
      "execution_count": null,
      "outputs": [
        {
          "output_type": "stream",
          "name": "stdout",
          "text": [
            "['Ford', 'BMW', 'Bolvo']\n"
          ]
        }
      ]
    },
    {
      "cell_type": "code",
      "source": [
        "a=(\"h\",\"O\",\"W\",\"a\")\n",
        "x=sorted(a,reverse=True)\n",
        "print(x)"
      ],
      "metadata": {
        "colab": {
          "base_uri": "https://localhost:8080/"
        },
        "id": "4BzdB8TWpi4G",
        "outputId": "eb6a10ea-6a41-4902-c2ae-a6c2105deb0a"
      },
      "execution_count": null,
      "outputs": [
        {
          "output_type": "stream",
          "name": "stdout",
          "text": [
            "['h', 'a', 'W', 'O']\n"
          ]
        }
      ]
    },
    {
      "cell_type": "code",
      "source": [
        "#reading a list\n",
        "a=[]\n",
        "b=[]\n",
        "sizesa=int(input('Enter the total no. of integers'))\n",
        "print('Reading list1')\n",
        "for i in range(sizesa):\n",
        "  n=int(input('Ener the next number'))\n",
        "  a.append(n)\n",
        "print('Reading list2')\n",
        "sizesb=int(input('Enter the total no. of integers'))\n",
        "for i in range(sizesb):\n",
        "  N=int(input('Enter the number'))\n",
        "  b.append(N)\n",
        "#checking whether both lists are of same size\n",
        "if len(a)==len(b):\n",
        "  print('Both lists are of same size',len(a))\n",
        "else:\n",
        "  print('Both lists are of different size',len(a),len(b))\n",
        "#checking whether sum of both lists are equal or not\n",
        "if sum(a)==sum(b):\n",
        "  print('Both lists sum upto same value',sum(a),sum(b))\n",
        "else:\n",
        "  print('Both lists sum upto different values',sum(a),sum(b))\n",
        "#checking whwther there's any common element in both the lists\n",
        "for i in a:\n",
        "  for j in b:\n",
        "    if i==j:\n",
        "      print(i,'This value occurs in both the lists')\n"
      ],
      "metadata": {
        "colab": {
          "base_uri": "https://localhost:8080/"
        },
        "id": "PlQojYQ4s2UX",
        "outputId": "300339b4-a795-4c59-c23d-604cb8d5aab4"
      },
      "execution_count": null,
      "outputs": [
        {
          "output_type": "stream",
          "name": "stdout",
          "text": [
            "Enter the total no. of integers2\n",
            "Reading list1\n",
            "Ener the next number1\n",
            "Ener the next number2\n",
            "Reading list2\n",
            "Enter the total no. of integers3\n",
            "Enter the number1\n",
            "Enter the number2\n",
            "Enter the number3\n",
            "Both lists are of different size 2 3\n",
            "Both lists sum upto different values 3 6\n",
            "1 This value occurs in both the lists\n",
            "2 This value occurs in both the lists\n"
          ]
        }
      ]
    },
    {
      "cell_type": "code",
      "source": [
        "names=[]\n",
        "count=0\n",
        "#taking input\n",
        "size=int(input('Enter total number of names'))\n",
        "for i in range(size):\n",
        "  n=input('Enter a name')\n",
        "  names.append(n)\n",
        "for i in names:\n",
        "  for j in i:\n",
        "    if j=='a':\n",
        "      count=count+1\n",
        "print(\"Number of times letter 'a' occurs:\",count)\n"
      ],
      "metadata": {
        "colab": {
          "base_uri": "https://localhost:8080/"
        },
        "id": "WNRUQe5M1Uto",
        "outputId": "df7cd51c-06b8-4354-f14a-ae5c1f743273"
      },
      "execution_count": null,
      "outputs": [
        {
          "output_type": "stream",
          "name": "stdout",
          "text": [
            "Enter total number of names2\n",
            "Enter a nameashri\n",
            "Enter a nameashri\n",
            "Number of times letter 'a' occurs: 2\n"
          ]
        }
      ]
    },
    {
      "cell_type": "markdown",
      "source": [
        "###To search for an element 'x' in a given list of n integers"
      ],
      "metadata": {
        "id": "5P2YmQXGTBr_"
      }
    },
    {
      "cell_type": "code",
      "source": [
        "my_list=[]\n",
        "n=int(input('Enter the size: '))\n",
        "for i in range(n):\n",
        "  num=int(input('Enter the size: '))\n",
        "  my_list.append(num)\n",
        "key=int(input('Enter the search element: '))\n",
        "flag=1\n",
        "for i in my_list:\n",
        "  if i==key:\n",
        "    flag=0\n",
        "    break\n",
        "if flag==0:\n",
        "  cc\n",
        "\n"
      ],
      "metadata": {
        "id": "zgYTYYUb8MYv",
        "colab": {
          "base_uri": "https://localhost:8080/"
        },
        "outputId": "996bfcf3-daf2-4c32-dc3d-fe86958c8fd6"
      },
      "execution_count": null,
      "outputs": [
        {
          "name": "stdout",
          "output_type": "stream",
          "text": [
            "Enter the size: 2\n",
            "Enter the size: 4\n",
            "Enter the size: 6\n",
            "Enter the search element: 2\n"
          ]
        }
      ]
    },
    {
      "cell_type": "code",
      "source": [
        "# find the sum and average of all n numbers stored in a list given by the user.​\n"
      ],
      "metadata": {
        "id": "PYx_rs2f3e07"
      },
      "execution_count": null,
      "outputs": []
    },
    {
      "cell_type": "markdown",
      "source": [
        "# **TUPLES**"
      ],
      "metadata": {
        "id": "afImthAlyjS4"
      }
    },
    {
      "cell_type": "code",
      "source": [
        "t=(\"mouse\",[8,4,6],(1,2,3))\n",
        "t[0][3]\n",
        "t[-1]\n",
        "#index error:\n",
        "t[6]  #index must be in range\n",
        "t[2.0] #index must be an integer"
      ],
      "metadata": {
        "colab": {
          "base_uri": "https://localhost:8080/",
          "height": 217
        },
        "id": "X5Eq1j1vx274",
        "outputId": "ea97df73-b341-405a-a923-ba465aa12257"
      },
      "execution_count": null,
      "outputs": [
        {
          "output_type": "error",
          "ename": "IndexError",
          "evalue": "ignored",
          "traceback": [
            "\u001b[0;31m---------------------------------------------------------------------------\u001b[0m",
            "\u001b[0;31mIndexError\u001b[0m                                Traceback (most recent call last)",
            "\u001b[0;32m<ipython-input-11-6116ec4864a2>\u001b[0m in \u001b[0;36m<module>\u001b[0;34m()\u001b[0m\n\u001b[1;32m      2\u001b[0m \u001b[0mt\u001b[0m\u001b[0;34m[\u001b[0m\u001b[0;36m0\u001b[0m\u001b[0;34m]\u001b[0m\u001b[0;34m[\u001b[0m\u001b[0;36m3\u001b[0m\u001b[0;34m]\u001b[0m\u001b[0;34m\u001b[0m\u001b[0;34m\u001b[0m\u001b[0m\n\u001b[1;32m      3\u001b[0m \u001b[0mt\u001b[0m\u001b[0;34m[\u001b[0m\u001b[0;34m-\u001b[0m\u001b[0;36m1\u001b[0m\u001b[0;34m]\u001b[0m\u001b[0;34m\u001b[0m\u001b[0;34m\u001b[0m\u001b[0m\n\u001b[0;32m----> 4\u001b[0;31m \u001b[0mt\u001b[0m\u001b[0;34m[\u001b[0m\u001b[0;36m6\u001b[0m\u001b[0;34m]\u001b[0m  \u001b[0;31m#index must be in range\u001b[0m\u001b[0;34m\u001b[0m\u001b[0;34m\u001b[0m\u001b[0m\n\u001b[0m\u001b[1;32m      5\u001b[0m \u001b[0mt\u001b[0m\u001b[0;34m[\u001b[0m\u001b[0;36m2.0\u001b[0m\u001b[0;34m]\u001b[0m\u001b[0;34m\u001b[0m\u001b[0;34m\u001b[0m\u001b[0m\n",
            "\u001b[0;31mIndexError\u001b[0m: tuple index out of range"
          ]
        }
      ]
    },
    {
      "cell_type": "code",
      "source": [
        "t=('p','r','o','g','r','a','m')\n",
        "t[::2] #starting point,stopping point,step size\n",
        "#here, starting point and stopping point are not mentioned\n",
        "# - so it will take the whole thing..nd step size is two..\n",
        "#so o/p will be p,o ,r, m (leaving two elements in between)"
      ],
      "metadata": {
        "colab": {
          "base_uri": "https://localhost:8080/"
        },
        "id": "FDgGMXj-x3kY",
        "outputId": "3384aca0-22fa-40e5-99f7-5bb0a8552531"
      },
      "execution_count": null,
      "outputs": [
        {
          "output_type": "execute_result",
          "data": {
            "text/plain": [
              "('p', 'o', 'r', 'm')"
            ]
          },
          "metadata": {},
          "execution_count": 15
        }
      ]
    },
    {
      "cell_type": "code",
      "source": [
        "t=(4,2.3,[6,5])\n",
        "t=('p','r','o','g','r','a','m') #reassignment\n",
        "print(t)"
      ],
      "metadata": {
        "colab": {
          "base_uri": "https://localhost:8080/"
        },
        "id": "oacVddvG4Gj-",
        "outputId": "b0e8bb50-d78e-4fba-dc1a-39d004c892fb"
      },
      "execution_count": null,
      "outputs": [
        {
          "output_type": "stream",
          "name": "stdout",
          "text": [
            "('p', 'r', 'o', 'g', 'r', 'a', 'm')\n"
          ]
        }
      ]
    },
    {
      "cell_type": "code",
      "source": [
        "#Tuple deletion\n",
        "#we cannot delete elements from a tuple but we can delete the whole tuple\n",
        "t=(1,2,3,4,5,)\n",
        "del t\n",
        "print(t) #Name error : bcz it is not defined. We are printing it after deleting it..so itsa actually not there"
      ],
      "metadata": {
        "colab": {
          "base_uri": "https://localhost:8080/",
          "height": 200
        },
        "id": "FpjIdVdD4eSm",
        "outputId": "561cb145-f601-401b-c609-51fb2843afe5"
      },
      "execution_count": null,
      "outputs": [
        {
          "output_type": "error",
          "ename": "NameError",
          "evalue": "ignored",
          "traceback": [
            "\u001b[0;31m---------------------------------------------------------------------------\u001b[0m",
            "\u001b[0;31mNameError\u001b[0m                                 Traceback (most recent call last)",
            "\u001b[0;32m<ipython-input-19-4c1c6a57c637>\u001b[0m in \u001b[0;36m<module>\u001b[0;34m()\u001b[0m\n\u001b[1;32m      3\u001b[0m \u001b[0mt\u001b[0m\u001b[0;34m=\u001b[0m\u001b[0;34m(\u001b[0m\u001b[0;36m1\u001b[0m\u001b[0;34m,\u001b[0m\u001b[0;36m2\u001b[0m\u001b[0;34m,\u001b[0m\u001b[0;36m3\u001b[0m\u001b[0;34m,\u001b[0m\u001b[0;36m4\u001b[0m\u001b[0;34m,\u001b[0m\u001b[0;36m5\u001b[0m\u001b[0;34m,\u001b[0m\u001b[0;34m)\u001b[0m\u001b[0;34m\u001b[0m\u001b[0;34m\u001b[0m\u001b[0m\n\u001b[1;32m      4\u001b[0m \u001b[0;32mdel\u001b[0m \u001b[0mt\u001b[0m\u001b[0;34m\u001b[0m\u001b[0;34m\u001b[0m\u001b[0m\n\u001b[0;32m----> 5\u001b[0;31m \u001b[0mprint\u001b[0m\u001b[0;34m(\u001b[0m\u001b[0mt\u001b[0m\u001b[0;34m)\u001b[0m\u001b[0;34m\u001b[0m\u001b[0;34m\u001b[0m\u001b[0m\n\u001b[0m",
            "\u001b[0;31mNameError\u001b[0m: name 't' is not defined"
          ]
        }
      ]
    },
    {
      "cell_type": "code",
      "source": [
        "t=('a','p','p','l','e')\n",
        "print('a' in t)\n",
        "print('d' not in t )"
      ],
      "metadata": {
        "colab": {
          "base_uri": "https://localhost:8080/"
        },
        "id": "1nywSkbh5rk-",
        "outputId": "e87bc31a-c36c-4700-95a4-24a2b6c9eee8"
      },
      "execution_count": null,
      "outputs": [
        {
          "output_type": "stream",
          "name": "stdout",
          "text": [
            "True\n",
            "True\n"
          ]
        }
      ]
    },
    {
      "cell_type": "code",
      "source": [
        "tpl=(10,20,30,40,50)\n",
        "print(sorted(tpl))\n",
        "print(sorted(tpl,reverse=True))# decending order"
      ],
      "metadata": {
        "colab": {
          "base_uri": "https://localhost:8080/"
        },
        "id": "op6-YdCs6VH1",
        "outputId": "5971abe6-c4b9-41c9-9951-5d133fda7b3b"
      },
      "execution_count": null,
      "outputs": [
        {
          "output_type": "stream",
          "name": "stdout",
          "text": [
            "[10, 20, 30, 40, 50]\n",
            "[50, 40, 30, 20, 10]\n"
          ]
        }
      ]
    },
    {
      "cell_type": "code",
      "source": [
        "k=eval(input('enter a tuple with some integers'))\n",
        "print(k)"
      ],
      "metadata": {
        "colab": {
          "base_uri": "https://localhost:8080/"
        },
        "id": "YiR429XG7ObN",
        "outputId": "35b297d7-c2f9-49dd-d5ed-b996f101d215"
      },
      "execution_count": null,
      "outputs": [
        {
          "output_type": "stream",
          "name": "stdout",
          "text": [
            "enter a tuple with some integers(2,3,4,5,6)\n",
            "(2, 3, 4, 5, 6)\n"
          ]
        }
      ]
    },
    {
      "cell_type": "markdown",
      "source": [
        "1.read the marks of 'n' students in a course as a tuple and find the sum,average,highest and lowest."
      ],
      "metadata": {
        "id": "1ikSys1n-wT0"
      }
    },
    {
      "cell_type": "code",
      "source": [
        "marks=eval(input(\"Enter elements in () :\"))\n",
        "sum=0\n",
        "n=len(marks)\n",
        "for i in range (n):\n",
        "  sum=sum+marks[i]\n",
        "print(\"Sum of all marks =\",sum)\n",
        "print(\"Average of the course =\",sum/n)\n",
        "print(\"Highest mark =\",max(marks))\n",
        "print(\"Lowest mark =\",min(marks))"
      ],
      "metadata": {
        "colab": {
          "base_uri": "https://localhost:8080/"
        },
        "id": "m3cgN_zB_HQs",
        "outputId": "8eb94bea-1f59-4661-a93f-5ebd55bfd943"
      },
      "execution_count": null,
      "outputs": [
        {
          "output_type": "stream",
          "name": "stdout",
          "text": [
            "Enter elements in () :(2,4,6)\n",
            "Sum of all marks = 12\n",
            "Average of the course = 4.0\n",
            "Highest mark = 6\n",
            "Lowest mark = 2\n"
          ]
        }
      ]
    },
    {
      "cell_type": "code",
      "source": [
        "X='Harry Potter',2,4,6,8\n",
        "# [this is a tuple : braces - not mandatory ,  comma - mandatory.]\n",
        "print(type(X))"
      ],
      "metadata": {
        "colab": {
          "base_uri": "https://localhost:8080/"
        },
        "id": "eGDyuBUDBeGM",
        "outputId": "9641ec04-b5a6-481c-ea3f-b894e9bf4c8e"
      },
      "execution_count": null,
      "outputs": [
        {
          "output_type": "stream",
          "name": "stdout",
          "text": [
            "<class 'tuple'>\n"
          ]
        }
      ]
    },
    {
      "cell_type": "markdown",
      "source": [
        "###Adding an item to a tuple"
      ],
      "metadata": {
        "id": "5so4FwnM3Lhc"
      }
    },
    {
      "cell_type": "code",
      "source": [
        "a=(1,2,3,4,5)\n",
        "#tuple is immutable\n",
        "#we can add elements by using merge operator '+'\n",
        "a= a+(9,)\n",
        "print(a)\n",
        "b=list(a) #converting the tuple to a list\n",
        "print(b)\n",
        "b.append(6)\n",
        "a=tuple(b)#converting the list back to tuple\n",
        "print(a)"
      ],
      "metadata": {
        "colab": {
          "base_uri": "https://localhost:8080/"
        },
        "id": "poS8eVVbEqZ_",
        "outputId": "10fa9287-2ae9-4111-806b-f0dc5b836ba0"
      },
      "execution_count": null,
      "outputs": [
        {
          "output_type": "stream",
          "name": "stdout",
          "text": [
            "(1, 2, 3, 4, 5, 9)\n",
            "[1, 2, 3, 4, 5, 9]\n",
            "(1, 2, 3, 4, 5, 9, 6)\n"
          ]
        }
      ]
    },
    {
      "cell_type": "markdown",
      "source": [
        "###converting a tuple to a string"
      ],
      "metadata": {
        "id": "uZ1Olsxz0tWN"
      }
    },
    {
      "cell_type": "code",
      "source": [
        "tup=('e','x','e','r','i','s','e')\n",
        "str1=\"\".join(tup)\n",
        "print(str1)"
      ],
      "metadata": {
        "id": "C8clSpH3JPfq",
        "colab": {
          "base_uri": "https://localhost:8080/"
        },
        "outputId": "c97b1ebf-8699-4417-b72f-6bab2cb8e114"
      },
      "execution_count": null,
      "outputs": [
        {
          "output_type": "stream",
          "name": "stdout",
          "text": [
            "exerise\n"
          ]
        }
      ]
    },
    {
      "cell_type": "markdown",
      "source": [
        "###Removing an item from a tuple"
      ],
      "metadata": {
        "id": "tXbAeayI1zJ0"
      }
    },
    {
      "cell_type": "code",
      "source": [
        "x=\"w\",\"e\",\"r\",\"i\",\"d\",\"e\",\"r\",\"s\"\n",
        "print(x)\n",
        "x=x[:2]+x[3:]\n",
        "print(x)\n",
        "#converting the tuple to list\n",
        "listx=list(x)\n",
        "listx.remove(\"w\")\n",
        "x=tuple(listx)\n",
        "print(x)"
      ],
      "metadata": {
        "colab": {
          "base_uri": "https://localhost:8080/"
        },
        "id": "qFhQrVz61xU1",
        "outputId": "07f58480-adae-4c67-be3e-533c289b9511"
      },
      "execution_count": null,
      "outputs": [
        {
          "output_type": "stream",
          "name": "stdout",
          "text": [
            "('w', 'e', 'r', 'i', 'd', 'e', 'r', 's')\n",
            "('w', 'e', 'i', 'd', 'e', 'r', 's')\n",
            "('e', 'i', 'd', 'e', 'r', 's')\n"
          ]
        }
      ]
    },
    {
      "cell_type": "code",
      "source": [
        "fruits=()\n",
        "for i in range(1,3):\n",
        "  f=()                                     #'tuple' object has no attribute 'append'\n",
        "  name=input('Enter a name: ')\n",
        "  weight=input('Enter a weight: ')\n",
        "  fruits.append(f)\n"
      ],
      "metadata": {
        "colab": {
          "base_uri": "https://localhost:8080/",
          "height": 235
        },
        "id": "iMyE1mD72wd9",
        "outputId": "9e57cbac-9712-49f2-9d58-2b0def0bd560"
      },
      "execution_count": null,
      "outputs": [
        {
          "name": "stdout",
          "output_type": "stream",
          "text": [
            "Enter a name: Mango\n",
            "Enter a weight: 22\n"
          ]
        },
        {
          "output_type": "error",
          "ename": "AttributeError",
          "evalue": "ignored",
          "traceback": [
            "\u001b[0;31m---------------------------------------------------------------------------\u001b[0m",
            "\u001b[0;31mAttributeError\u001b[0m                            Traceback (most recent call last)",
            "\u001b[0;32m<ipython-input-10-2f76b42eb7e8>\u001b[0m in \u001b[0;36m<module>\u001b[0;34m()\u001b[0m\n\u001b[1;32m      4\u001b[0m   \u001b[0mname\u001b[0m\u001b[0;34m=\u001b[0m\u001b[0minput\u001b[0m\u001b[0;34m(\u001b[0m\u001b[0;34m'Enter a name: '\u001b[0m\u001b[0;34m)\u001b[0m\u001b[0;34m\u001b[0m\u001b[0;34m\u001b[0m\u001b[0m\n\u001b[1;32m      5\u001b[0m   \u001b[0mweight\u001b[0m\u001b[0;34m=\u001b[0m\u001b[0minput\u001b[0m\u001b[0;34m(\u001b[0m\u001b[0;34m'Enter a weight: '\u001b[0m\u001b[0;34m)\u001b[0m\u001b[0;34m\u001b[0m\u001b[0;34m\u001b[0m\u001b[0m\n\u001b[0;32m----> 6\u001b[0;31m   \u001b[0mfruits\u001b[0m\u001b[0;34m.\u001b[0m\u001b[0mappend\u001b[0m\u001b[0;34m(\u001b[0m\u001b[0mf\u001b[0m\u001b[0;34m)\u001b[0m\u001b[0;34m\u001b[0m\u001b[0;34m\u001b[0m\u001b[0m\n\u001b[0m",
            "\u001b[0;31mAttributeError\u001b[0m: 'tuple' object has no attribute 'append'"
          ]
        }
      ]
    },
    {
      "cell_type": "markdown",
      "source": [
        "###Write a python script that prompts the user to enter types of fruits and their corresponding weight in pounds. The program should then print the information in the form of fruit,weight first\n",
        "\n",
        "\n",
        "*   sorted using alphabetical order of fruit names and then\n",
        "*   in descending order of fruit weights and\n",
        "\n",
        "\n",
        "*   in descending order of fruit weights\n",
        "Using a list of tuples\n",
        "\n",
        "\n",
        "\n"
      ],
      "metadata": {
        "id": "hXEanAT68YCT"
      }
    },
    {
      "cell_type": "code",
      "source": [
        "import operator\n",
        "fruits=[]\n",
        "sort_first=[]\n",
        "sort_second=[]\n",
        "sort_third=[]\n",
        "num=int(input('Enter the no. of fruits:  '))\n",
        "for i in range(num):\n",
        "  f=eval(input(\"Enter a fruit name and its weight in: \"))\n",
        "  fruits.append(f)\n",
        "print(fruits)\n",
        "sort_first=sorted(fruits)\n",
        "sort_second=sorted(fruits,key=operator.itemgetter(1))\n",
        "sort_third=sorted(fruits,key=operator.itemgetter(1),reverse=1)\n",
        "print(sort_first)\n",
        "print(sort_second)\n",
        "print(sort_third)"
      ],
      "metadata": {
        "colab": {
          "base_uri": "https://localhost:8080/"
        },
        "id": "sApuIvSh6_jT",
        "outputId": "1d97b248-4cbb-47e3-e4d6-83fbe5c857ce"
      },
      "execution_count": null,
      "outputs": [
        {
          "output_type": "stream",
          "name": "stdout",
          "text": [
            "Enter the no. of fruits:  3\n",
            "Enter a fruit name and its weight in: (\"Mango\",59)\n",
            "Enter a fruit name and its weight in: (\"Water Melon\",60)\n",
            "Enter a fruit name and its weight in: (\"Litchi\",55)\n",
            "[('Mango', 59), ('Water Melon', 60), ('Litchi', 55)]\n",
            "[('Litchi', 55), ('Mango', 59), ('Water Melon', 60)]\n",
            "[('Litchi', 55), ('Mango', 59), ('Water Melon', 60)]\n",
            "[('Water Melon', 60), ('Mango', 59), ('Litchi', 55)]\n"
          ]
        }
      ]
    },
    {
      "cell_type": "markdown",
      "source": [
        "##Exercises in Tuples"
      ],
      "metadata": {
        "id": "dlh5TYrcB02B"
      }
    },
    {
      "cell_type": "markdown",
      "source": [
        "#####1. Create an empty tuple"
      ],
      "metadata": {
        "id": "1xk4d56P5HVo"
      }
    },
    {
      "cell_type": "code",
      "source": [
        "\n",
        "t=()\n",
        "print(t)\n",
        "#2.Initialize a tuple at the complile time\n",
        "t=(\"Anaconda\",34,56.99)\n",
        "print(t)"
      ],
      "metadata": {
        "colab": {
          "base_uri": "https://localhost:8080/"
        },
        "id": "ujK6Z3KvBM2K",
        "outputId": "901280b1-675a-4d9d-c7d3-1a5f12f55e33"
      },
      "execution_count": null,
      "outputs": [
        {
          "output_type": "stream",
          "name": "stdout",
          "text": [
            "()\n",
            "('Anaconda', 34, 56.99)\n"
          ]
        }
      ]
    },
    {
      "cell_type": "code",
      "source": [
        "#3.Create a tuple at run time.\n",
        "#ans.1 create a list and convert the list into tuple\n",
        "age=[]\n",
        "while(1):\n",
        "  a=int(input(\"Enter the age of a person\"))\n",
        "  if a<0:\n",
        "    break\n",
        "  else:\n",
        "      age.append(a)\n",
        "t=tuple(age)\n",
        "print(t)"
      ],
      "metadata": {
        "colab": {
          "base_uri": "https://localhost:8080/"
        },
        "id": "S0nT0zmwCYQx",
        "outputId": "159f94cc-af8f-4795-a9ff-f595a5695fdd"
      },
      "execution_count": null,
      "outputs": [
        {
          "output_type": "stream",
          "name": "stdout",
          "text": [
            "Enter the age of a person5\n",
            "Enter the age of a person2\n",
            "Enter the age of a person-1\n",
            "(5, 2)\n"
          ]
        }
      ]
    },
    {
      "cell_type": "code",
      "source": [
        "#ans.2 create an empty tuple and use merge operator\n",
        "t=()\n",
        "while(1):\n",
        "  a=int(input(\"Enter the age of a person\"))\n",
        "  if a<0:\n",
        "    break\n",
        "  else:\n",
        "   t=t+(a,)\n",
        "print(t)\n"
      ],
      "metadata": {
        "colab": {
          "base_uri": "https://localhost:8080/"
        },
        "id": "glF2__ptEneB",
        "outputId": "6fb83892-3f23-435e-aac7-36e6127d0a48"
      },
      "execution_count": null,
      "outputs": [
        {
          "output_type": "stream",
          "name": "stdout",
          "text": [
            "Enter the age of a person5\n",
            "Enter the age of a person4\n",
            "Enter the age of a person-1\n",
            "(5, 4)\n"
          ]
        }
      ]
    },
    {
      "cell_type": "markdown",
      "source": [
        "#DICTIONARIES"
      ],
      "metadata": {
        "id": "-vAG4BN86Hvd"
      }
    },
    {
      "cell_type": "code",
      "source": [
        "temps={'sun':68.8,'mon':70.2,'tue':67.2,'wed':71.8,'thurs':73.2,'fri':75.6,'sat':74.0}\n",
        "daynames={'sun':'Sunday','mon':'MONDAY','tue':'TUESDAY','wed':'WEDNESDAY','thurs':'THURSDAY','fri':'FRIDAY'}\n",
        "day=input('Enter a day - sun,mon,tue,wed,thurs,fri or sat')\n",
        "print('The temp on {0} is {1}'.format(daynames[day],temps[day]))"
      ],
      "metadata": {
        "colab": {
          "base_uri": "https://localhost:8080/"
        },
        "id": "OP7h3Tv06FM1",
        "outputId": "745fd351-dab9-4e39-977a-7a7d099ae5ef"
      },
      "execution_count": null,
      "outputs": [
        {
          "output_type": "stream",
          "name": "stdout",
          "text": [
            "Enter a day - sun,mon,tue,wed,thurs,fri or satsun\n",
            "The temp on Sunday is 68.8\n"
          ]
        }
      ]
    },
    {
      "cell_type": "code",
      "source": [
        "#PRINT THE LENGTH OF THE DICTIONARY\n",
        "daily_temps={'mon':70.2,'tue':67.2,'wed':71.8}\n",
        "print(\"length of dict={0}\".format(len(daily_temps)))\n",
        "#ADDING A KEY/VALUE PAIR INTO THE DICTIONARY\n",
        "daily_temps['sun']='Sunday'\n",
        "print(daily_temps)\n",
        "#CHANGE VALUE OF KEY 'mon' IN DICTIONARY\n",
        "daily_temps['mon']=88.2\n",
        "print(daily_temps)\n",
        "#DELETING VALUE FROM DICTIONARY USING KEY\n",
        "del daily_temps['mon']\n",
        "print(daily_temps)\n",
        "#DISPLAYS ONLY KEYS\n",
        "print(daily_temps.keys())\n",
        "#DISPLAYS ONLY VALUES\n",
        "print(daily_temps.values())\n",
        "#DELETES KEY VALUES('sun')\n",
        "daily_temps.pop(('sun'))\n",
        "print(daily_temps)\n",
        "'''MEMBERSHIP TESTING\n",
        "   method 1'''\n",
        "if('mon') in daily_temps:\n",
        "  print(\"true\")\n",
        "else:\n",
        "  print(\"false\")\n",
        "#method 2\n",
        "('mon') in daily_temps\n",
        "print('true')\n",
        "#UPDATING A DICTIONARY\n",
        "dict1={1:10,2:20}\n",
        "dict2={3:30,4:40}\n",
        "dict1.update(dict2)\n",
        "print(\"The new updated dictionary is: \",dict1)\n",
        "\n",
        "\n",
        "\n"
      ],
      "metadata": {
        "colab": {
          "base_uri": "https://localhost:8080/"
        },
        "id": "vkH_AUUS8_Kc",
        "outputId": "e1816f42-1f7d-4cb5-a3df-42e168cee12a"
      },
      "execution_count": null,
      "outputs": [
        {
          "output_type": "stream",
          "name": "stdout",
          "text": [
            "length of dict=3\n",
            "{'mon': 70.2, 'tue': 67.2, 'wed': 71.8, 'sun': 'Sunday'}\n",
            "{'mon': 88.2, 'tue': 67.2, 'wed': 71.8, 'sun': 'Sunday'}\n",
            "{'tue': 67.2, 'wed': 71.8, 'sun': 'Sunday'}\n",
            "dict_keys(['tue', 'wed', 'sun'])\n",
            "dict_values([67.2, 71.8, 'Sunday'])\n",
            "{'tue': 67.2, 'wed': 71.8}\n",
            "false\n",
            "true\n",
            "The new updated dictionary is:  {1: 10, 2: 20, 3: 30, 4: 40}\n"
          ]
        }
      ]
    },
    {
      "cell_type": "code",
      "source": [
        "#{('sun',1):68.8,('mon',2):88.2,('tue',3):67.2,('wed',4):71.8,('thurs',5):73.2,('fri',6):75.6,('sat',7):74.0}"
      ],
      "metadata": {
        "id": "XuxGrBauBWmz"
      },
      "execution_count": null,
      "outputs": []
    },
    {
      "cell_type": "markdown",
      "source": [
        "###built-in functions"
      ],
      "metadata": {
        "id": "sgT5qMOWIhJR"
      }
    },
    {
      "cell_type": "code",
      "source": [
        "\n",
        "car={\"brand\":\"Ford\",\"model\":\"Mustang\",\"year\":1964}\n",
        "#items\n",
        "print(car.items())\n",
        "#all()\n",
        "dict1={1:\"True\",3:\"True\"}\n",
        "print(all(dict1))\n"
      ],
      "metadata": {
        "colab": {
          "base_uri": "https://localhost:8080/"
        },
        "id": "I65n5zuoIeVR",
        "outputId": "1e2064f7-2175-4bf4-e560-3c405d9dab80"
      },
      "execution_count": null,
      "outputs": [
        {
          "output_type": "stream",
          "name": "stdout",
          "text": [
            "dict_items([('brand', 'Ford'), ('model', 'Mustang'), ('year', 1964)])\n",
            "True\n"
          ]
        }
      ]
    },
    {
      "cell_type": "code",
      "source": [
        "import operator\n",
        "sorted_list=[]\n",
        "orders={'cappuccino':54,'latte':56,'espresso':72,'americano':48,'cortado':41}\n",
        "print(sorted(orders.items()))\n",
        "sorted_list=sorted(orders.items(),key=operator.itemgetter(0))\n",
        "print(sorted_list)\n",
        "print(dict(sorted_list))"
      ],
      "metadata": {
        "colab": {
          "base_uri": "https://localhost:8080/"
        },
        "id": "dqiNT3gfM1pL",
        "outputId": "6df3004a-99e2-4621-f922-971f66a0447f"
      },
      "execution_count": null,
      "outputs": [
        {
          "output_type": "stream",
          "name": "stdout",
          "text": [
            "[('americano', 48), ('cappuccino', 54), ('cortado', 41), ('espresso', 72), ('latte', 56)]\n",
            "[('americano', 48), ('cappuccino', 54), ('cortado', 41), ('espresso', 72), ('latte', 56)]\n",
            "{'americano': 48, 'cappuccino': 54, 'cortado': 41, 'espresso': 72, 'latte': 56}\n"
          ]
        }
      ]
    },
    {
      "cell_type": "markdown",
      "source": [
        "###Dictionary Comprehension"
      ],
      "metadata": {
        "id": "0DfUPrnOPKNf"
      }
    },
    {
      "cell_type": "code",
      "source": [
        "squares={x:x*x for x in range(6)}\n",
        "print(squares)"
      ],
      "metadata": {
        "colab": {
          "base_uri": "https://localhost:8080/"
        },
        "id": "_fIWq86NPIT3",
        "outputId": "c113dcaf-580b-49c7-b2dd-1b56b44782e5"
      },
      "execution_count": null,
      "outputs": [
        {
          "output_type": "stream",
          "name": "stdout",
          "text": [
            "{0: 0, 1: 1, 2: 4, 3: 9, 4: 16, 5: 25}\n"
          ]
        }
      ]
    },
    {
      "cell_type": "code",
      "source": [
        "odd_squares={x:x*x for x in range(11) if x%2 == 1 }\n",
        "print(odd_squares)"
      ],
      "metadata": {
        "id": "TPCIM-FvPm0L",
        "colab": {
          "base_uri": "https://localhost:8080/"
        },
        "outputId": "98630887-099b-47c8-f60d-ac439dcf343e"
      },
      "execution_count": null,
      "outputs": [
        {
          "output_type": "stream",
          "name": "stdout",
          "text": [
            "{1: 1, 3: 9, 5: 25, 7: 49, 9: 81}\n"
          ]
        }
      ]
    },
    {
      "cell_type": "markdown",
      "source": [
        "\n",
        "  \n",
        "![image.png](data:image/png;base64,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)"
      ],
      "metadata": {
        "id": "4suZ4Lk0WDR4"
      }
    },
    {
      "cell_type": "code",
      "source": [
        "import operator\n",
        "students=eval(input(\"Enter the IDNO and MARK of each student as a {}\"))\n",
        "print(\"The student dictionary is\",students)\n",
        "print(\"The number of students are\",len(students))\n",
        "#to find class average\n",
        "sum=0\n",
        "for k in students:\n",
        "  sum=sum+students[k]\n",
        "class_average=sum/len(students)\n",
        "print(\"The class average is=\",class_average)\n",
        "#to find no. of students above class average\n",
        "count=0\n",
        "for k in students:\n",
        "  if students[k]>class_average:\n",
        "    count=count+1\n",
        "print(\"The number of students above class average is \",count)\n",
        "#to find the topper of the class\n",
        "out=sorted(students.items(),key=operator.itemgetter(1),reverse=(1))\n",
        "topper=out[0][0]\n",
        "print(\"The \")\n"
      ],
      "metadata": {
        "id": "vYxSkvcvWC3K"
      },
      "execution_count": null,
      "outputs": []
    },
    {
      "cell_type": "markdown",
      "source": [
        "###7.Create a dictionary using comprehension from two sequences"
      ],
      "metadata": {
        "id": "o0WQCL1_T_yg"
      }
    },
    {
      "cell_type": "code",
      "source": [
        "keys=['a','b','c']\n",
        "values=[1,2,3]\n",
        "{i:j for (i,j) in zip(keys,values)}\n"
      ],
      "metadata": {
        "colab": {
          "base_uri": "https://localhost:8080/"
        },
        "id": "uAWnbuxiVD54",
        "outputId": "93b55082-9089-4def-bf7e-a4b12b344002"
      },
      "execution_count": null,
      "outputs": [
        {
          "output_type": "execute_result",
          "data": {
            "text/plain": [
              "{'a': 1, 'b': 2, 'c': 3}"
            ]
          },
          "metadata": {},
          "execution_count": 26
        }
      ]
    },
    {
      "cell_type": "markdown",
      "source": [
        "![image.png](data:image/png;base64,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)"
      ],
      "metadata": {
        "id": "n8_UtuML7piK"
      }
    },
    {
      "cell_type": "code",
      "source": [
        "names=eval(input(\"Enter a list of names as a []\"))\n",
        "d={i[0]:i for i in names}\n",
        "print(d)"
      ],
      "metadata": {
        "colab": {
          "base_uri": "https://localhost:8080/"
        },
        "id": "j6D3zC6Y71mL",
        "outputId": "72e8e61f-8b96-411c-a174-65e649bb5fc8"
      },
      "execution_count": null,
      "outputs": [
        {
          "output_type": "stream",
          "name": "stdout",
          "text": [
            "Enter a list of names as a [][\"DELHI\",\"MUMBAI\",\"BANGALORE\",\"CHENNAI\"]\n",
            "{'D': 'DELHI', 'M': 'MUMBAI', 'B': 'BANGALORE', 'C': 'CHENNAI'}\n"
          ]
        }
      ]
    },
    {
      "cell_type": "markdown",
      "source": [
        "![image.png](data:image/png;base64,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)"
      ],
      "metadata": {
        "id": "LR2OgB8X65Kj"
      }
    },
    {
      "cell_type": "code",
      "source": [
        "I=[\"ReD\",\"GrEeN\",\"BluE\"]\n",
        "out={c.lower():c.upper()for c in I}\n",
        "print(out)"
      ],
      "metadata": {
        "colab": {
          "base_uri": "https://localhost:8080/"
        },
        "id": "490SdDyA7FwD",
        "outputId": "1df5b97f-c9a5-4b27-8adc-e9f8db6a4cb4"
      },
      "execution_count": null,
      "outputs": [
        {
          "output_type": "stream",
          "name": "stdout",
          "text": [
            "{'red': 'RED', 'green': 'GREEN', 'blue': 'BLUE'}\n"
          ]
        }
      ]
    },
    {
      "cell_type": "markdown",
      "source": [
        "### ![image.png](data:image/png;base64,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)"
      ],
      "metadata": {
        "id": "dR4KnY-95sDy"
      }
    },
    {
      "cell_type": "code",
      "source": [
        "d={1:\"rose\",2:\"jasmine\",3:\"lilly\",4:\"tulip\"}\n",
        "d1={}\n",
        "for(key,value) in d.items():\n",
        "  d1[value]=key\n",
        "  print(\"Original Dictionary: \",d)\n",
        "  print(\"Inverted Dictionary: \",d1)"
      ],
      "metadata": {
        "colab": {
          "base_uri": "https://localhost:8080/"
        },
        "id": "MUclg1Jm5quI",
        "outputId": "6bcc9adc-cdef-4d5a-a468-cb712aa8de59"
      },
      "execution_count": null,
      "outputs": [
        {
          "output_type": "stream",
          "name": "stdout",
          "text": [
            "Original Dictionary:  {1: 'rose', 2: 'jasmine', 3: 'lilly', 4: 'tulip'}\n",
            "Inverted Dictionary:  {'rose': 1}\n",
            "Original Dictionary:  {1: 'rose', 2: 'jasmine', 3: 'lilly', 4: 'tulip'}\n",
            "Inverted Dictionary:  {'rose': 1, 'jasmine': 2}\n",
            "Original Dictionary:  {1: 'rose', 2: 'jasmine', 3: 'lilly', 4: 'tulip'}\n",
            "Inverted Dictionary:  {'rose': 1, 'jasmine': 2, 'lilly': 3}\n",
            "Original Dictionary:  {1: 'rose', 2: 'jasmine', 3: 'lilly', 4: 'tulip'}\n",
            "Inverted Dictionary:  {'rose': 1, 'jasmine': 2, 'lilly': 3, 'tulip': 4}\n"
          ]
        }
      ]
    },
    {
      "cell_type": "markdown",
      "source": [
        "#String"
      ],
      "metadata": {
        "id": "Ea4RNkPE5gmm"
      }
    },
    {
      "cell_type": "code",
      "source": [
        "my_string='Hello'\n",
        "print(my_string)\n",
        "my_string=\"Hello\"\n",
        "print(my_string)\n",
        "my_string='''Hello'''\n",
        "print(my_string)\n",
        "#triple quotes string can extend multiple lines\n",
        "my_string=\"\"\"Hello,welcome to\n",
        "            the world of Python\"\"\"\n",
        "print(my_string)"
      ],
      "metadata": {
        "colab": {
          "base_uri": "https://localhost:8080/"
        },
        "id": "lVBGxnoj4Wxi",
        "outputId": "66d01b56-576a-4364-acbc-a45428156cdc"
      },
      "execution_count": null,
      "outputs": [
        {
          "output_type": "stream",
          "name": "stdout",
          "text": [
            "Hello\n",
            "Hello\n",
            "Hello\n",
            "Hello,welcome to\n",
            "            the world of Python\n"
          ]
        }
      ]
    },
    {
      "cell_type": "markdown",
      "source": [
        "###Python String Formatting"
      ],
      "metadata": {
        "id": "oz54nCDc2oFh"
      }
    },
    {
      "cell_type": "code",
      "source": [
        "#using triple quotes\n",
        "print('''He said,\"What's there?\"''')\n",
        "#escaping single quotes\n",
        "print('He said,\"What\\'s there?\"')\n",
        "#escaping double quotes\n",
        "print(\"He said,\\\"What's there?\\\"\")"
      ],
      "metadata": {
        "colab": {
          "base_uri": "https://localhost:8080/"
        },
        "id": "6FTNLzyX22LS",
        "outputId": "4ca73b02-78e7-46d1-d0e3-c8865752d548"
      },
      "execution_count": null,
      "outputs": [
        {
          "output_type": "stream",
          "name": "stdout",
          "text": [
            "He said,\"What's there?\"\n",
            "He said,\"What's there?\"\n",
            "He said,\"What's there?\"\n"
          ]
        }
      ]
    },
    {
      "cell_type": "markdown",
      "source": [
        "###String slicing"
      ],
      "metadata": {
        "id": "DEb56j-m1Qla"
      }
    },
    {
      "cell_type": "code",
      "source": [
        "x=\"Welcome to Python\"\n",
        "print(x[2:5])\n",
        "print(x[:])\n",
        "print(x[0:])\n",
        "print(x[0:len(x)])\n",
        "print(x[4:10:2])\n",
        "print(x[-5:-3])\n",
        "print(x[::-1])"
      ],
      "metadata": {
        "colab": {
          "base_uri": "https://localhost:8080/"
        },
        "id": "ek4nM2DX1NDj",
        "outputId": "6a3552de-acd1-42ec-b45c-398ab28cb88e"
      },
      "execution_count": null,
      "outputs": [
        {
          "output_type": "stream",
          "name": "stdout",
          "text": [
            "lco\n",
            "Welcome to Python\n",
            "Welcome to Python\n",
            "Welcome to Python\n",
            "oet\n",
            "yt\n",
            "nohtyP ot emocleW\n"
          ]
        }
      ]
    },
    {
      "cell_type": "markdown",
      "source": [
        "###How to change or delete a string"
      ],
      "metadata": {
        "id": "cgAlMJNN0mCB"
      }
    },
    {
      "cell_type": "code",
      "source": [
        "my_string=\"programiz\"\n",
        "my_string[5]='e'"
      ],
      "metadata": {
        "colab": {
          "base_uri": "https://localhost:8080/",
          "height": 178
        },
        "id": "0oP5ToIR0io7",
        "outputId": "aede096d-339d-440c-a7ec-b88ea4839ac2"
      },
      "execution_count": null,
      "outputs": [
        {
          "output_type": "error",
          "ename": "TypeError",
          "evalue": "ignored",
          "traceback": [
            "\u001b[0;31m---------------------------------------------------------------------------\u001b[0m",
            "\u001b[0;31mTypeError\u001b[0m                                 Traceback (most recent call last)",
            "\u001b[0;32m<ipython-input-17-bb881f6e0a9e>\u001b[0m in \u001b[0;36m<module>\u001b[0;34m()\u001b[0m\n\u001b[1;32m      1\u001b[0m \u001b[0mmy_string\u001b[0m\u001b[0;34m=\u001b[0m\u001b[0;34m\"programiz\"\u001b[0m\u001b[0;34m\u001b[0m\u001b[0;34m\u001b[0m\u001b[0m\n\u001b[0;32m----> 2\u001b[0;31m \u001b[0mmy_string\u001b[0m\u001b[0;34m[\u001b[0m\u001b[0;36m5\u001b[0m\u001b[0;34m]\u001b[0m\u001b[0;34m=\u001b[0m\u001b[0;34m'e'\u001b[0m\u001b[0;34m\u001b[0m\u001b[0;34m\u001b[0m\u001b[0m\n\u001b[0m",
            "\u001b[0;31mTypeError\u001b[0m: 'str' object does not support item assignment"
          ]
        }
      ]
    },
    {
      "cell_type": "code",
      "source": [
        "#Length of a string\n",
        "str=\"Core Python\"\n",
        "n=len(str)\n",
        "print(\"Len:\",n)\n",
        "#Membership Operators\n",
        "str=input(\"Enter the first string: \")\n",
        "sub=input(\"Enter the second string: \")\n",
        "if sub in str:\n",
        "  print(sub+\"is found in main string\")\n",
        "else:\n",
        "  print(sub+\"is not found in main string\")\n",
        "#Repeating the strings\n",
        "str=\"Core Python\"\n",
        "print(str*2)\n",
        "#Concatenation of strings\n",
        "s1=\"Core\"\n",
        "s2=\"Python\"\n",
        "print(s1+s2)"
      ],
      "metadata": {
        "colab": {
          "base_uri": "https://localhost:8080/"
        },
        "id": "K6l-3xY-yL0S",
        "outputId": "49cb1fb1-8407-4018-c56d-62d808a44528"
      },
      "execution_count": null,
      "outputs": [
        {
          "output_type": "stream",
          "name": "stdout",
          "text": [
            "Len: 11\n",
            "Enter the first string: I have gone mad\n",
            "Enter the second string: I am Ashri\n",
            "I am Ashriis not found in main string\n",
            "Core PythonCore Python\n",
            "CorePython\n"
          ]
        }
      ]
    },
    {
      "cell_type": "code",
      "source": [
        "#find()\n",
        "txt=\"Hello, welcome to my world.\"\n",
        "print(txt.find(\"welcome\"))\n",
        "print(txt.find(\"e\"))\n",
        "print(txt.find(\"e\",5,10))\n",
        "#strip(),Istrip(),rstrip()\n",
        "txt=\",.banan..\"\n",
        "print(txt.strip(',.'))\n",
        "print(txt.Istrip())\n",
        "print(txt.rstrip())\n",
        "#count()\n",
        "txt=\"I apple love banana,apples are my favourite fruit\"\n",
        "x=txt.count(\"apple\",10,27)\n",
        "print(x)"
      ],
      "metadata": {
        "colab": {
          "base_uri": "https://localhost:8080/",
          "height": 296
        },
        "id": "oZDA6E00u6CK",
        "outputId": "54102884-26cc-4e53-d363-cd1e461d1b93"
      },
      "execution_count": null,
      "outputs": [
        {
          "output_type": "stream",
          "name": "stdout",
          "text": [
            "7\n",
            "1\n",
            "8\n",
            "banan\n"
          ]
        },
        {
          "output_type": "error",
          "ename": "AttributeError",
          "evalue": "ignored",
          "traceback": [
            "\u001b[0;31m---------------------------------------------------------------------------\u001b[0m",
            "\u001b[0;31mAttributeError\u001b[0m                            Traceback (most recent call last)",
            "\u001b[0;32m<ipython-input-13-05cac2ea7929>\u001b[0m in \u001b[0;36m<module>\u001b[0;34m()\u001b[0m\n\u001b[1;32m      7\u001b[0m \u001b[0mtxt\u001b[0m\u001b[0;34m=\u001b[0m\u001b[0;34m\",.banan..\"\u001b[0m\u001b[0;34m\u001b[0m\u001b[0;34m\u001b[0m\u001b[0m\n\u001b[1;32m      8\u001b[0m \u001b[0mprint\u001b[0m\u001b[0;34m(\u001b[0m\u001b[0mtxt\u001b[0m\u001b[0;34m.\u001b[0m\u001b[0mstrip\u001b[0m\u001b[0;34m(\u001b[0m\u001b[0;34m',.'\u001b[0m\u001b[0;34m)\u001b[0m\u001b[0;34m)\u001b[0m\u001b[0;34m\u001b[0m\u001b[0;34m\u001b[0m\u001b[0m\n\u001b[0;32m----> 9\u001b[0;31m \u001b[0mprint\u001b[0m\u001b[0;34m(\u001b[0m\u001b[0mtxt\u001b[0m\u001b[0;34m.\u001b[0m\u001b[0mIstrip\u001b[0m\u001b[0;34m(\u001b[0m\u001b[0;34m)\u001b[0m\u001b[0;34m)\u001b[0m\u001b[0;34m\u001b[0m\u001b[0;34m\u001b[0m\u001b[0m\n\u001b[0m\u001b[1;32m     10\u001b[0m \u001b[0mprint\u001b[0m\u001b[0;34m(\u001b[0m\u001b[0mtxt\u001b[0m\u001b[0;34m.\u001b[0m\u001b[0mrstrip\u001b[0m\u001b[0;34m(\u001b[0m\u001b[0;34m)\u001b[0m\u001b[0;34m)\u001b[0m\u001b[0;34m\u001b[0m\u001b[0;34m\u001b[0m\u001b[0m\n\u001b[1;32m     11\u001b[0m \u001b[0;31m#count()\u001b[0m\u001b[0;34m\u001b[0m\u001b[0;34m\u001b[0m\u001b[0;34m\u001b[0m\u001b[0m\n",
            "\u001b[0;31mAttributeError\u001b[0m: 'str' object has no attribute 'Istrip'"
          ]
        }
      ]
    },
    {
      "cell_type": "code",
      "source": [
        "txt=\"apple#banana#cherry#orange\"\n",
        "#setting the maxsplit parameter to 1,will return a list with 2 elents!\n",
        "x=txt.split(\"#\",1)\n",
        "print(x)"
      ],
      "metadata": {
        "colab": {
          "base_uri": "https://localhost:8080/"
        },
        "id": "rRHotzfbuRHK",
        "outputId": "f6db7a1f-6582-4483-af9f-67fa40495116"
      },
      "execution_count": null,
      "outputs": [
        {
          "output_type": "stream",
          "name": "stdout",
          "text": [
            "['apple', 'banana#cherry#orange']\n"
          ]
        }
      ]
    },
    {
      "cell_type": "code",
      "source": [
        "#replace()\n",
        "txt=\"one one was a race horse,two two was one too.\"\n",
        "print(txt.replace(\"one\",\"three\",2))\n",
        "#rfind()\n",
        "txt=\"Mi casa, su casa.\"\n",
        "x=txt.rfind(\"casa\")\n",
        "print(x)\n",
        "#startswith(),endwith()\n",
        "txt=\"Hello, welcome to my world. \"\n",
        "print(txt.startswith(\"Hello\",6,12))\n",
        "print(txt.endswith(\"Hello\"))\n",
        "#title()\n",
        "txt=\"Welcome to my 2nd world\"\n",
        "print(txt.title())"
      ],
      "metadata": {
        "colab": {
          "base_uri": "https://localhost:8080/"
        },
        "id": "Cyh6vjLtqyzC",
        "outputId": "f363e5b0-0d62-407d-8c18-5f75c68d9d5c"
      },
      "execution_count": null,
      "outputs": [
        {
          "output_type": "stream",
          "name": "stdout",
          "text": [
            "three three was a race horse,two two was one too.\n",
            "12\n",
            "False\n",
            "False\n",
            "Welcome To My 2Nd World\n"
          ]
        }
      ]
    },
    {
      "cell_type": "markdown",
      "source": [
        "###Methods for the str object"
      ],
      "metadata": {
        "id": "PnjBAApvpFSK"
      }
    },
    {
      "cell_type": "code",
      "source": [
        "num=\"123\"\n",
        "name=\"I am an Indian\"\n",
        "print(name.isupper())\n",
        "print(name.islower())\n",
        "print(name.upper())\n",
        "print(name.find(\"123\"))\n",
        "print(name.isalnum())\n",
        "print(name.isalpha())\n",
        "print(name.split())\n",
        "print(num.isdecimal())"
      ],
      "metadata": {
        "colab": {
          "base_uri": "https://localhost:8080/"
        },
        "id": "7oBu0FIBpOOo",
        "outputId": "283fea81-eb10-4845-91b0-861dba7e0a5c"
      },
      "execution_count": null,
      "outputs": [
        {
          "output_type": "stream",
          "name": "stdout",
          "text": [
            "False\n",
            "False\n",
            "I AM AN INDIAN\n",
            "-1\n",
            "False\n",
            "False\n",
            "['I', 'am', 'an', 'Indian']\n",
            "True\n"
          ]
        }
      ]
    },
    {
      "cell_type": "markdown",
      "source": [
        "###Finding the Sub-strings"
      ],
      "metadata": {
        "id": "Fo3yJn95noaB"
      }
    },
    {
      "cell_type": "code",
      "source": [
        "s=input(\"Enter the main string: \")\n",
        "sub=input(\"Enter the sub string: \")\n",
        "#Search for the sub-string\n",
        "n=s.find(sub,0,len(s))\n",
        "if n==-1:\n",
        "  print(\"Sub string not found\")\n",
        "else:\n",
        "  print(\"Sub string found at : \",n+1)"
      ],
      "metadata": {
        "colab": {
          "base_uri": "https://localhost:8080/"
        },
        "id": "XQ43Niarmwhz",
        "outputId": "0e7a860b-e69c-4539-9108-cda4fc6874cb"
      },
      "execution_count": null,
      "outputs": [
        {
          "output_type": "stream",
          "name": "stdout",
          "text": [
            "Enter the main string: Twinkle twinkle little star\n",
            "Enter the sub string: star\n",
            "Sub string found at :  24\n"
          ]
        }
      ]
    },
    {
      "cell_type": "markdown",
      "source": [
        "###Write a program to print every charachter of a string entered by user in a new line using loop"
      ],
      "metadata": {
        "id": "vtS1NR_ZmhaB"
      }
    },
    {
      "cell_type": "code",
      "source": [
        "test=input(\"Enter the string: \")\n",
        "for i in test:\n",
        "  print(i)"
      ],
      "metadata": {
        "colab": {
          "base_uri": "https://localhost:8080/"
        },
        "id": "o1zqOXFsmCIx",
        "outputId": "73669f8d-a289-498c-8d84-6658488a3b9c"
      },
      "execution_count": null,
      "outputs": [
        {
          "output_type": "stream",
          "name": "stdout",
          "text": [
            "Enter the string: Python\n",
            "P\n",
            "y\n",
            "t\n",
            "h\n",
            "o\n",
            "n\n"
          ]
        }
      ]
    },
    {
      "cell_type": "markdown",
      "source": [
        "###Write a program to check if the letter 'e' is present in the word 'Umbrella'."
      ],
      "metadata": {
        "id": "R-5cMO12lynK"
      }
    },
    {
      "cell_type": "code",
      "source": [
        "test=\"Umbrella\"\n",
        "if \"e\" in test:\n",
        "  print(\"Yes\")\n",
        "else:\n",
        "  print(\"No\")"
      ],
      "metadata": {
        "colab": {
          "base_uri": "https://localhost:8080/"
        },
        "id": "9FZ6bk1QlhAb",
        "outputId": "5fa87cbf-6e62-4772-f54f-1bbb05f746fa"
      },
      "execution_count": null,
      "outputs": [
        {
          "output_type": "stream",
          "name": "stdout",
          "text": [
            "Yes\n"
          ]
        }
      ]
    },
    {
      "cell_type": "markdown",
      "source": [
        "Write a program that takes your full name as input and displays the abbreviations of the first and middle names except the last name which is displayed as it is.<br>For example: if your name is Robert Brett Roser, then the output should ne R.B.Roser"
      ],
      "metadata": {
        "id": "-WoBWRtlj44R"
      }
    },
    {
      "cell_type": "code",
      "source": [
        "test=input(\"Enter the full name: \")\n",
        "test=test.split()\n",
        "print(test[0][0],\".\",test[1][0],test[2])"
      ],
      "metadata": {
        "colab": {
          "base_uri": "https://localhost:8080/"
        },
        "id": "W5tOJHUzj4gR",
        "outputId": "37362d20-7e2d-4d26-c742-2b317c34326a"
      },
      "execution_count": null,
      "outputs": [
        {
          "output_type": "stream",
          "name": "stdout",
          "text": [
            "Enter the full name: Robert Brett Roser\n",
            "R . B Roser\n"
          ]
        }
      ]
    },
    {
      "cell_type": "markdown",
      "source": [
        "###Program to count vowels, consonant, digits and special caharachters in a string"
      ],
      "metadata": {
        "id": "Hcg19KWueeN6"
      }
    },
    {
      "cell_type": "code",
      "source": [
        "vowels,consonant,specialChar,digit=0,0,0,0\n",
        "test=\"india is my country\"\n",
        "for i in range(0,len(test)):\n",
        "  ch=test[i]\n",
        "  if((ch>='a' and ch<='z')or(ch>='A'and ch<='Z')):\n",
        "    ch=ch.lower()\n",
        "    if(ch=='a'or ch=='e'or ch=='i'or ch=='o'or ch=='u'):\n",
        "      vowels+=1\n",
        "    else:\n",
        "      consonant+=1\n",
        "  elif(ch>='0'and ch<='9'):\n",
        "    digit+=1\n",
        "  else:\n",
        "    specialChar+=1\n",
        "print(\"Vowels: \",vowels)\n",
        "print(\"Consonant: \",consonant)\n",
        "print(\"Digit: \",digit)\n",
        "print(\"Special Charachter: \",specialChar)\n"
      ],
      "metadata": {
        "colab": {
          "base_uri": "https://localhost:8080/"
        },
        "id": "3DinpkSmgJxJ",
        "outputId": "339d1b60-01b3-44b0-d4f2-e0b241e87873"
      },
      "execution_count": null,
      "outputs": [
        {
          "output_type": "stream",
          "name": "stdout",
          "text": [
            "Vowels:  6\n",
            "Consonant:  10\n",
            "Digit:  0\n",
            "Special Charachter:  3\n"
          ]
        }
      ]
    },
    {
      "cell_type": "markdown",
      "source": [
        "###![image.png](data:image/png;base64,iVBORw0KGgoAAAANSUhEUgAACVkAAADGCAYAAADCdhK8AAAgAElEQVR4AeydLZTcRtO2AwMNAwMNDQ0NAw0DAw0NwwwNAw0DDQMNAwMDDQ0DAx8437nf+e6zvZ3+VZc0o92rz1lLo25VV11V3forS99dKBCAAAQgAAEIQAACEIAABCAAAQhAAAIQgAAEIAABCEAAAhCAAAQgAAEIQAACEIAABCBQJfBdtYYKCEAAAhCAAAQgAAEIQAACEIAABCAAAQhAAAIQgAAEIAABCEAAAhCAAAQgAAEIQAACELiQZEUQQAACEIAABCAAAQhAAAIQgAAEIAABCEAAAhCAAAQgAAEIQAACEIAABCAAAQhAAAIQaBAgyaoBhyoIQAACEIAABCAAAQhAAAIQgAAEIAABCEAAAhCAAAQgAAEIQAACEIAABCAAAQhAAAIkWREDEIAABCAAAQhAAAIQgAAEIAABCEAAAhCAAAQgAAEIQAACEIAABCAAAQhAAAIQgAAEGgRIsmrAoQoCEIAABCAAAQhAAAIQgAAEIAABCEAAAhCAAAQgAAEIQAACEIAABCAAAQhAAAIQgABJVsQABCAAAQhAAAIQgAAEIAABCEAAAhCAAAQgAAEIQAACEIAABCAAAQhAAAIQgAAEIACBBgGSrBpwqIIABCAAAQhAAAIQgAAEIAABCEAAAhCAAAQgAAEIQAACEIAABCAAAQhAAAIQgAAEIECSFTEAAQhAAAIQgAAEIAABCEAAAhCAAAQgAAEIQAACEIAABCAAAQhAAAIQgAAEIAABCECgQYAkqwYcqiAAAQhAAAIQgAAEIAABCEAAAhCAAAQgAAEIQAACEIAABCAAAQhAAAIQgAAEIAABCJBkRQxAAAIQgAAEIAABCEAAAhCAAAQgAAEIQAACEIAABCAAAQhAAAIQgAAEIAABCEAAAhBoECDJqgGHKghAAAIQgAAEIAABCEAAAhCAAAQgAAEIQAACEIAABCAAAQhAAAIQgAAEIAABCEAAAiRZEQMQgAAEIAABCEAAAhCAAAQgAAEIQAACEIAABCAAAQhAAAIQgAAEIAABCEAAAhCAAAQaBEiyasChCgIQgAAEIAABCEAAAhCAAAQgAAEIQAACEIAABCAAAQhAAAIQgAAEIAABCEAAAhCAAElWxAAEIAABCEAAAhCAAAQgAAEIQAACEIAABCAAAQhAAAIQgAAEIAABCEAAAhCAAAQgAIEGAZKsGnCoggAEIAABCEAAAhCAAAQgAAEIQAACEIAABCAAAQhAAAIQgAAEIAABCEAAAhCAAAQgQJIVMQABCEAAAhCAAAQgAAEIQAACEIAABCAAAQhAAAIQgAAEIAABCEAAAhCAAAQgAAEIQKBBgCSrBhyqIAABCEAAAhCAAAQgAAEIQAACEIAABCAAAQhAAAIQgAAEIAABCEAAAhCAAAQgAAEIkGRFDEAAAhCAAAQgAAEIQAACEIAABCAAAQhAAAIQgAAEIAABCEAAAhCAAAQgAAEIQAACEGgQIMmqAYcqCEAAAhCAAAQgAAEIQAACEIAABCAAAQhAAAIQgAAEIAABCEAAAhCAAAQgAAEIQAACzy/J6uXLy+W77y6Xv/66H+/fo073QwdNIAABCDxvAmc6RpxJ1+cdVVh/SwKMk1vSp+8VAm/eXC4vXlwuf/+9IoV9nxKB5zqf/fPP5fLzz9f7Crq3oD+x+PPPp+Tdui3P1e91Iuepee6xW/IU8Vyicuy2535+cQv7b9FndFQxdqOJIm8LAeJwCzX2eSoEevHfq38qHM5uR5SfouScnSf670OA+NqHK1KXCdw2yerr1+uNSC2PKj/+eL0Jek83QO9Rp6P8QT/3QeDz58vlt98uF910pUAgmgDxtUY08hixty8idV2jxt4zBPaOixldnkNbxsl+Xv7f/67XFjrPP/L6Yj+L7kvymWP327drbOh899On67q2na3c23zdi4l70zfC37pe+uGH6z0FJR3qQfXr19ffHz489PAUbbd1Pb+7Hcv7IjAau/el9f7aEM/7M+718Nx9cAv7e32e4RjWs6EXd9RDIIIAcRhB8X5lnGEuvCW9Xvz36m+p+y37vre4ivJTlJxb+uYp931vcTfLmviaJTbW/uxxMWblrq1ul2SlhyDff3+9GanlUckd9zgY71GnXcMO4XdFQA+Y/D+wP368K9VQ5gkQIL7WnRh1jDjCF1G6rlNDwiiBI+JiVJfn0o5xsp+n3759OKfRuQ0llsAZY/ePPy6XV68ex4XPe/32ISVe6dr03ss9ztetmLhHfSN8rHhx7Pz774NErctmladqu61t+d1tWN4fgZHYvT+t99eIeN6fca+H5+6DW9jf6vMsx7CWDb2Yox4CUQSIwyiS9yfnLHPhLcn14r9Xf0vdb9X3PcZVlJ+i5NzKN0+533uMu1nexNcssX77pxAXfSt3b3G7pw/KkEtvcOt/FB9RjhiMusGqG1i6qT9SjtBpRA/a7EdgNib20+S/ktPJVHH7XMs9+2hPn+xtN/G17r2oY8QRvojSdZ3auSXsPS5TOkfERdrfWdb39MFzGCd78qvFkM67dW3h/8ShdUosgbPF7q+/Pr7e1OvF9Yk3JePp7UPptajeTHTvn0Ecma+PHnutmBjRNzZCj5Hm19Trfkat3JPte8REy+81Jlu2z+g+03aLLk9hn5HYfQp2ztpwVDzP6vWc2j93H9zC/laf93QMa42Dlg2t/agbJ/BUjq172kEcjsfT2VqeZS68Jdde/Pfqb6n7rfoeias956yS3VF+ipJT0jHdNsNnpm3ax1NbH4m7o22e9c1R8XU0h1Z/s4xaskp19xgXJT3vfNvtnj789NP1xrb/x7lesX9EOWIw6hMlummvvkbKETqN6EGb/QjMxsR+mpQlSz89KNDE/VzLvftoL78cYTfxtea9yGPE3r6I1HWN2rn3PmJcpoT2jou0r7Os7+mD5zBO9uRXiiG9hchc9VZOJ8+U2rJtOwEzln/vueh8Nk2i0ifcSm+q0rbff3+InV9+uWerrrr15uujx14vJnr63j/x/2qoTwRqjtENqVa5F9v3iIme31tcZupmdJ9pO6PDU2o7GrtPyeYRW46K5xFdnmub5+6DW9jf6/NejmGtMdGzobUvdWMEnsqxdU87iMOxWDprqzPMhbdk24v/Xv0tdb9l37242nPOKtkd5acoOSUd020zfGbapn08xfVe3B1t86xvjoqvozm0+ptl1JJVq7u3uKjpecfbb5NkpU8D6sak/sew1v0/zr9+3R/VEYNxNviP0Gl/svTQIjAbEy1Z1O1D4Ln66LnavU8U7SP1TMeIM+m6j7dipDIuYziuSNnTB89hnOzJr+RXJdHo2kJJMu5bvymxBM4Su+/fX+NBCQUjbxZWspXeeqU4Ontx/MtXR5SzxEQUCyXwaW450/yyR0wc5fcZ3WfaRsXDmeScMXaP4ntUPB9lzxn7ee4+uIX9t+gzOjafgg3RTKLlPZVj6552EIfRUYe8MxHoxX+v/ky2HqnrnnNWyY4oP0XJKemYbpvhM9M27YP1/QnM+uao+Nrf8vEeZhmNS6ZlIIHbPH3w/zDXzWwVv9XKvwMN/I+oIwbjbPAfodN/QLDhUAKzMXGocnT2fwSeq4+eq91nCvszHSPOpOs9xwDj8vbe2dMHz2Gc7Mkvjw79Jw39hw0l1Og/b7jvMyVB5Dbd6+8zxK4++eckmJEEq3tlvVUvx798dUQ5Q0xEckhfpx4pd09Ze8TEUX6f0X2m7Z6871X2GWP3KJZHxfNR9pyxn+fug1vYf4s+o2PzKdgQzSRa3lM5tu5pB3EYHXXIOxOBXvz36s9k65G67jlnleyI8lOUnJKO6bYZPjNt0z5Y35/ArG+Oiq/9LR/vYZbRuGRaBhK4TZLVy5fXm99//XU1RZ8p081wvdlqa1HA6a9XjhiMs8Hf0kmMVj/hpv+dLZ1Kn8no8bpl/ahPSzpG2eyHdY7VUl8j22ZjoiZTD456n6ao7bvX9ogYlW6Kc3ES81uUKB/1dNfD4CPsVB/665UIu6PGSUnX1fiybke8KbGkf8S2vY8RPR015yhORo5Ft9ZVtszoW7M9eq6djeOVcXnUHGN2s7Z5Py9lq/72LFuYrPigZ0trnNT2jTiv2cIh12fUX3vyy3Xyf9b47bdrjft+CklWUXORj4UaryNF82jpfHM2dkfjZUSn0Tb+FP2rV6N7zLWLGEfucY9zX8e/fDVbttg2GxOzOs20j5gne/1pXDiJr9d2S/3MWB0dXysxUbNhi9+3+GdG95m2Nbu26FiSNePH0v69bVuODXvHrnSO4LdlHirxkr2KibNcv5Rs2HPblhgq6TMb6/KL/vKyZU7JZeS/o2LJcleveSTnSPut91F9arzpb2vZck40GzfRMbHV1pn9osbqTJ9p24hjq+Rt8W+qx+p6lB0lPWpx6GOi5skzFOs7ctzUfFiay2fsdH9arpSZ45Dbai44oqweN47Wd8scWYt/8+3Vu92WpWJQY3skZnP5W2zNZfj3HvPbypy1xbYoP22Rs2UumOEz09Y+zZdbdMxl6LfH9Mh9Oemtv3spq/NZyY5Z37TiK0K/KD+XbM23jfp3llHej37PxF1p/9a2Ve7W7ajjcsuWhbrjk6x0gaAbk0q0clEA+5OBM5OHkrOcsOWbnVr+/PPlUnNMazBKHx0YX7++6jhzc1792YZUl3xd/ecl10nBKRv0P/K9v+ycedOX7NAnU3I++i3ZCuCIYptH5FkX2VcrW3xqWas2Wz/bok+N2D75QUmA6mO0rMSE+1B/8vubNw+xIF2kl7b5gaLbb13a9ppvXG82KzEqWdLfRbL8gNTxrjGhOO1dtNk/1ssyS0vbkNoY4aNSX/k2xbVstL62U8vWfJXL6f0eHT8rdpujmY+ME++Tsk9tcb1lrsSX5GrcSK90Dk2Zp+t+80mqT2/d8aq3MraKOKsv+d221drLd2qrh8N5iTxGmHXNF+5bukuXnKH2l906bpdKpK4l+bVtW/W1vIi51mzt69k4XhmXq3OMda/Fheu32mbOXo7OVW6/ZbmFyYoPZnTMx0ltX8Xl6rncFg65PqP+Oopfqp/eVKS5Mz1n90Wotm8tR8/z1nOPuWjkOK3+dY2meV/nu2KnP8WqYlB6qYzE7mi8XCXG/qsYtO6Rb7FaHUeaQ6POfT0fp/P1ythbta0XEyV97XVfc9tntaV0rJWIebIm29vVR+kcPtf30yfvcV22bFcL1/vYOjJWR8fXSkw8tqL8q+d377XFPzO6z7S1Tvlyi46pjC1+TPcfWZeOW+4JbI3dEZ3cZpWf5KzOQ9ZF8XDv1y+cX2w/v7CfW8vVWMrH8+z1XEm3qPOrkuzatog+zSI938j7Gz0mpftJbtQ50cixaDYmdA9Sx3fpKI4jRefK2kfH8dWydb5P+/U5i88v0rp8veTnlWNrpH9vaUfOqfU7j0ONmfwevtqk11SpvKNjzj53fHz5cj12pue1urbW9rToHqDORdJ7hLpulF21+4Pp/lpfPWfIdR85d1afapfqndqarpfuD7vP2lzoevNcPW6s6psz7/2enSNzeXn8z9bn7Xu/t57rSe6qrfJ11PHLcZPG1crcu2pbz489v7h+VM6WuWCGz0xb654vt+iYyrCPPTeMzFfyo/dL56aoZ4eWncZdS+fV+SyV7fUV3+TxFaHfqp9t18hy1L8rjOzjmbjzPkfFxdHHuRHfLLZZePqwsWdNKJokPnx4LMAXJVqOlHfvrnIkSyevOtHTDQsPNgVHqbi+lMwlB+tEUjJ1YjV6QaV+FLjSQ3+WoQOvt3nZe4DuTynaLtlped7WO3nVgEgfkOgGdqqX5Ki+NnBK3GrbJEt/vWQY7d9ir/qtPtW+ETZbP9mig5dtEzufjI/YaVYrMSEZij9PcvaZdMkfSCjuFbsrxbaXxoXkul72ewxLJ+kzG6OWJbkat+asOJe81Ga1bTH3vq025uJ+UxtXfWTZtWU6p0hX2SYb/ee40lyRX8DWZNa2z4yfFbvNUcxHx4n3Sdmndrg+Ir40bjz/eQ4WGzF3vGhpH2gpHjNFxy/JUMy2itup7e+/t1o+3NTIj43ay3zEb/UYkcqqaaQ+xE56m6E4mau2K5ZL3FL5q7rW9Mu3r+grWVFzrW3fGsdbxmXUHGPdjxijM3NV7uuR3ytMtvhgRKe8TY+32q+e16xwSPWd8ddR/Kyfzoc9L6XntIpjzVP621o8fx81z0vPPeai0eO0LvY974ubj5E+T1HMSr9e7M7Ey1bftPbTsVb6Ky4iStQ4MjfptHrua1npfL1l7EXbluqTsi/p63pdF3ustpY6zpfK6jxZklnaprnGYyK9DvM2LzWO0tKyXe1cP3pOPTO+tsREqntv3brX/K79t/pnRveZtiWbtuqYyjKLUT+m+46srxwbtsbuiF5qs8ovah6SLivXA/ah4nnv6xfOL67z6ez5RS8mo2LJsbD1ei7XM+r8Kpfb+h3Vp1nU5vmZY1Kqr+Vq2x7nRO5rJSZ8rNe9z17RPOtz6NV7eivzfaqnz6kUx71if6R+Xjm2Wp76XfXvLe3ocUvrbXN+DPE9btfLHq2X/HJkzFkf6eFxrBjWswVdO/r6Wvr63FZtZY9t0H46/7WPVKcx1yqr5wySneo+cp2rMWV7fG8z1102+FxeS8V/WtxnOkZK9WK0+rwkQt9Ut9b6yhyZyh3lU+OXyuqtbz3Xi7ZVeq7ObyVuW+beaNtW/VSyK/fr1rlghs9M21w//d6qYyrLLDQ3jMxXno89JynGRnId0j5769ap5mfXR8xnNV1WfGP9pH/ENVuEn2t25ttn/BvBaDTupGfKNdc7rY+IiyOPcyVbdtq28PRhg0bpwxBl5KVFFyOaRHTSo3atopM8tdWJUi5H++l/LteStWpBkx6U1KYkt6VTWqeBLv0kZ6RYJ5+w6qROQZuW9EK59fYiBar61p8m8JylBqkmaNWLtX6vFPeV61uSaTtLE/mKT6Nstn6e9PKTa028Oc+SnaVtszEhm+Qf8dXFVs5XeuhBktsodlaKbS/5RnJd79hZiVHLcmKlkjVkb1oUl26nZY17VPyp71kfpfrW1i1TYzG3Ufv4oCk7xKFmZ02+t6+MH+soziPFfpkZJ95n7/gSv3Qe1byeFo1h66KTsa1Fx4eR2NM4cbtSgq37l94ey6Vjj3VObcvnhNFjhGXVfOG3wkjvUsKX9vMNoFLimOVH6Go+reWqvpFzrW2PmCdHx6Xbrc4x1r0WF65ftW1lrmrFQVoXxcRyZHt0Mc8ab8Wl546t53LWfyU2Vvzl/vfgZ3/4JmZ+zu++xXBrOXqe32MuGj1Op/OobuSkRcdRPxDWccrHqlLsrsRL2ufKum92rp4XWwfH0so4kiyP+YhzX8sq+UB9Wefe2HO7KNtq+vT0Net8qXNkP4QvnUNHzJN5nyO/df7l+bnXvme760fG6sr4sq97MdGzJ6237jW/R/lnRveZtrIlSkezGPFjynBkXTp63l29JzATu6O6eSzc8lxFuqbHsXu/fuH84hpdM+cXI/Ho8R91TFu95snjcuX8asR+t0nHwmqfnttK8/zKMcly9z4nWokJvZlS85ueOfTu0aUs7Icty8j53nNzfs+opJf9UfKz2puj2o0Uy4vw7y3tGLHVbWyz75PpOiS/ryf/up2WeVwdGXPWw/OclumzIenmOj938z758yjZ5fP10vHXjNTO/tx6ziBZ1mPknEt2pPclt94fdp+1MeJ6M9v6vCRKXzPvLT22o46bPT61+p6erk+Pb6VYk3yPwfxedbStEfOb46bGxTqrXau43d5+bOmQ1vXsipoLbHePj3Sbaav2UTqaxch8lZ5L5McP6aT4V9ytFuskJqXi+tX5rCS7tG3WN9Yvndvzcx2x9PVzfsxKdYjycyqztr7i362MRuLO+prr3nFx9HHO9h2wXHj6sEE7HxB10CsVZ5fnB8O8rQ4cOjlrDZR8H/8uBY1OtDw4VZ8PTu87utwa/LJJk5gCrlT8MEk61or/R7AGUqvY3pH/mdOS45PkEWYl9pa94tMom62fbBKfmh+s88xyNiZ8MBOXlh5KGvGBQ+Nra7Htvck0Ikbdl2XlFzq2QTHlizUdjEolKv4ke9ZHJX3ybbKtdHKUttPFrH249X++rYyfWbtT/42OE++zd3ylJy3pTYKUt49DYl6LvbR9bd021Y5Dkm2/Kk61XhvL1kkyS8V9eczU5IwcIyyr5AvJ9XG4l4Smi1rNP3mx/Ahdc9n57wh9I+faSNtHx2XUHGPdS3Eh7q5f9evKXJX7v/Y7ismoD2p6tLabZ413xHlNBIcVf+3JT2x1Qax5VX/5fO++Fa8rxX46Yp7fay4aOU77mqB17aDjVHpMK8XuSrys+Cnd12NHy4gSMY6kh2PJc6jklsrIua9llXwgmY5/tWuVaNtq+vT0reloX9bisldvuY7v1Wtey5OP5MeR+aVnu+slqzdWV8bXaEzYxpGlda/5Pco/M7rPtJWNUTqaxYgfR9imbSKPDTOxm+pQW4/gFzEPRVwPpD4U85VrrRqvdLv74/zi+tCod36RsqutR8SSZNs3Gs+rseDjT+04pv5Gzq9qNpe2R/ZpFqV5fuWYZLlmvNc50UpMaF/HZe8enefpPKmt5J/WNssR29ocpP1H7gGLrf407/eK/VHys/adPbZaXoR/b2lHj1tan9tc85+uX2v3uI+MuRF9ZYN1tR9qz+q0XW1aSYkR5wxinureO3eOuj/sPmtjxPWO+Zr/e/dro/RNY7O1vjJHpnJtf49PrT6VVVsX05V71dG22teSWypP8Zq+ZGdpWy8eouaCmWPTTFvZFKWjWSheevPVynlVyQ+1bdapNh5d7xjfOp/V+s+3z/omUr8oP+c2lX6v+HeFUS/urKu57h0XRx/nbN8By8WnD5MaOqBqD299wqGLi1ZxZrIy/WdLHjSaLHwxo8DLH9TMylf7rcEvPWqTl+RKN01y+itdLPlBvU48enY4W1MXjrWTghHbW/rk++fs0/qtPo202fqJSYlvqu/s+kxM2Cbp0fOj9PC4aV3Q9PS17b3JdDVGpYf7GpnodUNKMVZLzIyKP+k146Mez9l6v/Foy5ymvraOny12238z48T77B1fHgutG5myWbordmr6jPjPb8uQ70rF41gnbT37/b9gajfmvH/k+CvZrhv94hIxl0ToWuKablvV1z6Kmmsj/RQ9H/XmGOteigsxd/2qX1fmqtT3Ees9JtE+SHU2zxJvx+VR53ItDiv+2pOfWFrv0gNK9635bKUcNc/b59Fz0chxWg9qxGmkb18Q146fK/Gy4qd0X51bSj+dDxxZHI+18ziP+YhzX8sqzR+y2fGvdhFl1LaaPj19Szo61jQPlq5TPWaOmidTHXWNqBjTX6/0bHf9yFhdGV/RMSG7rXvJ75H+mdF9pm2kjmYx4sdezKT11nFkftZ+vg6qncfPxG6qR2nduh01Blvz0Or1gOyzD1fPc0usSts4v3hMxXN+7fziceu1X61YkuSoWIg8vxq1OLpPsyjN8yvHJMs94pxohF0tJvz8Qsta0TmK5mjFbu8/V9ZkaLvn1Kj53ucpI/e17Y+Sn6XbzLFV7S0vwr+3tKPlr7wuyuajYs769o55vh8vP9QSrMRCz7E8DvSsKS+O74hzBuuu/nrx7fOi1fvD7rM2Rlzf49l7phelb85/9XdtjrRc29/jU6u3nNYy4lyvJd91o7ZGzG89brNzr22oLUdtW/GT+m7ZFTkXzPCZaRupo1mMzFcr51U1n5e2W6ean12/Op+V+i5tm/GN9o/SL9LPJbvybSv+3cpoJO6sp7nuHRf3epwzh4XlwN3BBenprunFR+1EyBeFOoFrJZfYIa2LnbTvdD0NmjzBqnQTN913dH1r8NcCOe1XJ6XiU2prLr0TSMtrnQS7TW8ZddFj3Wd96v0ibHZslB7Y9Tj06mdiwhdWSs4YKbqYtx+2Xtjb9lJcSYdefapnK0ZnZZmb7CuNT9tdm1NSvXo2uC+1O7o4yab0ytsRXTwOZsePZM/abY4z48T77B1fOglUTPQ4Wh/d0N1afLzSPFqKTd+QECevy0+lEjlmVmQ5i7+W7FXSPd9mtjVfp+17uqZtS+ur+kbPtZG2z47LEp90W2+O6eneq0/7avl1Za5K+4hY7zGJ9kGqc4unGUWc16R91tZbHKzLEceWmn6l7f7fsrWbW/adjgcr5ah5fq+5aOQ4bR+PnnOOxO6WeFnxU7qvr21q/6EnbRu53hpH6qfFLdcjjd/S+UVPlvdXu4iyaltP31xH2ezjSO08zXF71DyZ6qhrDl9/pNtL6z3bXT8zVreMr+iYkK3WXbLzEumfGd1n2kbqaBYjfsxZtX5HHxtmYrell+oi+fX6Un1rHlq9HpB8+7AUz7l+np9G2ub7+jfnFybxsJzxwcNe82utWJK0GT1aseAxEnF+NWpldJ8tFu5ryzGpJTe31fO6jrtbzolyeaXftZjwAzidW9b+M7Q/8aaHZysler73ecot7pNG+veWdsz4c6vNeVwdFXOj+jq+lZzRK5YpG/Li+SLivN39jJxzRd0fdp+1436vPuXROm5E6Zv2F7FemyMtu2d/r95yWsuIc72WfNet2mo5Wq4ev7y/+EWUSNta+rT8HTkXzPCZaRupo1mMzFfud8t5VcsfeZ11EpNS6dWn+7Tms7Rda33GN5ITpZ95RxyXWva5zv1t8e9WRiNxZ/16XHv1lqNlKy7u9TiX6r9xffHpw0SvoydnL19eb1y2bo77poROuBWkpYutmmoOCr3y147VckZGTba3bw3+2gRnuVrqgZLsLt10tj2jg8isSyfBaZ+t9aiLnq0+jbTZsTHihxaTUt1MTNjHtf8NX5Jv3Xuvsi7tq23ev2Z7rz6Va/1LMTrSVypL646xUgKZ625x8yDXc+V372S3J3vr+JHcmdhU+5lYsN69fXr1lqNlKzpM3xUAACAASURBVL58c0rHhVbxQ9jS/7Jq7ZfX+cShFOu2SbHpmyXalhf7TrJqxbJq4zPdr8VH7VqyvG/rf6mlfZXWW/Lz9u6vxC9vW/rt/bfq6/2j5tpI22fHZYlPuq03x/R079WnfZlrya+Od83ds+dvaR8R6z0m0T5IdW7xjDyvSfusrbc4rPhrL35pAkZtTnTfirPVcsQ87zFzi7nINyxHrx1asbsSL6t+8v7210qysGXNLFvjSHJa3Er9+Py2dO7bk+X4V7uIsmpbT99cR/fXejB99DyZ6jiTqNKzvVef9rsyvqJjQnq1dI/0z4zuM20jdWyxSH04ux59bJiJ3Z6ukfx6fane80LpP9KY09brAcmf8aH7K53njtjiNj5eleRYn9XrSOt69vMLM4tYtmJJ8s1e80mvmG/Jh5HnVz09XB/dZ4vFyjGpJde2pMuVc6JUTm29FhNKgPE4rc0vvTeD1PrMtzuWosaqmWkO6ZWeP2aOreqrJy/Xx7qWznlddws7cj1bv2dsVlzZrtzmo2JuVF/FvXQdSbLyWCiNlchzhlHd5a+o+8O9Pnv1aex4rJeOG1H6pv1FrNfmSMvu2d+rt5zW0txK8dXab7Zu1da8v9pYV7sel9m5N+87/x1tWy7fv1t2Rc4FM3xm2kbq2GJhXl6unFdZxsiyp1OvPu3D47I0n6XtWuszvpGcKP0i/dyyz3Ur/t2TkfXrce3VW46Wrbi41+Ncqv/G9YCnD4M9j74WTTdOdBBSAlCr6GGAD1b6TrRups+ceFsfPWwf2a+lS163Z/C3TlydNGUuo8uVkxT3McKwNyC3+DTS5p5+uZ9nfs/EhL97PpP85ngefUiW696zvVefymvFqNrNyFJ7J8SUEsgi42/GR6m9M+s68dAcpz8d0MVKf755U7pxPCp/y/iR7Fm7Z/2nPnr79OpTBq348vFDB/RaccKTYif/n2O1fWrblfEuObpYSYvmQ22XXSrqx3Gc30ixzrmMVF4UH8lsyfLco5jYWlryc5ktX+ZtS79X9fX+UXNtpO2z49J8ts4xPd179e5fy55ft85VaR8z61uZjPrANx99PMqXirO8tHhGntek/W7lsNVfo/xSHUfWR/4HkPuWL1bLEfP8Leei1gVwiV0rdtV+a7yU+tqyzfOPLt73KFvHUY9brqvPGUrnvj1Zjn+1myl72dbTN9XRusv+1lut95onU11q6z7HG5lferb36nMdto4vc52Nibz/9HdL90j/zOg+0zZSxxaLlNnsevSxYSZ2e7pG8kv72jIPmZP8v7XM+NDHmZV7aNKT84vH3prxweM9y7+2xJIkzejRioXo86uylY+3RvfZY7H1mNST+9iqh/soW86JUllbYsLXHbp3lxd/+kvnLKv/advzWNR9CV+PRtynnzm2ilGkf29pR+7v1u9Zm21X6bh1RMyN6uv7HJrreqU1H0aeM4zqLn19r3X1/nCvz159yq7FKUrftL+Z9S1zpOT37O/Vj+joObI0Zkb2z9vsZWvez1O6ps9tq/1u+TtyLpg5Ns20jdSxxaLEb+t5VUlWbVtPp159Krc1n6XtWuszvpGcKP0i/dyyL63b6t89GVm/HtdeveVo2YqLWx/nUj2D1wOePgxopIfKPonUgUzBUfvzSZzaK8uvVVTvzEPL1+/Wfg4KXbx4XQkqqw/bUz33DP5WoPrgbRYjSyV35A/9U1t66+4j4uJNfc36NNJmx4P8F11GY8IX6uI6o4fjQpPVltKzvVef9mldajceZ2RJrtuX5EXG36iPUltH1jW3KAnUiVTWubTc6j/rMTt+tN+s3fbHTHz29unV2z4tW/Gl8eM5QTcn8qJ5yidSo68EzWWkv81OF3xp0f9AlH/TxCkfq/K3NPpmaOmmoWVG8ZG8mqx07hmZz61bvqzJz9vpd8uXpfbptlV90/1nYtk6l8ZqpO2OLcnslYg5pqd7rz7V0YxKc7bbbZmrvO/IMoLJqA883ktzurZp7s9Li6fnsJq80vbauVwEB+m+xV+j/HI2rd96+6DsFyON4Vpx32q7Wixrr3n+1nOR4012jpRW7Hr/LfHifVeX/h+auraLKhHjaIRbqq/bl+ZR19V85phVu145wraevtZRurht700OjtvSfFjbVpsn3f/oUudI7qO3j+2p+apXX5K/ZXzNxESpz9K2lu6R/pnRfaZtpI4tFiV2I9v2ODbMxG5Px0h+K/NQyukM1y8pV8cr5xdXKhHjaCWW7JsZPVrXPB4j8vNImem3Ji+6zxGdthyTRuSmNrr9lnOi1ZjwtYeO+/m1h+7raPtqYn86j43Gi/g4/kr3JXyeMjIvmm+tb89VajdSevJyGW5f8u8t7cj1bP22DTWG+b5uX7L5iJhz/z19pZ98oFjrFcdjySbPTfbnyLJ23j6qu/TV2JIc9bdyf7jXZ68+ZdfiFKVv2l9vfXWOlPye/b36no7pHDkyp9XkHWFr3rdtL40L19XG4czcewvbclv9u2VX5Fwww2embaSOLRbmlS+3nFflMlq/ezr16lPZrfksbddan/GN5ETpF+nnln153Rb/7snI+vW49uotR8tWXNziOJfqtuN6wNOHAe100j9yEpW3KZ0ElbpTkpAemHuAaFk6gGnfNCi0n7OhVy+MUr32DP5WoNq2mu2pjlHr9tnIiY71E59eGfWpZUbYbFkj+vX0z+tHY0InRmY6o4ffZNV7KJHr5d8923v1lqNlK0ZVPyNL7T2uSzzMKiL+Rn2U2tpblz+dXKO5RvOU+tFBNS1+KFi6QZK2G10fHT+SN2v3rP/UR2+fXn1qdyu+xNsX0YoNJVQpwU1cNcd7vld/artaJMMy0/j0q/rT/4nojHXp76K4lZ6K8ZY+UXzUb02W+vd4yuPT+o4sa/JL+7Z8WWqfblvVN90/9V3aR2m9NddG2j46LmVHxBzT071Xn7Ka8evMXJX20VqPYjLqg5YutboWT9etntdEcUhtmPHXHvwcWxqHmtdrfz6mak5zGz0I0QXdbBHHPed5yffce4u5yLbpP8GMFMfniK4z8TLS90gbP/DSuUBEiRpHM9ykd+vctydrdOwdZVtPX/tJ52saCyMJcpa5Ok+675mlz92ka69Yz9p46dW35M+Mr9GYaPWX17V0d12Ef2Z0n2kbqaNl1fycsxv5vcexYSZ2ezra5lUfr85DKaczXL+kXKW7j8Fp7ERdR6ZsUvmpDqX1qGsd27bH+UVJ79VYskzH9ggzn5eWxsHR9kv/6D5nWMwck2bkyq6t50RRMeH/FKf7OWnxWGn9Z7m0fW19j7Hqa4tb3CeN9O8t7aj5q7Q90mbJ3zvmRvXV3CYfaK7rldZ86P5Kc2VPbl5vWSNztMaW/5Ot7Nh6f7jXZ68+taHFKUrftL/WetQc2bO/V9/SUXXpHLn1XO8oW3Nbth6/JEcxrrgVv1a5lW01nVr+dl3EXDDKR3rOtI3U0bJG5quc58x5Vb5v63dPp159Krs1n6XtWuszvpGcKP0sJyIWW/bV6mb8uycj62cetVjt1VuOlq240HwVcVxO+7uT9YG7gwGa2hF66OGHHa2lbyzoBrngjxY9PNGDdB2EdCArHXyti4NGF0Rqrz/d3I0oewZ/K1Bdl78pJcKmmgwnNJRY5/vk7PP60u+eTyNt3qJfSefStpmYsB4zE739sPUC3316XOQ29OrT9vZJTf8ZWXrttsdn6QaB7Y6Ivxkfpfa21v3ASDe8Svp7Xz8Q1rwYWXrjR33N2j3jP9vS26dXbzlatuLLr9YWT7dz/Gip44IYzxxX0r5L6/adjx+S7Ruc6Wvj0wcb3u434PSSfKP4SP+WLI+n0ZvhJR4t+Xl7+6g2V+Tt89+r+lrXmf7dZ2mutbzaPJrq37N9dFxGzTE93Xv1M7albb0+Mle5bW8ZxWTUBz19SvUtno6N1XO5KA4l/Uf8tQc/z63pvD6zPvqfN3Kb957nHQ+3mItqN/FzBv5tXUfmOe8zEi9uu7rU8csxkSY6b5UbNY5muPXOfXuyRsfeUbb19JVv9L/2dY6mP633StQ82eunVJ+ez5Xq020923v1qaza+sj4Go2JWh+l7S3dI/0zo/tM20gdWyxK7Ea3WW7UsWEmdns6RvGLmId8bn6W65eULecXDzQc7xrHW0pELKnfGT08Dkpj9Ijzq5xTdJ8zLKzLyDFpRu7KOVFUTPg/y4mvix6O6XxT809EMZNSLNXke+4r3Zdw3S3uk9qWkbHc8+8t7ahxL22PtFny9465UX0Vj4pzzXW90poPXbd6f0M6jOqutp4DVu8P9/rs1afszKI01qP0Tftrrbu/1ecVPft79S0dXee5YOu53lG2Wl8te/Nbj8vodc0tbEvtzNdbdjn+I+aCUT7Sb6ZtpI4tFjm32u+R86ravqXtPZ169alMsyrNZ2m71vqMbyQnSj/rHhGLLft6dSP+3ZOR9etx7dVbjpZmW4oLz1erx+W0vztZ3z/JyoGgm6ajD7YVYCs3yP0/SkoPU0pB4RNY9bn1gJ061DbrJGCklHSq7dcK1PwmTU1G5HZnH448yJixM9ex5tNIm1f0y/XNf8/EhH1cit9crn6n40UX+1tKz/Zefdqn9S9Npmo3I8vcNDZLJTL+3NfouC3pk28zi95B23EcnWRlfWrjR/Wzds/4z/339unVW46WZlqKL8nRscZFY0P26W/koZ33m1lq7lN8KhZVzFN65sV2Wne/gci/8/b+7f0ku1dafLRvS5b3XYnDlvxcd/fXsz/fz7+9/1Z9vX/UXBtpu+OoNx/ZhtU5pqd7r94+0dI6bfFra65K+2itu/9VJqM+aOlSq2vx9PFAFx8rJYpDS4eWv/bgp5jSeO/9maHm5rTt1nOkved5++oWc5GPQ2I2Ulqx29u/FS+9fUfrda3pm7Dqb7XYN6vzyQw3j53auW9Plvc/0/HDD4ZHj+ce46vz5Jb4mElU6fmqVz+jX2t8jcbETH8t3SP9M6P7TNtIHVssZpjmbT3/RB0bZmI31yX/HcXPNq7MsZYxOn/ktuj3jA/d35bz3Lxvzi8eiMz44GGvhzX7ZSWWJG1GD/dZioUjz69MIbrPGRbWwcvWMWlGruf1LedE9s9qTOieku4xSQdfS2i+0e+o8xDrGjXf3/I+aaR/b2mHY3lkOWOzEt8UO7WYVn97x9yovprbpKfis1ccw6X5MOqcQTqM6u62EfeHe3326lN2LU6SE6Fv2l9r3bqszpE9+3v1LR1dZ123nut5/71ttb5arhy/0v3v5Zo+ta213vJ35Fxgvj0+MyzVNlLHFosWw1Jd67yq1L62radTrz6V63FVmvfTdq31GT9KTpR+kX5u2Tda1/LvnoysX49rr95ytGzFheQceZxL9dp5vZK5ENirg7b3po68SztEb7WaLc6KK+1bCwrrKUeP/G+Plk4jJ83p/jWd0jZeN5fSBOa3ougAM5rQZrlbl9an95k6/w9lnaBrcpgtNZ9G2jzjh1n9Z2LCto760e3T/1k1q1/P9l592p9johSjamdZ0rtX9Hk9xYwONqXiviLib8ZHJV1K2/zWjV4SouefrRcMpb7TbY6R0pw4a7f9NzOOe/v06lNb7PM8vvy/RMRcNyWOKpprddxQnOqmm2+4lXypm2Zqp+Oh9NV++tN6q0TwsfyWLI83J4x5n5llS34up+bLvF3t96q+HhdRc22k7aPjMmqO6eneq099tOJX+6Q0V6V9tNajmIz6oKVLra7FM+q8JopDzQZtb/lrT34tnVTni1DNtxFl73neHG8xF+lGozgpXnrXDuLq493MOYB9YDtXxrdltZY6P5BN+lMcrpSoceQxLwa94mNb7dzXsmo+GB170bbV9Onp6xjUuUcvBs0uap60vJnlTKJKz/Ze/YxerfE1GhMz/bV0j/TPjO4zbSN1bLGYYZq3tU+jjg0zsZvrkv+O4hcxD3nOPMv1S8qS84srjdXzC0mJiCXJmRnPrWseH9ukV+/YFmG/dI/uc4bF1ZMP/3r+Kp3zWe7e50RRMSGrnMBmnW2Dk64eLN+2Zl5R871jU3N1q4zcp585tqovszGrVv+ev2vnvLe0o6V3XrfF5t79+z1jzvrWzt1tn6+p5Idesa/y+7TaL+qcQbJGdY+8P9zrs1efsqtxitQ37a+1HjVH9uzv1bd0dJ3niq3netG2RsxvPS6jc2+0bb15wT6pLVt2Rc4Fo3yk50zbSB1bLGr8att9nlA6r6rtU9re06lXn8qszWdpm976jG8kK0q/SD/3bBypb/l3T0bWrce1V285Wtbi4hbHuVSvndeDnj5UtNTFpCf70itsK7v932afzI08gM7l+OBbOujVgkK6OmtQFza6CbW16AG/b+6PPOyv6VTqvxaoaisbpLv61gX2EcVJA60LBLG0XtJtywG75tNIm2f8MMt2JibU1g+xen5M2fYSeVo692zv1aeyWzGqdpalWChdgFmWbPP8UbMtMv5mfGQde0tdAMhOvS2vVjQ32s5SYk5tv5nttfEjGbN2238z47i3T68+tbUVX5ajGxJ6K6HmhyOKP1Or8eq3MZT4aJviQf72MU669ortKsnM923xUduWLN1kk376q40596e4LR3XW/K9r5c9Xd2utlzVN3qujbR9dFxGzTE93Xv1qY9W/Nqaq9I+WutRTEZ90NKlVtfiGXVeE8WhZoO2t/y1J7+WTqrzXKu5LKrsOc/fci5K+26dk2m+9bmKuI4cj3L2rXhR25Vrr7wvH4ulc+94pn11wS/98mNy1DjymBe7FueRc1/LqvlgdOxF21bTp6Wv7PU1T23/3Lf6HTVPlmT3tkln+XFkfmnZrn569T1d0vrW+BqNiVReb72le6R/ZnSfaRupY4tFj2OrXvZ4fETcE5iJ3ZZeqoviFzEPrV4PyJ4ZH66c55a4cn6xfn4hrhGxFBkL6fhtHfcjzq8cV9F9zowL6+Bl65hkuXufE0XFhGzSvSXpK939sKuWGGQGM8vUdxHz/S3vk0b695Z2zPgvtbl1T3fkPN/97hlz1rd37u17ljru9Urr2Bh1ziAdRnVP267eH+712atP2bU4Wc6qvml/rfWoOdJ61+KpV9/S0XWr53rRtu59/JLdOi6oH/1pvVaibav5sdZ/vr3l78i5YJSP9JtpG6lji0XOrfe7dV7V2zet7+nUq09lteaztF1rfcY3khOlX6SfW/aN1rX8uycj69fj2qu3HC1bcWE5Ecc5nVPdUQl8+lCwyieFusGt4J0putntm0rKLnTRQ13dOK/dMNcFj/crHRjszFKdgtb16kM6bC1OKmolV1i2+yzp5DZetgJVbXwSrINwKcnMcuQPte1dwLl9ban/ueODfslWJ5DIJ2aS27nq0yibZ/xQ49HabvtLnPL9fDEptrWLNMW6Za5e4Pds79Wn+vdi1LI8TmVrPj9oonQ7jcVaiYi/VLZ5jvgo3a+27jdUSa7ml7yoH4+flq/z/dLfq+NHsmbstl/ycZzqlK/39unVp/Ja8SWd0ofAKVuva3/dzJ7RP+2/tO45KH2oW2qnOHfc+0IoPb6V9tG2KD4jsvS/IsSq9mBacey4Ls1NkbrWeKTbV/WNnGujbR8Zl/bF6hzT071Xn/qkNkYj5qq0n9p6FBPJH/FBTY/W9h5Pzykai1vP5VY5RPhrL34ttqrT/O45v9d2tN4+2Wuev9VcJPsdKzo+6dwyL7JdxwT92af5MXQ1XjyXS35EkR3p+YCOV6W3DehaT9dCtitPsjIb1a+cx3nM+xxg5dzXsnIfpNxsT+t8Ntq2mj4tfe133VSaLR6TK/PkbJ9qP5Oo0rJdsnr11m91fEnOSEy4v5FlT/dI/8zoPtM2SsceixGetTaRx4aZ2K3pk26P4Bc1D3kuOcv1S4kj5xfXc7fasSRlVlqPiqWZ8Vy75rF+1mnl/MqyRpeRfdZYrB6TLHfvcyKz0HFh5RxO7HUfx+eV/s/ZI/dxRv2mdpHz/S3vk0b695Z2zPjONjtGSuf5uubwPcDWPW73u2fMWd/efOvjvOa6XunNh5a1et4+qrv0lX32ie8N5Evp3bs/3OuzV5+ya3GK0jftr7UeNUf27O/Vt3RM61bO9aJt3fv4ZbtHrmuibevNC9attuz5O2ouUP8jfKznTNsoHXssrNvqeZXljCx7OvXq0z5a81narrc+45tI/aL83LMvwr97MbLuPa69esvRshUXUcc5Hw/E5U7KvklWulGtExhN+FuK/1dXmkCi5CqfFMnBkq0b5/pzf6rXSW2p9IJC2dE+WOY32kvyatvS5AnrqBvIOqnOS0+ntH0rUN3Or5gTB/UnO8wo5yR5qyW9GFSQuy8HvE5qNaFY9/yAvepT6R9h84wftjCbiQldgPlESX7UpGG22u6LM9Vp+0pCoGzp2d6rT3nYzzpYlYplqd7rsk8+VOzIHo9BXXz2MlNX4y/VccZH6X61denuizotpatslA99gNT8pgd88qXqZkvE+Jmx2z7Lx3FL794+vfpUdiu+dCPC9RojWtefb1qLcfqnWNM+q0XjzzHrMVmTqT5THUo3/PJ9o/hIbk+WYtY3DqWn+DlutW47Fc+lB9Y9+altkqc+anNF2ra2vqpv5FwbbfvIuIyaY3q69+pT/9T8GjFXpf3U1qOYSP6ID2p6tLaP8Fw9r1nlEOGvvfi12KpOxyfPs722o/V7z/O3motkv/r2uBW39LrBx0/FrK6R3C4/B1iNF48J9a/YjSg6vlpfx4OOXdqmv/RcWvXalh+TV8eR7bB9Eee+lpX7wH1pOTL2om2r6VPTV6ztF8WZ/VJa6ry5VFbnyZLM3jZxs969tjXbvV+v3u1Wx5fkjMSE+xtZjuge5Z8Z3Wfays4IHUdYjDAttYk8NszEbkmX0rZVflHzkOSc6folZcn5Rfv8ImXVWo+KpZnxrOOVjge1a9mI86uWzaW6yD5rLFaPSZa79zlRVEyYs98yIJ/rnohYRxbJi7wHfKv7pJH+Fd9b2THjW9us+2NeT+9x69mW7wuP3ON233vFnHWsnbu7f41Rxbvmul7pzYfaf/WcQTJGdVfbqPvDvT579Sm7FqcofdP+WutRc2TP/l59S8e0buVcL9rWvY9ftnvkuibatt68YN1qyxF/R8wF6n+Ej/Wcaat9InQcYaG+Vs+rbOPIsqdTrz7tozWfpe166zO+idYvws89+yL8uxcj697j2qu3HC1bcRF1nLM+OkfRHHgHZb8kq/TGqRJsthTtJ1j6S296p//j2PVe6kRWgVcrdkLroJEGf0tWrQ9tzy+QrJ/6z8uITt6nFahuo6X+B7fluu90qRN8nbBHBWI62NN+9KDGvrPuJfYrPrXdqzabV0k/97GynIkJ96O3wfliLOWqdW0Xt4jSs71Xn+pgP9duNqWyakxkny5EVT9SVuPPfdT0kc5bi+LSTFIf6saMDuY6wPjidUuSlfRaHT8zdqf+G2XS26dXn/ZjlqX48k0pzTviWioa3+LuZCHNgxFFfdq/Jd3ch7/7rLZpArHrS8soPpI9Ikvs0hs6tstL1Xlez/Udke99Wr50m5Hlir6WHzHXRts+Oi4j5pie7r16c9Sy5dfVuSrtp7UewUTyR33Q0qVUN8pz9bxmlcOqv/biV2KabpPdnq/S7avre87z1u3oucj9ah71f24xOy11rEyT+c2gdK68Ei9+OL7HQyudW3leSm2zfbK7ZI/ZrI4jyUnHfG1cSJ+Rc99UlnXMl7U+tG9aom1LZXu9pq909LlY7pf8t655akU2uI98P/2OvubVtbP7qenk7darFl+9esvRcmV8af/RmEj7bK2P6h7hnxndZ9ravlUdR1m4vy3LiGPDTOzO6LjKT/uX5mjNDzPXyivXAzM+tK6t670ZfmrrY6vmlpbcLdeR1iUihmY4ud+I8wvL6i0jYmnGxpFYONJ+84nqs8Vi5ZiUyq3N2RoLEedEETFhrpLl479026tEjFXrdov7pJH+vaUd7ntkaZvVVjGd/8fKNG5UP1r2ijnrWzs/tX6KRemuua5XRuZDyZBN7t9c0mXvvN379nRXX1H3h3t99upTdi1OUfqm/fXWI+bInv29+p6Oaf3KuV60rXsfv2R3rQ8xTUu0bans2fVRf6/OBdJrlM9sW9u8quMoC/W3cl5lfUeWPZ169Wkfrfksbddbn/HjHvqt+rlnn+pX/bsXI+ve49qrtxwtW3ERdZzb8/5xasvE+n5JVjrw6aRHgbpStH/t5En/o1qJWLp5rqXaqd9W0T41eel++h8IaqcgXinS3zrW9BvVSXpYr56d1tl+0A0Z3bCRDqW3j7j96lL2qh/95f1Y91YfW3yay9tq84wf8j5nfo/ERC5PcSjfyY8RcZnL79neq0/l2c+1GC1NzLrpqws42Sc+W8tq/LnfLT7yvrWlZMp3utEhnmlxzK7ON5Lr+WZ0Tkz1GLF7JhYsu7dPr95ytKzFl+zVxbkSbWuxl8rxTWrFY0TxGJWPe8WxUEtUyveP4GOZM7K0j9prbCpuR+aeGfk1X1rXLctZffM+7Mctc+1eto+MS9nhuNoyx/R079WnHEf8Knkrc1XaX2t9hUkqd9QH6T6t9RmekuNjhOJyy7ncKodVf0Xza7F1neYr6R1ZPD/sMc/nerqvveeivF+dj+k/m+gmgPyWF9X37N8aL6X+8v5Xf3t+kg36GzlfcJ8r4yjy3Hdm/hgdeyu29fTp1Zvv6nJ1npzpX7Eju3qlZ3uvviRf+6wcP0djotR3um1W9wj/zOg+09Z2bdVxloX727JcOTaov9HY3aLbVn7ua2Uesgwv5ZMzXb/Yr/JPr5jT6HVkLs99nfH8Irel9tuM9rgmSvv0OYViv1cizq96feT1q32OzG1qM3tMusU50UpMpFz9NnrZvHdZGau5brJ/5T695UmO/V07j470r/v18kg73OfIUuNAf2nR+Iu4x71HzI2Mbdni47rmWXYo3gAAIABJREFUul7xNeLIfJjKnr2/Maq74jTq/nCvz159yq523IjUN+1vdH1ljuzZ36sf1TFvJ7kz53ref8XWyPlthsvI3Cv7Vmyb0ccsS8tZOZ5nZueCtO9RPmbUO46lsrW+VcdZFupL+1g/LWvH2lzH0d89nXr1aT+1+SxtM7M+4sc99dvq5xkbV/0bzci697j26i1Hy1pcRB/nxOKOyn5JVndkJKpAAAJ3RKB0UnpH6qHKSQn4zUv6H88jRScI/h9TI+1pAwEIQAACEIAABLYQ4Nx3CzX2gQAEIAABCEDgqRE46zmRv3gx+p/6nprfRu05q39H7TuyHTG3nfbZ7g+fTd/tnjn3nsxv5/Yf2kMAArcj8MSPcyRZ3S606BkCz5MAJ6XP0+97W61XtitpajTJSv/jRe1fvdpbM+RDAAIQgAAEIPCcCXDu+5y9j+0QgAAEIAABCJjAWc+J/Am49+9tCcsSgbP6t2TLrbcRc9s9cLb7w2fTd7tnzr0n89u5/Yf2EIDA7Qg88eMcSVa3Cy16hsDzJMBJ6fP0+95W63MASpp6+bL/mVe9et1xqE8iUSAAAQhAAAIQgMBeBHzOMfIpqL10QC4EIAABCEAAAhC4NYEznhPp85x+C7reiE6pEzijf+vW3K6GmFtjf7b7w2fTd807592b+e28vkNzCEDgtgSe+HGOJKvbhhe9Q+D5EeCk9Pn5/AiLv317SJzSK9z1Ris9zPRNMK3rT6+n/P77602yN2+O0Iw+IAABCEAAAhB4zgQ4933O3sd2CEAAAhCAAARM4IznRB8+PPyHPtvBskzgjP4tW3LbrcTcGv+z3R8+m75r3jnv3sxv5/UdmkMAArcl8MSPcyRZ3Ta86B0Cz48AJ6XPz+dHWawDthKn/L8Ma8sXLy4X3bTQG60oEIAABCAAAQhAYE8CnPvuSRfZEIAABCAAAQichcAZz4n0n/h0b4m3oPej7Iz+7Vt1fAtibp352e4Pn03fdQ+dTwLz2/l8hsYQgMD9EHjCxzmSrO4nzNAEAs+DwC+/XBNhNLFSILAHga9fr0lUSqT66adrvOkNVvr9+TPJVXswRyYEIAABCEAAAmUCnPuWubAVAhCAAAQgAIHnReBs50T6j3m6p/T2LfeRRiL1bP4dsenoNsRcLPGz3R8+m76x3rpvacxv9+0ftIMABM5B4Ake50iyOkfooSUEIAABCEAAAhCAAAQgAAEIQAACEIAABCAAAQhAAAIQgAAEIAABCEAAAhCAAAQgcCMCJFndCDzdQgACEIAABCAAAQhAAAIQgAAEIAABCEAAAhCAAAQgAAEIQAACEIAABCAAAQhAAALnIECS1Tn8hJYQgAAEIAABCEAAAhCAAAQgAAEIQAACEIAABCAAAQhAAAIQgAAEIAABCEAAAhCAwI0IkGR1I/B0CwEIQAACEIAABCAAAQhAAAIQgAAEIAABCEAAAhCAAAQgAAEIQAACEIAABCAAAQicgwBJVufwE1pCAAIQgAAEIAABCEAAAhCAAAQgAAEIQAACEIAABCAAAQhAAAIQgAAEIAABCEAAAjciQJLVjcDTLQQgAAEIQAACEIAABCAAAQhAAAIQgAAEIAABCEAAAhCAAAQgAAEIQAACEIAABCBwDgIkWZ3DT2gJAQhAAAIQgAAEIAABCEAAAhCAAAQgAAEIQAACEIAABCAAAQhAAAIQgAAEIAABCNyIAElWNwJPtxCAAAQgAAEIQAACEIAABCAAAQhAAAIQgAAEIAABCEAAAhCAAAQgAAEIQAACEIDAOQiQZHUOP6ElBCAAAQhAAAIQgAAEIAABCEAAAhCAAAQgAAEIQAACEIAABCAAAQhAAAIQgAAEIHAjAiRZ3Qj84d2+fHm5fPfd5fLXX4d3TYcQgAAEIAABCEAAAhCAAAQgAAEIQAACEIAABCAAAQhAAAIQgAAEIAABCEAAAhA4M4HjkqyU3PPnn2N/X7+emel96v7jj9ckK/mAAgEIQAACEIAABCAAAQhAAAIQgAAEIAABCEAAAhCAAAQgAAEIQAACEIAABCAAAQgMEzgmyeqPP64JPnqT0sjfq1fDBtBwkABJVoOgaAYBCEAAAhCAAAQgAAEIQAACEIAABCAAAQhAAAIQgAAEIAABCEAAAhCAAAQgAIHHBI5Jsvrw4Zpc9cMPl8ubN/2/9+8fa8mvdQIkWa0zRAIEIAABCEAAAhCAAAQgAAEIQAACEIAABCAAAQhAAAIQgAAEIAABCEAAAhCAwLMkcGyS1S+/PEvId2E0SVZ34QaUgAAEIAABCEAAAhCAAAQgAAEIQAACEIAABCAAAQhAAAIQgAAEIAABCEAAAhA4HwGSrM7ns20ak2S1jRt7QQACEIAABCAAAQhAAAIQgAAEIAABCEAAAhCAAAQgAAEIQAACEIAABCAAAQg8ewIkWT2XECDJ6rl4GjshAAEIQAACEIAABCAAAQhAAAIQgAAEIAABCEAAAhCAAAQgAAEIQAACEIAABIIJPM8kq69fL5c//7xc/vlnHef//neV9e+/fVl//XW5fPvWb9drob5m9d+SZGXbtKRAAAIQgAAEIAABCEAAAhCAAAQgAAEIQAACEIAABCAAAQhAAAIQgAAEIAABCEDgmRI4R5LVTz9dLt99d7lo2SpKBnIy0e+/P275+fN1/++/v8qSPP/9/PPlosSrVnn58treiVlfvlwub98+yJCsV68uF21Pi3T69dfL5cWLh7Y//HC5/PLL5dJLXlKf0tdFSVpmYd1lr/TvJW+Zi5KzWkUJXNLN9rof/VY/tr8lQ3b1eLb2pw4CEIAABCAAAQhAAAIQgAAEIAABCEAAAhCAAAQgAAEIQAACEIAABCAAAQhAAAJ3ROAcSVZK2HFyVJ48lcJ89+6ayPT69cNWJQ0p+SlNFnrz5nLxn5OfJD9PkHqQ8pC8pWQm96N9lPSk5CMlTrkPJXSpqK37VpKT9lO/bqe61huwnBglWUrUSveTnDQRSm1biVaW1UqyUhJXaoc4qh/boP5Vr3a1oiQs+0rJWhQIQAACEIAABCAAAQhAAAIQgAAEIAABCEAAAhCAAAQgAAEIQAACEIAABCAAAQicnMA5kqwE+ePHa5KRkqJKb1NS8pCSgJTgk75FyduVCPX33/91l2Q58UlJS7W3SzlJyW+S0jLVQ/u5TolI0sH7/Pbb436lh5O7Pnx4XJf+8v5KVpJt0i+3QTq4nZY9/WtJVpLrJC6xyuWoH9snxqntqc7mLVniSoEABCAAAQhAAAIQgAAEIAABCEAAAhCAAAQgAAEIQAACEIAABCAAAQhAAAIQgMDJCZwnyUqg9WYlJe8o2SctSghyopGSsdKiN0WlSVdpndeVMOS3L9XeZmX57j9PQpIsbXPylBOWam/e0na1UUJWSZbk5X3W3nqlN1i5X79Fy7Z5aVm1JCt/+lBv22oVv9Xq/ftyK7G27UrWokAAAhCAAAQgAAEIQAACEIAABCAAAQhAAAIQgAAEIAABCEAAAhCAAAQgAAEIQODkBI5NsnLyTWuZJ0mlgPW2JSdDpclL/nxf+pnAdL+Rdb/N6tOncmsnKSnBq5YUpT2ti2xMdcylSoZtyd9O5bbuU4lNrT7TfmsMLKuUZPXHHw8JX7U3VFknv/FKuteSvpRopX5q9ZbFEgIQgAAEIAABCEAAAhCAAAQgAAEIQAACEIAABCAAAQhAAAIQgAAEIAABCEAAAicgcGySld7apGSm1l/tTUyGqc/rKYFJspQQ5M/TKemn98Yqyygt/Um+2uf7WklKqTwlaUm/kU/lWaaSnErF9aXEqLy9OajvUnJTS5beSqX9em+xcp+95DC3YwkBCEAAAhCAAAQgAAEIQAACEIAABCAAAQhAAAIQgAAEIAABCEAAAhCAAAQgAIEnQODYJCslMq0WvdHJn6zTJ+6cPNR6A9ZIn1FJVv4M4EiSldoouan2xivbNpJkJRslS3+lZLOWLL2dS/v99tsIqcvl5ctr+1py2JgUWkEAAhCAAAQgAAEIQAACEIAABCAAAQhAAAIQgAAEIAABCEAAAhCAAAQgAAEIQOAUBM6XZCWs6WcDlRxU+0ReyQV6U5beVqU/JRf5rVp6M5Zkrb7J6pZJVn7D1Jcv/7W8lWTlpCnZP/NXSw77b+9sgQAEIAABCEAAAhCAAAQgAAEIQAACEIAABCAAAQhAAAIQgAAEIAABCEAAAhCAwGkJnDPJSrj1FisnBPU+Mai3X/366/UTg96ntjxzkpUTqUrJT64rvRXLyVk1JqXtSkorvTHrtEMBxSEAAQhAAAIQgAAEIAABCEAAAhCAAAQgAAEIQAACEIAABCAAAQhAAAIQgAAEIFAmcM4kq/xNVnoTkxKpSkXb/Tm8Fy8ul3fvLhclGv311+PWT+FzgU6WKiVStZKsXFdKznpMiV8QgAAEIAABCEAAAhCAAAQgAAEIQAACEIAABCAAAQhAAAIQgAAEIAABCEAAAhB4dgTOl2SlpCl/3u7jx8vFCUJ6U1WpaLvexKQEq2/fSi2u286eZPXvvw9v9irZaU6lBCx9MlGMxJMCAQhAAAIQgAAEIAABCEAAAhCAAAQgAAEIQAACEIAABCAAAQhAAAIQgAAEIAABCDwicL4kKydNvX59NeTLl4fkovztVGoxmkB09iQrJU/5s36PXPz/f7SSrGx7LVGtJI9tEIAABCAAAQhAAAIQgAAEIAABCEAAAhCAAAQgAAEIQAACEIAABCAAAQhAAAIQeCYEzpVkpSQqJRLps3j6ZKCLk4RKnw3UG6y0zx9/uHV5aRkfPpTrW0lK6R765J76U3JXrzgBrPaZPvc5kvykzyCqXyef5X1bVulNVp8+Xff94Yf6ZxdzefyGAAQgAAEIQAACEIAABCAAAQhAAAIQgAAEIAABCEAAAhCAAAQgAAEIQAACEIDAMyFwniSr9DOBeSKUPpWnBCElGeUJSf604G+/1V2qt2E5GSuX7b1aSUpuo+UeSVayq5aIpT71eUDrX0sma+kvtuYX8clA6VNK5ko5sQ4BCEAAAhCAAAQgAAEIQAACEIAABCAAAQhAAAIQgAAEIAABCEAAAhCAAAQgAIGTEDhPktX799ckqtLbqgT78+drvRKS0s8G+g1VSiL655//ukXJV9rHf/eYZKU3d0k/MVBCVFqU0OQEqlev0prH625TS35ycpj6yRPVUknqX21ryVhibH3FngIBCEAAAhCAAAQgAAEIQAACEIAABCAAAQhAAAIQgAAEIAABCEAAAhCAAAQgAIGTEzg2yUqJTvpEXu/v7dvHWJUY5CSoNIHqcavL5eefr+3SRKz0LU9625MSlZRIpQQgv71Jn9hT0pD6uMckKyU1OUlKOisJSnqKkxOalGAlW2vF+9eSrLSf5JqzGP7007Uf9aU//XZ97XOIqa9qbWo6sh0CEIAABCAAAQhAAAIQgAAEIAABCEAAAhCAAAQgAAEIQAACEIAABCAAAQhAAAJ3SOCYJCt9ws7JOSNLJQ6lxQlC796lW/+7rrcoOXEqTZZSYpYSfvK+1Y8Si/x2JtWn+6U9WIdWkpLa+41aIwlG1qn2KcC0T30S0W/lyu1QcpnqWyWV1WonVm6b96PfSlSTH2oJXV+/PnCWXhQIQAACEIAABCAAAQhAAAIQgAAEIAABCEAAAhCAAAQgAAEIQAACEIAABCAAAQicnMAxSVarkP7++3LpJTe5DyX/qG3p04BKIFKdPhEomWlRopXqaslKozpYjpKNesW6ap9ScbJTarv2USLXp0+PP4tY2j/dNqq/97Ed6kdJYNJhxCbtr3ZqX7PLfbCEAAQgAAEIQAACEIAABCAAAQhAAAIQgAAEIAABCEAAAhCAAAQgAAEIQAACEIDACQicI8nqBCB3UbGUZLVLRwiFAAQgAAEIQAACEIAABCAAAQhAAAIQgAAEIAABCEAAAhCAAAQgAAEIQAACEIAABGoESLKqkbmH7SRZ3YMX0AECEIAABCAAAQhAAAIQgAAEIAABCEAAAhCAAAQgAAEIQAACEIAABCAAAQhA4JkTIMnqngOAJKt79g66QQACEIAABCAAAQhAAAIQgAAEIAABCEAAAhCAAAQgAAEIQAACEIAABCAAAQg8EwIkWd2zo0myumfvoBsEIAABCEAAAhCAAAQgAAEIQAACEIAABCAAAQhAAAIQgAAEIAABCEAAAhCAwDMhQJLVPTuaJKt79g66QQACEIAABCAAAQhAAAIQgAAEIAABCEAAAhCAAAQgAAEIQAACEIAABCAAAQg8EwIkWd2zo3/55XJ58+Zy+fbtnrVENwhAAAIQgAAEIAABCEAAAhCAAAQgAAEIQAACEIAABCAAAQhAAAIQgAAEIAABCDxpAiRZPWn3YhwEIAABCEAAAhCAAAQgAAEIQAACEIAABCAAAQhAAAIQgAAEIAABCEAAAhCAAAQgsEqAJKtVguwPAQhAAAIQgAAEIAABCEAAAhCAAAQgAAEIQAACEIAABCAAAQhAAAIQgAAEIAABCDxpAiRZPWn3YhwEIAABCEAAAhCAAAQgAAEIQAACEIAABCAAAQhAAAIQgAAEIAABCEAAAhCAAAQgsEqAJKtVguwPAQhAAAIQgAAEIAABCEAAAhCAAAQgAAEIQAACEIAABCAAAQhAAAIQgAAEIAABCDxpAiRZPWn3YhwEIAABCEAAAhCAAAQgAAEIQAACEIAABCAAAQhAAAIQgAAEIAABCEAAAhCAAAQgsEqAJKtVguwPAQhAAAIQgAAEIAABCEAAAhCAAAQgAAEIQAACEIAABCAAAQhAAAIQgAAEIAABCDxpAiRZPWn3YhwEIAABCEAAAhCAAAQgAAEIQAACEIAABCAAAQhAAAIQgAAEIAABCEAAAhCAAAQgsEqAJKtVgmfd/6+/yprXtpdbsxUCEIAABCAAAQhAAAIQgAAEIAABCEAAAhCAAAQgAAEIQAACEIAABCAAAQhAAAJPngBJVk/exQUD37y5XL7//nL599/Hlb/8crl8993l8vXr4+38gkCLwMuX17h5ygl6z8HGlo+Prrtn3ves29F+urf+vny5zkX5cUzHNG3Tn9pQIAABCEAAAhCAAAQgAAEIQAACEIAABCAAAQhAAAIQgAAEIAABCGwgcEyS1efPl8tvv10u//yzQUV2CSXw++/XB83v3z8W++ef1+1v3z7env9SIo0eUn/4cP3744//Jmvl+/D7aRP48cdr7CiGnmp5Djbek+96vG95TOnpdk8cS7rckl1Jn8htPr4pmSqdj3x803a1oUAAAhCAAAQgAAEIQAACEIAABCAAAQhAAAIQgAAEIAABCEAAAhDYQGD/JKtv364JGHq4+fHjBhXZJYyAktxevLhcfvjhcvnf/x7Eal2JA3q7VS0RTg+pX7168KX8mf79/PPl8pTfZPRAi7WcwNmTTnJ7Sr+fg40lu2+1rcX71seUlm634jXa763Zjeq5tV2aZCVbXdIkqzT5yvUsIQABCEAAAhCAAAQgAAEIQAACEIAABCAAAQhAAAIQgAAEIAABCAwQODbJSm+zeq5Fn+aT/Xrz062K3lKlxKjcD3qrlbbnb7eynumDayUY6LOCfpPVTz89JFspSYvy/AicOelk1FvPwcZRFke0a/FOE4Xyucy6zcy3M20lv6Wb+z9yOaP/CLsjdY/uy8cyfRI3LYoTHePkOwoEIAABCEAAAhCAAAQgAAEIQAACEIAABCAAAQhAAAIQgAAEIACBjQT2T7KSYnpzhD5RpIfBz7X4TRq3esgr/nrInL/FSm+f0vbaW6y+fr3Wqc27d4/fgGVf6u1XqiPJykSe1/Lekk72oP8cbNyD21aZPd69Y8rMfDvTVvb0dNtq89b9ZvXvsduqx63303FIxyD9/f33gzZ6U6OOezqG6VO3FAhAAAIQgAAEIAABCEAAAhCAAAQgAAEIQAACEIAABCAAAQhAAAIbCRyTZLVRuSe12+yD8GjjX768PmT+9dfHkv0mKn3ur1TUXg+nX78u1bINAveXdLKHT+4tsWYPG+9J5irvmfl2pq0YreoWzXlW/+j+70We32KltyymxW+x0hsYKRCAAAQgAAEIQAACEIAABCAAAQhAAAIQgAAEIAABCEAAAhCAAAQWCJBktQBvatdbPgjXGz6UKKW//AG03vqh7bUH0E7C+vhxylwaPyMC95Z0sgf652DjHty2ylzlPTPfzrSVPau6bWVS229W/5qcM2/3W6xevXr8tkW/xUpvsnrOb9I8s2/RHQIQgAAEIAABCEAAAhCAAAQgAAEIQAACEIAABCAAAQhAAAJ3ROD+k6z0ObuIh6OSoYfRehh7i3LLB+F60FxLsvJnlGpJVnporX31NpA9ij7r9O3bHpLLMsVCvhiJKcXeim761GJkzEWNhTKZ7VtrSSdmHTHmIuNki6yajVupKS70d8uyqsMWjqP2rvKWbZq3JKdXZtpK1hbdPBa0jC6z+m/t3zYcMXdKR/c3wkxvsco/EygZfosVnwnc6nX2gwAEIAABCEAAAhCAAAQgAAEIQAACEIAABCAAAQhAAAIQgAAEEgLHJFn5U3VKEikV1zsZQ+30+boXLx6Sg9Qm/9RdTZYetrpIlt/G5EQjPSSX/F4Cjd/yZL0ss7S0DamNSrKxDPddWtYSAfRwWTIiyu+/X99ildv8xx/X7UqYKBUlX0nnt29LtfPb9IBefnzz5sG3ki9O2haVzGV/2Hd6yC4bUv5KIMsfvou59EtjT4lo4jDysP/z52u8lfyumOv5M9d7ZizIt2ZZ82fuMftXSQpbS550Ip1z/6qN+hpJ0JAekXESISu3MWelPvRJTfFXXJWKYsP+TeNwJC5K8rZsW9EhguOozj3e5rh1vl2Zm3u62UbxUsxbV/tcv+Vzz01uP7Nc0d/6pOzSvl1v/Y6aO6XDVmY6buhYlhcd9/RHgQAEIAABCEAAAhCAAAQgAAEIQAACEIAABCAAAQhAAAIQgAAEIBBA4Jgkq95DadcrSUTJHn4YrUSNd++uSQvptlayi2UJjpJlvJ8SHyTPD5C1XW3zpKMUqvdttXF796u3irjoIbX61J/fCOVkIm/XspTApH2dqKMH9bcqnz49MCw9xJ7RS4k/KX8lL8l+J6eYt5Li9LB9pdgf8p1iSLLFU7KV4OA3eGm7Ek9U1NZ+0v7aT/pZL9XV9NJ276v2sjP1sZO2pEOe2JXameq9ZSyY5UjSlMaRY6ylU6pfad06K/b1WcmUlxi4Xtu13htPkXESJcs2pOPbLFLfy8+lBDfHoBiIieYmxaLlKl72Lis6RHEctdFcSrwlo1Q/M9/OtM11LvWdt1ECUzrHaFzK7+kcofpaolMuL/+9p/6276i507btzcz9sIQABCAAAQhAAAIQgAAEIAABCEAAAhCAAAQgAAEIQAACEIAABCCwkcB9JVn5jVN6GJ0nYigRxgkhrbcd+QGx39Cj5IU86UEPqN1Oy1rSlpNFcl1KsC2vlhSg7U4yKe2fb3N7J2Xk9Uf9FhsnBoh/i31LJ/nA/lPCQc5U/eiNI26jPleK/eGY0lJ+d1F/rlOyg94M431yG6W7k6Q+fLCEx0v7SwlcebyppZMi5E/FZC3mrIN1mx0LToqTTbU+rLnGlPRR25VinZ3gJd/lb+wSE7fTsqZbZJxEyrLu+fhOE6zUJrdbXFPOpXolL+6dSLmiQyTH0Tir8fb+vXqPR7XrlZm2ktXrW7w0rvSn+SCPdc0FHt+a79J5qadrqT5af9tnHbVMdZQ9rouYO2XT0cxKHNkGAQhAAAIQgAAEIAABCEAAAhCAAAQgAAEIQAACEIAABCAAAQhAoEPgvpKs9FBaD2/zh9I2wm/2aT049wNiy6q9eUhJPk6cUQJCqfhBeZ4QVGrrfvMkDLedfRCuZAz3rwf1tyzSRQ/TrY+SaWp21vT0Q/lS0kG6j95m4kSrlTdn2R+Og1JMaZtjwLbVPi2l7WpTS15SnJUSaFLblKhg22pvjhrRWzJrY0F69PqwTvaJ3qq0UkZ1ViKFedfGnHWKiJNIWbYxjfs8wao2T8gWxU6evLfCfHbfFR0iOY7qXeKd7turn5lvZ9pKh17f/iyp3hzWKk5eHXnrXEtOtP6276i5U7YdzazFkzoIQAACEIAABCAAAQhAAAIQgAAEIAABCEAAAhCAAAQgAAEIQAACFQL3lWSlh/mlZBgrryQVJ8PUEhr8gFgPsFuyJNOfz1LSUKn0+kr3cb9pEkZaP/sgXPsqaUf71RLFUvl7r0sHJ1uYixiPJEKpjfYZfWuLE4hqCU0jttofvZhyDEi/WoKV+lMsOXlJyUJbi95Mpb70xqlSGdW7NRacUKNlraTJWL3ksJoMb7fOq2MuMk4iZclO2+jxrXjweJDd6Zt+zMVLv+Gr5nO323O5VYdojqM25rzz/Xr1M/PtTFvp0erbvDR3tWJCcvz2Js0rK3N8pP6pfUfNnbdglscTvyEAAQhAAAIQgAAEIAABCEAAAhCAAAQgAAEIQAACEIAABCAAAQgMELivJCsnMLQU9xuVam1bD8BzuX44raSX0kNubddfLaErldfr132p3ZmL7HCikPkoyaSVeOSkH72tZKQo6ceytyYA9fxhPfx5PdnUK5appICtxZ+xrH120H3U4jvttzYWnLSg5I1aoqHtriUYpv301md09jiQf3PdIuMkUpbsT23ME6xKc0fKzEmDraS3tP0e61t1iOY4alvKu7RPr95xpna9MtNWslp9m3PvLVbWKSJxM1L/nn3WW0vPIatz5y2YpXawDgEIQAACEIAABCAAAQhAAAIQgAAEIAABCEAAAhCAAAQgAAEIQGCQwPmSrJTQowSN2ufGWg/AS1BayTyuI8nqv+T0YD9NtlKyQO1NUPbZzJt87MfaZ/X+q9HjLd5feraKPwM4kihge2t2tvpxXWSSlbnmY0FJQE7AqulqW2Z8Yhvy5Shr7SeJf42wAAAgAElEQVTdPK7yBDrbM6OT+87jJFKW9E778RustOwlWGlffQLTNiuhZGSfnPHq7606RHMctcO8a+O3Vz+TeDTTVvq3+nZsjH4a8uXLa2ysJG5G6t+zL/Vf1Nx5C2apHaxDAAIQgAAEIAABCEAAAhCAAAQgAAEIQAACEIAABCAAAQhAAAIQGCRwviQrJ4fUkkdaD8BLUPwmkTxJQ22dGEGSVYncdZuSA5zQI5ZK5sjLixfziQT+vNloskLe52gcRCUK5P0r8Ulvq9KfkggUt/ozq4g3WbXGgt8Oo77z4k8Nyl8RCT+jrK2Hx1WeQBMZJ5GypLdtdFyK3ci8YJsVx7Zbuv3669z+lrOy3KJDNMdR/c07jxHv36ufSTyaaav+W307acq+Hl3Wjme2t7WM1L9nX6pH1Nx5C2apHaxDAAIQgAAEIAABCEAAAhCAAAQgAAEIQAACEIAABCAAAQhAAAIQGCRAkpUfmJcecvsB+UgyheXUkgJmH4QPOvAumomPkzH0wDwtTugRyxqbtL3XnUBUS0Zyu9qy5w/vF5UoIHl6S5OSZ5xI5fgpLWt2jeqt/syoFLv6fKP7lQ/S8vHjtS7q83UzOksPt0/1joyTSFnmZp2VVOh1JVzJ56NFCYh+a499o9+lxMRRmbPtZnTYg+OovmZcmzN69TPz7Uxb6d/q20m79u/IUvNF/la3UU5qF6l/z75Ur6i58xbMUjtYhwAEIAABCEAAAhCAAAQgAAEIQAACEIAABCAAAQhAAAIQgAAEIDBIgCQrP+AtPcz3A3KSrPrh5AfuYpa+HSn9PFyJcU2y3xg08+m4VFYrESJtZ72VsNQrraQm2ekEGiWcvXt3TX7IE2giPxfY0ke2+FNv+dvAzLb09rYeg1L9KGvvWxpzkXESKcs6pzYqIcZJhVsS1bS/4sMctEwTztznnssRHfbgOGpTyru0T69+JvFopq10afXtuiP9Gal/z77UF1Fz5y2YpXawDgEIQAACEIAABCAAAQhAAAIQgAAEIAABCEAAAhCAAAQgAAEIQGCQwPNOslIyUCuRym8kyhNlSnD9oLiWSDT7ILzUxz1vUyKaWea8zGYm8cDstyYCuc+aP8wyKlFAb7CS/Uq+aSXlHZlk5c/DKdnKRck10lN8o8ooa/XXGnOWExEnkbKkt+U5nhSXjnf5fkvRm6KUpCU5SrTKx80WmbP79HSw3RE+mdHN/Zp3vm+vfma+nWkrPVp9O/FRb4s7qkTq37MvtSlq7rwFs9QO1iEAAQhAAAIQgAAEIAABCEAAAhCAAAQgAAEIQAACEIAABCAAAQgMEnjeSVZ+OK0kh1LRp+9Up0+E9Urrwbv2dV+RyS09nY6sTz8tpk/VpcUP0d+/T7fW11NZSgraUnr+sMyjEwWOTLISR78tyRz1mULF9NbEIHNLl6OstY8SidR/acxFxkmkLOldstFJbLLl8+eUyNy63yw2Oj7mpI+1rukQzXFMmzLvdN+SP9L6mfl2pq36aPXt8R05vlK7SuuR+vfsS/uPmjtvwSy1g3UIQAACEIAABCAAAQhAAAIQgAAEIAABCEAAAhCAAAQgAAEIQAACgwQq2UWDe482az2UloxefdqPH/rX3qxiWSMPufXJLiVIKMGgVNxX75N1SipyMoseeJdKK7mk1P5s2/xmH3HIi3whzkow0yfIesXt0zcw9fbJ6x0HNX+4fVSigD8f10vIc0KBkp1KZVRv7ev4rI0FtfEnDD0eLN9JVyUdZrdZpvto7e8xV/Kt/R4RJ5GyZI9tzOPJ/lx5E5V1ffu2RW7fupoO3h7hkxkLarwto1c/M9/OtFX/rb51rJiZ62zPyjJS/559qZ5Rc+ctmKV2sA4BCEAAAhCAAAQgAAEIQAACEIAABCAAAQhAAAIQgAAEIAABCEBgkMDTTbLSg+5W8ok+6dZLjNGbZSSnlBBiwJKjBAS101+ehOF26duZtD5SJLsmb2T/1TZ6eN9LGnIfTvhRUk9e0jcq9T6jlfIc7TvvT79biRBp+6hEAb/1TG83qhUlojnmjkqy0huWFJfi4WSMWlJhTe/edrNWPzW7JKM35iLjJFKWdLeN+XhU0qDfAqV5QDbOFieeKaGpVOS3/O1wpXYr22o6RHMc1bHG2/v36qW352Stt8pMW8lp9a148PGgN9e1dJqpi9S/Z1+qV9TceQtmqR2sQwACEIAABCAAAQhAAAIQgAAEIAABCEAAAhCAAAQgAAEIQAACEBgk8HSTrPxmKSVK5W9PUiKEH5S3Eqj0th8/qC8lzzhpRn35wXqehJE6wm1KstJ2WteDc9ugt+XcovjTckoiqX0OTSz1Bh5xUgJRLcnECWutRBwlk5jRaiKQ/dvyh5hGJQr4jUbSv5TUkX5arsVgVG/p7sS2VjKhYt+JXU4G6r2ZbTbWrLP7KY25f/+9XJyI1hpzkXESKcs2luJJ/na9bJOtLpojtK2WMKiY9zgvyXaSnGJma6LVqg6RHM2ltzTPEhPt26tXG88lI/PtTNte355T5LNa4pz009hU24hkrEj9e/bZd7ZT81Cv9OYqyzqSWU9n6iEAAQhAAAIQgAAEIAABCEAAAhCAAAQgAAEIQAACEIAABCAAAQhkBJ5ukpUe2vphsR5A62G3koaUEOSkBiU/1JKCDCpNMNC+kmE5eiCsxBIlMfghci0pQPLSRBsl5UiO3iCj5JO8SI7k62/kIXa+f8Rv6WBW0kMcpYt0//nnB5tVp3a1RBLposQTJyJZlnlquxNwVKftaaLKFlvs+5Y/JNcP90cY28faJy+KIycZaam4kX9lmxMglOSkhArZqLpSGdVb+7b0SWX7LUX20yrbVLbWrbOSEr2ejjnFitn0xlxknETKsl21eEo/GZq+zU1jQtz1JxmKB/lef/6Uo+oUL6Xi+FSbWt+l/dJtqzpEckz1aq33ePfqJXtmvp1pO9K3P7Mov2luk6/t99z3I3NPi9WsrT39e/XWxbE5ov/IXHU0M9vBEgIQgAAEIAABCEAAAhCAAAQgAAEIQAACEIAABCAAAQhAAAIQgMAggaebZKWEhDw5QA+8/afED9WPlPQBvPfXUg/O/dYiP0RuJULU9NFD7bykb9GSrrcqSh5Sko4ThVL7va7EEXPo6ak38zjhxvt7qe0Rb3WRDqOJAn5TUESigN5K5DiwTVoqAU0JBH5zjbYp0aJURvXWvu6rlPSVypZe1mePWLLO6lMxriQ595cuZ8ZcZJxEyLKNrfGdJjNpznBRTNfGj7anbb2Pl05kEcfR+cr7pssVHSwngqNl9ZY93r16yZ+Zb2fajvSt/jXu3DYdB17XfKe5tZfo22M1a6t1qsVyr976RM6dlnkkM/fJEgIQgAAEIAABCEAAAhCAAAQgAAEIQAACEIAABCAAAQhAAAIQgMAggWOSrPSWl9oDXSnaq0+NUfKRZOWfAHSb0gNiPcTWA2F9Jk0PcbcW7aukB/1Jj7RYr3RbbV1y9PYrJdq0bLHMmq01+Xttt5+kt/RfYamkBtkun2i5kkBSste6lurSbWKr/nN/pm28rjhq+cvtxEXtlDwjPdLi/mr2juotmTPx4SQf+S26SOfczqgxFxknK7JG/WKflPwrGR73Wo7EkhPWtIwoW3TI+13hmMuq/e7x7tWnckfnW+0z0namb8n0mNdcp2PH6HyT2jC6HqH/qH22K3LutJ2WfQQz98kSAhCAAAQgAAEIQAACEIAABCAAAQhAAAIQgAAEIAABCEAAAhCAQIfAMUlWHSVCq0tJVqEdIAwCJyPgNywp0UrJC5RzEFCyi956pDehjSSynMMqtIQABCAAAQhAAAIQgAAEIAABCEAAAhCAAAQgAAEIQAACEIAABCAAAQickgBJVqd0G0pDYIKA34b0/v3ETjS9OQH7LeoTmjc3CAUgAAEIQAACEIAABCAAAQhAAAIQgAAEIAABCEAAAhCAAAQgAAEIQAAC5yVAktV5fYfmEOgT+Oef69uQ9EYkvRmJcg4CfovV69fn0BctIQABCEAAAhCAAAQgAAEIQAACEIAABCAAAQhAAAIQgAAEIAABCEAAAk+cAElWT9zBmPfMCXz4cE2yevnymYM4mfl6ixWfCTyZ01AXAhCAAAQgAAEIQAACEIAABCAAAQhAAAIQgAAEIAABCEAAAhCAAASeMgGSrJ6yd7ENAj/8cE2y4pNz54qFP/+8XL5+PZfOaAsBCEAAAhCAAAQgAAEIQAACEIAABCAAAQhAAAIQgAAEIAABCEAAAhB4wgSeXpLVL79cLm/eXC7fvj1ht2EaBAYI/Pvv5fLTT5eL3oqkdQoEIAABCEAAAhCAAAQgAAEIQAACEIAABCAAAQhAAAIQgAAEIAABCEAAAhCAwCYCTy/JahMGdoIABCAAAQhAAAIQgAAEIAABCEAAAhCAAAQgAAEIQAACEIAABCAAAQhAAAIQgAAEIFAmQJJVmQtbIQABCEAAAhCAAAQgAAEIQAACEIAABCAAAQhAAAIQgAAEIAABCEAAAhCAAAQgAAEI/B8BkqwIBAhAAAIQgAAEIAABCEAAAhCAAAQgAAEIQAACEIAABCAAAQhAAAIQgAAEIAABCEAAAg0CJFk14FAFAQhAAAIQgAAEIAABCEAAAhCAAAQgAAEIQAACEIAABCAAAQhAAAIQgAAEIAABCECAJCtiAAIQgAAEIAABCEAAAhCAAAQgAAEIQAACEIAABCAAAQhAAAIQgAAEIAABCEAAAhCAQIMASVYNOFRBAAIQgAAEIAABCEAAAhCAAAQgAAEIQAACEIAABCAAAQhAAAIQgAAEIAABCEAAAhAgyYoYgAAEIAABCEAAAhCAAAQgAAEIQAACEIAABCAAAQhAAAIQgAAEIAABCEAAAhCAAAQg0CBAklUDDlUQgAAEIAABCEAAAhCAAAQgAAEIQAACEIAABCAAAQhAAAIQgAAEIAABCEAAAhCAAARIsiIGIAABCEAAAhCAAAQgAAEIQAACEIAABCAAAQhAAAIQgAAEIAABCEAAAhCAAAQgAAEINAjcNsnq69fL5Y8/LpcPHx7+/vzzcvnnn4bKVN0Ngb/+uly+fHnwnXz5779j6mlf+frbt7H2I60kbyR+3Lfbe7mqy1YeinfpoPHQKm5nfbcsGVstwtRBAAIQgAAEIAABCEAAAhCAAAQgAAEIQAACEIAABCAAAQhAAAIQgAAEIACBIoHbJFl9+nS5/Pjj5fLdd/W/16+vCTxFtdl4UwJK7nn1qu67n3++XJRwVCtKxkp9//lzreX4dsWLZWq9VvK+vU+6fPnycvn48XL53/9qUh5vX+WhJEP1/8svj+Xmv969e7Ax1XdmXTIoEIAABCAAAQhAAAIQgAAEIAABCEAAAhCAAAQgAAEIQAACEIAABCAAAQhAAAJTBI5NslLSihJJnBTyww+Xy9u3D29CUrLJTz891Kud6keTXaZMrzTWm5h+++36hq1Kk1Ns3suO339/8I8S5eRPv4ks9d3339cxOanoxYurLMXBio+dOKU+FTPSq1bct/p88+bxn7Y5NrVUslXvzU+RPHpJVuor19m/8yQzb8+XkkGBAAQgAAEIQAACEIAABCAAAQhAAAIQgAAEIAABCEAAAhCAAAQgAAEIQAACEJgicFySlT7F5rcfKRmm9fYiJbakCTtaP6rorUS9RJ2jdFnpZw879Dk7JzLpjUilxCj5TnUjSVZ645UTm/R2s63FCUbv3/d95ySrWkKTbFIb2ykdayWaR02nWv/pdo0vJ4itfvYwlcs6BCAAAQhAAAIQgAAEIAABCEAAAhCAAAQgAAEIQAACEIAABCAAAQhAAAIQgMDluCQrJ1jp7UVfvoyhV9KJE0f0tqIjyh7JSUfonfexhx2//nr1R+tzfLkepd9popPXFR9byt9/X3VSspbiqpcg5/56CU16m5ljr/bpwz14bGGgfUiy2kqO/SAAAQhAAAIQgAAEIAABCEAAAhCAAAQgAAEIQAACEIAABCAAAQhAAAIQgECXwDFJViMJKzVV9SYhJbtsTcKpya1t3yM5qdbXntv3sMNvF/v4cU3zNNFJb77qJTO1enN8KMZGbE77bsnVG638NqvaJ/b24NHSqVVHklWLDnUQgAAEIAABCEAAAhCAAAQgAAEIQAACEIAABCAAAQhAAAIQgAAEIAABCEBgicAxSVY//nhNpHn7dl5ZvUXISThHvM1qJFFnxIp//70m/SiJ6BYlyo5Ud7+NTAlNKyVPdFJcyMe9t0vlfYqtEqH0p/URm/O+c5npb9urfUrF9dE8Sn31tpFk1SNEPQQgAAEIQAACEIAABCAAAQhAAAIQgAAEIAABCEAAAhCAAAQgAAEIQAACENhMYP8kK3/CTUk0W5OknMzy5k3ZUL9xaCSh6eXLa0JP+gm4r18f3lrkhK7SUslieZE89e8iuX7DkWVoP71xSYkwrXJLO6SX3t4kFrXizzduSZZLZeaJTo4RJ0ulbVvr/lzfu3fXVtFJVk4OrL25ay8eLZtrdSRZ1ciwHQIQgAAEIAABCEAAAhCAAAQgAAEIQAACEIAABCAAAQhAAAIQgAAEIAABCCwT2D/Jyp8KVDLS1qIkFyUslZKcJNPJTL0kJrV14owSclyUnKUELv05oUsJP97mZSm5yPIky0k/0kdytJ+Tuqx/S8db2uG3QkmH2hulPn16YL01YU6c8iQrbTOn0bdCKSHshx+u+vz999WTkUlW4mF/KAmsVPbkUeqvtY0kqxYd6iAAAQhAAAIQgAAEIAABCEAAAhCAAAQgAAEIQAACEIAABCAAAQhAAAIQgMASgf2TrN6/vyar6O1OW8vnzw8JLyUZToZpJTB5PydFpUlWrtNyJFEnbW95fquRkoWc9ON2SthxOy2VIFQqt7TDdksHJYeVivROk9BGE6JyWaUkKyfjic9I+f33a0ykutqGloxS36X+/AnDVnLgnjxKOrW2kWTVokMdBCAAAQhAAAIQgAAEIAABCEAAAhCAAAQgAAEIQAACEIAABCAAAQhAAAIQWCKwf5KVk1Vqb0caUd/JM0oAKiVS3TI5yclT0kGJZP/+W7ZIer94cU0MUtJYqdzSDn0m0P3r04a1onZ+g5Tav359TUyrtS9tLyU6pW/SGnlLlpO90raOk5Ukq/Rzj/JXnjCX27MXj7yf3m+SrHqEqIcABCAAAQhAAAIQgAAEIAABCEAAAhCAAAQgAAEIQAACEIAABCAAAQhAAAKbCeyfZOVkGCXWbC1pAokSafLi5KBSAlbe1klRJTlqO5Kok8q0PNlZe0OV2797d01kUmJSqdzSDumjhCHZX0sUs86qV0KZ9dVS9qcJT25bWpaSrNTObwMrfZYxlVPzUW17uq/7TnUvrcuvSvwaKXvxGOnbbdIxMjIOvB9LCEAAAhCAAAQgAAEIQAACEIAABCAAAQhAAAIQgAAEIAABCEAAAhCAAAQgAIEugf2TrJyE9PFjV5lqgzSBRIk0eXGSzEhyifUpyZHckUSdtP+evLStZUvfUiLTLe1I9Rxdlz36XJ/11lLJVr23PznRKX+7mfazrJYv/Xa0/HOF5iuf1Ir7dj+tpd7YlfdRk6vt0TxafeV16Rhpscv34zcEIAABCEAAAhCAAAQgAAEIQAACEIAABCAAAQhAAAIQgAAEIAABCEAAAhCAQJfA/klWL19eE2d+/bWrTLVB+ik7refFiTIjySW9pKiRRJ20/568tK3Wreu92ZHrOfM7Ty76/vvL5fff6xKc6JQnWWkPv/ns/fvy/k4mUh95otqI71p9S7ZkSHf7Vf7SPjMlksdov+YifUfGwahc2kEAAhCAAAQgAAEIQAACEIAABCAAAQhAAAIQgAAEIAABCEAAAhCAAAQgAAEIXPZPsvJn5UoJNaMOcPKMEkhKn+Rz4tJIcomTZySzVNyX2o2UnrxchpKDpO+XL3nNQwLWLez4rzbzW/S5QL39SfbJzr/+KstoJTp9+nTdX3JKvlbyleSXkrBGfNfqO9fWfam/3tu58n31O4JHSW5pG0lWJSpsgwAEIAABCEAAAhCAAAQgAAEIQAACEIAABCAAAQhAAAIQgAAEIAABCEAAAiEE9k+yUnKVklT0WbmtRW8Wkgwl3pSK6vR3i+Sk2SQrty+96emWdpS4btkmH7x4cfWH3mJWKq1EJyVWef/Pnx/vrTonqZXeBBadZKX+/GYtJQtuKas8RvskyWqUFO0gAAEIQAACEIAABCAAAQhAAAIQgAAEIAABCEAAAhCAAAQgAAEIQAACEIDANIH9k6ycUFNLuBlR2W8Uev263PqWyUlOmqq9GSvX2ElCpfa3tCPXc+W3k+JkT/5JP8l1TNTeblbz92+/XZO33r4taxedZKVePn5sJ/iVNXm8dZXHY2nlXyRZlbmwFQIQgAAEIAABCEAAAhCAAAQgAAEIQAACEIAABCAAAQhAAAIQgAAEIAABCAQQ2D/JSm8jcvJQKbGoZ0T6ZqPSJ+K0vz9RV/s8XdpHLylqJFFnRl7aVglHZqGkmLzc0o5cl5XfacJPySe9JCu9pcqc0s/02Xf6DF+pjPiu13cuV31Zl7xu9Pcqj5F+0j5KsTUigzYQgAAEIAABCEAAAhCAAAQgAAEIQAACEIAABCAAAQhAAAIQgAAEIAABCEAAAkUC+ydZKUnKyUM//1xUornRbwHSG6D++afcVG/JUiJMLfkm3cuJOrWELyfq1D5NmMrSek9e2t6ypWup3NKOkj5bt8lPTkxKk6QsbyTRSZ+XlIx37657Odmp9UY085VPamWk73TfT5+ueugThltLBI9e3yRZ9QhRDwEIQAACEIAABCAAAQhAAAIQgAAEIAABCEAAAhCAAAQgAAEIQAACEIAABDYTqGT7bJZX3tGfeVOi1MxbdvTmJyce1d5ipR6dkKOEmFZRwk/rc33aV29ecoJQS5brnGT166/eUl8qYUiya589vKUdda3na758udop1qUykujkpCrJUBz89NNVpmKpVvZIstInDVs+q+mSbo/gkcorrZNkVaLCNghAAAIQgAAEIAABCEAAAhCAAAQgAAEIQAACEIAABCAAAQhAAAIQgAAEIBBC4Jgkq/RtVnojUOntRrk5Shp59er/tXcvOa3EQBRAt8YSGDJkNyyBJbAUhgwZspQ83YdKWFZ/Ah2SEjotRSRp210+xfDK+QrrrJ1ilXkJYCUIk/FrV9arE7UyNoGcpWs8dWjrmTW3QlZZM6durV15fvaecWsnbt1yH6k7Na65JHy2Vve85wqLJRi1dJ0Tshr/ZyroFL98v3ZdOmRV66Vnc4Dv2h5re67v07vUmVfeuwgQIECAAAECBAgQIECAAAECBAgQIECAAAECBAgQIECAAAECBC4mcJ2QVcpNQKdOkUpYZiuQlJN/KryUsXvhnvf3r4DJ0klHWS/r5PkVtFoLE6XWGrO01kxfddbeEpSag0AJvdS4rSDYLfeRQFntIaGm+apgVE7henmZ735+zj7v7z97Ee+1sE+ttfScceUaV+GhrdPMMq9CUbFeu2rNrWfn5KyMyx7y7Ox57mmtc02PtT3l+1iX05r71nz3CBAgQIAAAQIECBAgQIAAAQIECBAgQIAAAQIECBAgQIAAAQIEVgWuF7JKCQkR1c//JRCSEEtOPUrgJQGavK8wUu4nkJQ551x1ClTmJeiTEExeY+gnYas6ZWkrZFU/b5i1UlvWyU/9pfb5qnoTGqv3CWnl5wPr+RVeyn72AjC32kcFlLLnGM1X7tc+MiZ7rN49PHy55l7GbQXj4lK283PGz+OpYhm/Z1d7OCdkVfVnD+OrglV5Xl4JUS099zc86plbf1P30glrqbHmLdU7unpPgAABAgQIECBAgAABAgQIECBAgAABAgQIECBAgAABAgQIECDwLYHrhqxSWk4ESmApYZEKhcx/cy9j5tOD9rY2hqPGNfOzdRVMSaAm9xKSWbtyklHCVeMaeb8U3qlgVdZbm5e5CSLl/jnXLfYxnqKVWpeuhHf2ehe3sl5aI9+dG7LK2ArJ5e/edU7IKuGvua9Ln/O8rdPWUsulPM6tqepcCh6OgTQhq73/FPcJECBAgAABAgQIECBAgAABAgQIECBAgAABAgQIECBAgAABAt8SuH7Iaizv9fUz7PT0dDolWJSQzNvbOOJn77NuAjJ5zYGUfN4KWI1PzDo5/SqhoMxZCn2NIauam5BLflLv+fl0yho/va65j9RYNkv7nPeQPsUkNjH6zj4TNsvcvTBWnpkxGXtOQC11Z+zc87n23/h8xONS9aQH3+nDpZ5rHQIECBAgQIAAAQIECBAgQIAAAQIECBAgQIAAAQIECBAgQIDAHxe4bcjqL+Auhaz+wr7sgQABAgQIECBAgAABAgQIECBAgAABAgQIECBAgAABAgQIECBAgACB/wJCVkf/EYSsjgqaT4AAAQIECBAgQIAAAQIECBAgQIAAAQIECBAgQIAAAQIECBAgQKC1gJDV0fYIWR0VNJ8AAQIECBAgQIAAAQIECBAgQIAAAQIECBAgQIAAAQIECBAgQIBAawEhq6PtEbI6Kmg+AQIECBAgQIAAAQIECBAgQIAAAQIECBAgQIAAAQIECBAgQIAAgdYCQlZH2yNkdVTQfAIECBAgQIAAAQIECBAgQIAAAQIECBAgQIAAAQIECBAgQIAAAQKtBYSsjrbn8fF0urs7nT4+jq5kPgECBAgQIECAAAECBAgQIECAAAECBAgQIECAAAECBAgQIECAAAECDQWErBo2RUkECBAgQIAAAQIECBAgQIAAAQIECBAgQIAAAQIECBAgQIAAAQIECPQRELLq0wuVECBAgAABAgQIECBAgAABAgQIECBAgAABAgQIECBAgAABAgQIECDQUEDIqmFTlESAAAECBAgQIECAAAECBAgQIECAAAECBAgQIECAAAECBAgQIECAQB8BIas+vVAJAQIECBAgQIAAAcU0WJUAAAPvSURBVAIECBAgQIAAAQIECBAgQIAAAQIECBAgQIAAAQINBYSsGjZFSQQIECBAgAABAgQIECBAgAABAgQIECBAgAABAgQIECBAgAABAgQI9BEQsurTC5UQIECAAAECBAgQIECAAAECBAgQIECAAAECBAgQIECAAAECBAgQINBQQMiqYVOURIAAAQIECBAgQIAAAQIECBAgQIAAAQIECBAgQIAAAQIECBAgQIBAHwEhqz69UAkBAgQIECBAgAABAgQIECBAgAABAgQIECBAgAABAgQIECBAgAABAg0FhKwaNkVJBAgQIECAAAECBAgQIECAAAECBAgQIECAAAECBAgQIECAAAECBAj0ERCy6tMLlRAgQIAAAQIECBAgQIAAAQIECBAgQIAAAQIECBAgQIAAAQIECBAg0FBAyKphU5REgAABAgQIECBAgAABAgQIECBAgAABAgQIECBAgAABAgQIECBAgEAfASGrPr1QCQECBAgQIECAAAECBAgQIECAAAECBAgQIECAAAECBAgQIECAAAECDQWErBo2RUkECBAgQIAAAQIECBAgQIAAAQIECBAgQIAAAQIECBAgQIAAAQIECPQRELLq0wuVECBAgAABAgQIECBAgAABAgQIECBAgAABAgQIECBAgAABAgQIECDQUEDIqmFTlESAAAECBAgQIECAAAECBAgQIECAAAECBAgQIECAAAECBAgQIECAQB8BIas+vVAJAQIECBAgQIAAAQIECBAgQIAAAQIECBAgQIAAAQIECBAgQIAAAQINBYSsGjZFSQQIECBAgAABAgQIECBAgAABAgQIECBAgAABAgQIECBAgAABAgQI9BEQsurTC5UQIECAAAECBAgQIECAAAECBAgQIECAAAECBAgQIECAAAECBAgQINBQQMiqYVOURIAAAQIECBAgQIAAAQIECBAgQIAAAQIECBAgQIAAAQIECBAgQIBAHwEhqz69UAkBAgQIECBAgAABAgQIECBAgAABAgQIECBAgAABAgQIECBAgAABAg0FhKwaNkVJBAgQIECAAAECBAgQIECAAAECBAgQIECAAAECBAgQIECAAAECBAj0ERCy6tMLlRAgQIAAAQIECBAgQIAAAQIECBAgQIAAAQIECBAgQIAAAQIECBAg0FBAyKphU5REgAABAgQIECBAgAABAgQIECBAgAABAgQIECBAgAABAgQIECBAgEAfASGrPr1QCQECBAgQIECAAAECBAgQIECAAAECBAgQIECAAAECBAgQIECAAAECDQWErBo2RUkECBAgQIAAAQIECBAgQIAAAQIECBAgQIAAAQIECBAgQIAAAQIECPQR+Ade+t8W1gVnkwAAAABJRU5ErkJggg==)"
      ],
      "metadata": {
        "id": "a-5mCU_jZ4jD"
      }
    },
    {
      "cell_type": "code",
      "source": [
        "s=input()\n",
        "a=s.title()\n",
        "newstring=\"\"\n",
        "for i in a:\n",
        "  if i.isupper():\n",
        "    newstring+=i\n",
        "print(newstring)"
      ],
      "metadata": {
        "colab": {
          "base_uri": "https://localhost:8080/"
        },
        "id": "eQQ8XrUGaFVw",
        "outputId": "dfe0b2f8-4624-4f72-cff0-f3a29171c238"
      },
      "execution_count": null,
      "outputs": [
        {
          "output_type": "stream",
          "name": "stdout",
          "text": [
            "I love rainy season\n",
            "ILRS\n"
          ]
        }
      ]
    }
  ]
}