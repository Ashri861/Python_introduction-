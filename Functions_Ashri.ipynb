{
  "nbformat": 4,
  "nbformat_minor": 0,
  "metadata": {
    "colab": {
      "provenance": []
    },
    "kernelspec": {
      "name": "python3",
      "display_name": "Python 3"
    },
    "language_info": {
      "name": "python"
    }
  },
  "cells": [
    {
      "cell_type": "markdown",
      "source": [
        "# **FUNCTIONS**\n",
        "\n",
        "\n",
        "\n",
        "\n",
        "\n"
      ],
      "metadata": {
        "id": "jlpHGj-OTSOw"
      }
    },
    {
      "cell_type": "code",
      "execution_count": null,
      "metadata": {
        "id": "escXgKcf9YO5",
        "colab": {
          "base_uri": "https://localhost:8080/"
        },
        "outputId": "b4ee5f84-680a-40d0-c7e0-d118eccf1ad3"
      },
      "outputs": [
        {
          "output_type": "stream",
          "name": "stdout",
          "text": [
            "20.0\n"
          ]
        }
      ],
      "source": [
        "def avg(n1,n2,n3):\n",
        "  return (n1+n2+n3)/3.0\n",
        "#FUNCTION CALL\n",
        "result=avg(10,20,30)\n",
        "print(result)\n"
      ]
    },
    {
      "cell_type": "code",
      "source": [
        "def displayHello():\n",
        "     print(\"***********************\")\n",
        "     print(\"Hello World\")\n",
        "     print(\"**********************\")\n",
        " #function call\n",
        "displayHello()\n",
        "\n"
      ],
      "metadata": {
        "colab": {
          "base_uri": "https://localhost:8080/"
        },
        "id": "_0oe_G4uzxj2",
        "outputId": "2b9d42d1-ae01-4fc1-c3bd-65b2ee56cb0e"
      },
      "execution_count": null,
      "outputs": [
        {
          "output_type": "stream",
          "name": "stdout",
          "text": [
            "***********************\n",
            "Hello World\n",
            "**********************\n"
          ]
        }
      ]
    },
    {
      "cell_type": "code",
      "source": [
        "#function definition\n",
        "def maxmin(num_list):\n",
        "\t  return(max(num_list), min(num_list))\n",
        "#main\n",
        "marks = [45,30,67,88,12]\n",
        "highlowmarks = maxmin(marks)\n",
        "print(\"Highest is {0} and lowest is {1}\".format(highlowmarks[0], highlowmarks[1]))\n"
      ],
      "metadata": {
        "colab": {
          "base_uri": "https://localhost:8080/"
        },
        "id": "qH5i_WVU4a72",
        "outputId": "fe37e8cf-6fd1-4dc4-9835-c79df1c67f55"
      },
      "execution_count": null,
      "outputs": [
        {
          "output_type": "stream",
          "name": "stdout",
          "text": [
            "Highest is 88 and lowest is 12\n"
          ]
        }
      ]
    },
    {
      "cell_type": "markdown",
      "source": [
        "### Actual and Formal arguments"
      ],
      "metadata": {
        "id": "iptk6dFFTTuC"
      }
    },
    {
      "cell_type": "code",
      "source": [
        "def ordered(n1, n2):        #FORMAL ARGUMENTS(when we define a function)\n",
        "       return(n1 < n2)\n",
        "num1 = int(input(\"Enter your age\"))\n",
        "num2 = int(input(\"Enter your brother’s age\"))\n",
        "if ordered(num1, num2):                #Actual arguments(when we call a function)\n",
        "    print(\"He is your elder brother\")\n",
        "elif ordered(num2, num1):\n",
        "   print(\"He is your younger brother\")\n",
        "else:\n",
        "  print(\"Are you twins?\")\n"
      ],
      "metadata": {
        "colab": {
          "base_uri": "https://localhost:8080/"
        },
        "id": "ykA3OTGReRpJ",
        "outputId": "0f8e5062-31cd-47a7-c838-4b22d0e6f15b"
      },
      "execution_count": null,
      "outputs": [
        {
          "output_type": "stream",
          "name": "stdout",
          "text": [
            "Enter your age19\n",
            "Enter your brother’s age20\n",
            "He is your elder brother\n"
          ]
        }
      ]
    },
    {
      "cell_type": "markdown",
      "source": [
        "### Mutable Arguments"
      ],
      "metadata": {
        "id": "izi2ZSwCcmWr"
      }
    },
    {
      "cell_type": "code",
      "source": [
        "def change(nums):\n",
        "  for k in range(0,len(nums)):\n",
        "    if nums[k]<0:\n",
        "      nums[k]=0\n",
        "  return(nums)\n",
        "#replace all negative numbers in a list by zero using a function\n",
        "nums=[5,-2,9,4,-6,1]\n",
        "print(nums)\n",
        "total=change(nums)\n",
        "print(total)\n",
        "print(nums)"
      ],
      "metadata": {
        "colab": {
          "base_uri": "https://localhost:8080/"
        },
        "id": "BTD-ZlOOclLp",
        "outputId": "df3ec178-1581-4541-cda0-4fd82c454ef7"
      },
      "execution_count": null,
      "outputs": [
        {
          "output_type": "stream",
          "name": "stdout",
          "text": [
            "[5, -2, 9, 4, -6, 1]\n",
            "[5, 0, 9, 4, 0, 1]\n",
            "[5, 0, 9, 4, 0, 1]\n"
          ]
        }
      ]
    },
    {
      "cell_type": "markdown",
      "source": [
        "#Variable Scope"
      ],
      "metadata": {
        "id": "v6EhLVOZxAdk"
      }
    },
    {
      "cell_type": "markdown",
      "source": [
        "###Local Scope:"
      ],
      "metadata": {
        "id": "fa8iIPDsxFZE"
      }
    },
    {
      "cell_type": "code",
      "source": [
        "def func1():\n",
        "          n = 10\n",
        "          print( \"n in func 1\", n)\n",
        "def func2():\n",
        "          n = 20\n",
        "          print(\"n in func2 is\", n)\n",
        "          func1()\n",
        "          print(\"n in func2 is\", n)\n",
        "func2()\n",
        "\n"
      ],
      "metadata": {
        "colab": {
          "base_uri": "https://localhost:8080/"
        },
        "id": "WDGT4FFrxS7l",
        "outputId": "2fbe6a6c-1dff-441e-881f-fee003690293"
      },
      "execution_count": null,
      "outputs": [
        {
          "output_type": "stream",
          "name": "stdout",
          "text": [
            "n in func2 is 20\n",
            "n in func 1 10\n",
            "n in func2 is 20\n"
          ]
        }
      ]
    },
    {
      "cell_type": "markdown",
      "source": [
        "###Global Variable"
      ],
      "metadata": {
        "id": "5s3akTbHyLvf"
      }
    },
    {
      "cell_type": "code",
      "source": [
        "max = 100       #global scope of a variable\n",
        "def func1():\n",
        "    print(max)\n",
        "def func2():\n",
        "    max=2\n",
        "    print(max)\n",
        "func1()\n",
        "func2()\n"
      ],
      "metadata": {
        "colab": {
          "base_uri": "https://localhost:8080/"
        },
        "id": "21uxdfTTyIb0",
        "outputId": "083ddf2f-123e-4a1a-9139-404c14849f67"
      },
      "execution_count": null,
      "outputs": [
        {
          "output_type": "stream",
          "name": "stdout",
          "text": [
            "100\n",
            "2\n"
          ]
        }
      ]
    },
    {
      "cell_type": "markdown",
      "source": [
        "###Lambda Functions"
      ],
      "metadata": {
        "id": "SzPrYiUDygs8"
      }
    },
    {
      "cell_type": "code",
      "source": [
        "a = lambda x, y : x + y\n",
        "print('Sum=', a(3,5))\n"
      ],
      "metadata": {
        "colab": {
          "base_uri": "https://localhost:8080/"
        },
        "id": "8I8a92EcygAN",
        "outputId": "d10ed6e8-2cc3-453c-c604-eb8e602b98d6"
      },
      "execution_count": null,
      "outputs": [
        {
          "output_type": "stream",
          "name": "stdout",
          "text": [
            "Sum= 8\n"
          ]
        }
      ]
    },
    {
      "cell_type": "code",
      "source": [
        "2 + ‘3’"
      ],
      "metadata": {
        "colab": {
          "base_uri": "https://localhost:8080/",
          "height": 128
        },
        "id": "3yJ4zr_av-Sj",
        "outputId": "18b0371b-7ca6-45bb-e919-3c087a1c7d24"
      },
      "execution_count": null,
      "outputs": [
        {
          "output_type": "error",
          "ename": "SyntaxError",
          "evalue": "ignored",
          "traceback": [
            "\u001b[0;36m  File \u001b[0;32m\"<ipython-input-2-e9ae03f46f85>\"\u001b[0;36m, line \u001b[0;32m1\u001b[0m\n\u001b[0;31m    2 + ‘3’\u001b[0m\n\u001b[0m          ^\u001b[0m\n\u001b[0;31mSyntaxError\u001b[0m\u001b[0;31m:\u001b[0m invalid character in identifier\n"
          ]
        }
      ]
    },
    {
      "cell_type": "code",
      "source": [
        "st[0]"
      ],
      "metadata": {
        "id": "wV-jAGkvxcaq",
        "outputId": "81610921-c5ae-4d9f-a841-b1356bbe7a2a",
        "colab": {
          "base_uri": "https://localhost:8080/",
          "height": 162
        }
      },
      "execution_count": null,
      "outputs": [
        {
          "output_type": "error",
          "ename": "NameError",
          "evalue": "ignored",
          "traceback": [
            "\u001b[0;31m---------------------------------------------------------------------------\u001b[0m",
            "\u001b[0;31mNameError\u001b[0m                                 Traceback (most recent call last)",
            "\u001b[0;32m<ipython-input-3-7ebc778b6635>\u001b[0m in \u001b[0;36m<module>\u001b[0;34m()\u001b[0m\n\u001b[0;32m----> 1\u001b[0;31m \u001b[0mst\u001b[0m\u001b[0;34m[\u001b[0m\u001b[0;36m0\u001b[0m\u001b[0;34m]\u001b[0m\u001b[0;34m\u001b[0m\u001b[0;34m\u001b[0m\u001b[0m\n\u001b[0m",
            "\u001b[0;31mNameError\u001b[0m: name 'st' is not defined"
          ]
        }
      ]
    },
    {
      "cell_type": "code",
      "source": [
        "fh = open(\"/content/drive/MyDrive/Ashri Das/textfile.txt\", \"r\") #read-only mode\n",
        "content = fh.read()\n",
        "print(\"--- Mode1 (the whole file in a string) ---\")\n",
        "print(content)\n",
        "fh.close()\n",
        "print(\"\")\n",
        "print(\"--- Mode2 (line by line) ---\")\n",
        "with open(\"/content/drive/MyDrive/Ashri Das/textfile.txt\",\"r\") as f:\n",
        "    print(\"Line1: \", f.readline(), end = \"\")\n",
        "    print(\"Line2: \", f.readline(), end = \"\")\n",
        "print(\"\")\n",
        "print(\"--- Mode3 (all lines as a list) ---\")\n",
        "with open(\"/content/drive/MyDrive/Ashri Das/textfile.txt\",\"r\") as f:\n",
        "    print(f.readlines())\n",
        "print(\"\")\n",
        "print(\"--- Mode4 (as a stream) ---\")\n",
        "with open(\"/content/drive/MyDrive/Ashri Das/textfile.txt\",\"r\") as f:\n",
        "    for line in f:\n",
        "        print(line, end = \"\")\n"
      ],
      "metadata": {
        "colab": {
          "base_uri": "https://localhost:8080/"
        },
        "id": "tqRg7wWzR8s6",
        "outputId": "71d38b6c-835c-4363-95e3-101282a683ec"
      },
      "execution_count": null,
      "outputs": [
        {
          "output_type": "stream",
          "name": "stdout",
          "text": [
            "--- Mode1 (the whole file in a string) ---\n",
            "\n",
            "\n",
            "--- Mode2 (line by line) ---\n",
            "Line1:  Line2:  \n",
            "--- Mode3 (all lines as a list) ---\n",
            "[]\n",
            "\n",
            "--- Mode4 (as a stream) ---\n"
          ]
        }
      ]
    },
    {
      "cell_type": "code",
      "source": [
        "input_file = open('/content/drive/MyDrive/studinput.txt', 'r')\n",
        "empty_str = \"\"\n",
        "line = input_file.readline()\n",
        "while line != empty_str:\n",
        "        print(line)\n",
        "        line = input_file.readline()\n",
        "input_file.close()\n"
      ],
      "metadata": {
        "colab": {
          "base_uri": "https://localhost:8080/"
        },
        "id": "FePCjbglQ2Fa",
        "outputId": "4b0dbe5e-91cd-4ac2-c9da-bcc27f01dd0d"
      },
      "execution_count": null,
      "outputs": [
        {
          "output_type": "stream",
          "name": "stdout",
          "text": [
            "Python is the modern day language\n",
            "\n",
            "I like learning python\n",
            "\n",
            "It is a trending language\n"
          ]
        }
      ]
    },
    {
      "cell_type": "code",
      "source": [
        "fileptr = open(\"/content/drive/MyDrive/studinput.txt\",\"w\");\n",
        "fileptr.write(\"Python is the modern day language\\nI like learning python\\nIt is a trending language\")\n",
        "fileptr.close()\n",
        "\n"
      ],
      "metadata": {
        "id": "CxlfXdKiMGeS"
      },
      "execution_count": null,
      "outputs": []
    },
    {
      "cell_type": "markdown",
      "source": [
        "###APPENDING DATA"
      ],
      "metadata": {
        "id": "na88hiWfDCXK"
      }
    },
    {
      "cell_type": "code",
      "source": [
        "fileptr = open(\"/content/drive/MyDrive/studinput.txt\",\"a\");\n",
        "fileptr.write(\"Python is the Powerful language\")\n",
        "fileptr.close()\n"
      ],
      "metadata": {
        "id": "3H3xq7oQDJTw"
      },
      "execution_count": null,
      "outputs": []
    },
    {
      "cell_type": "markdown",
      "source": [
        "###EXERCISE PROBLEMS"
      ],
      "metadata": {
        "id": "6zQha555CcXD"
      }
    },
    {
      "cell_type": "markdown",
      "source": [
        "ex problem 1) copy the contents of a file called input.txt to a file called output.txt"
      ],
      "metadata": {
        "id": "EEvE9zfa-Lpj"
      }
    },
    {
      "cell_type": "code",
      "source": [
        "input_file=open(\"/content/drive/MyDrive/Input.txt\",\"r\")\n",
        "output_file=open(\"/content/drive/MyDrive/Colab Notebooks/Output.txt\",\"w\")\n",
        "empty_str=\"\"\n",
        "line=input_file.readline()\n",
        "while line!=empty_str:\n",
        "  output_file.write(line)\n",
        "  line=input_file.readline()\n",
        "output_file.close()\n",
        "input_file.close()"
      ],
      "metadata": {
        "id": "J87W3Ye_Tg0X"
      },
      "execution_count": null,
      "outputs": []
    },
    {
      "cell_type": "markdown",
      "source": [
        "ex problem 2) Write a Python program to print the number of words in each line of a text file."
      ],
      "metadata": {
        "id": "bAkboDOi8VDB"
      }
    },
    {
      "cell_type": "code",
      "source": [
        "empty_str = \"\"\n",
        "inpf = open(\"/content/drive/MyDrive/Colab Notebooks/python\", 'r')\n",
        "line = inpf.readline()\n",
        "while line != empty_str:\n",
        "    print(line)\n",
        "    nwords = 0\n",
        "    for i in range(0,len(line)):\n",
        "        if line[i] == ' ':\n",
        "            nwords = nwords + 1\n",
        "\n",
        "    nwords = nwords + 1\n",
        "    print('No. of words is ', nwords)\n",
        "    line = inpf.readline()\n",
        "\n"
      ],
      "metadata": {
        "colab": {
          "base_uri": "https://localhost:8080/"
        },
        "id": "XPLDCRWy8f5b",
        "outputId": "02a1ef90-7cfb-404f-bf1a-0d4891b7751f"
      },
      "execution_count": null,
      "outputs": [
        {
          "output_type": "stream",
          "name": "stdout",
          "text": [
            "Google colab \n",
            "\n",
            "No. of words is  3\n",
            "Module 1\n",
            "\n",
            "No. of words is  2\n",
            "Module 2\n",
            "\n",
            "No. of words is  2\n",
            "Module 3\n",
            "\n",
            "No. of words is  2\n"
          ]
        }
      ]
    },
    {
      "cell_type": "markdown",
      "source": [
        "ex problem 3) Write a program to read student data stored in a file called studinput.txt with the details StudentName   IdNo   Age   Mark1 Mark2. The program should then calculate the total  for each student. Write the details with the total into an output file called studoutput.txt<br>\n",
        "Studinput.txt<br>\n",
        "John 2016 23 56 78<br>\n",
        "Jerry 2016  10 45 23\n"
      ],
      "metadata": {
        "id": "i-hFJ1AV5cwy"
      }
    },
    {
      "cell_type": "code",
      "source": [
        "inp = open(\"/content/drive/MyDrive/studinput.txt\",'r')\n",
        "outp = open(\"/content/drive/MyDrive/studoutput.txt\",'w')\n",
        "empty_str = \"\"\n",
        "student = []\n",
        "line = inp.readline()\n",
        "line = line.rstrip()\n",
        "while line != empty_str:\n",
        "    details = line.split()  #split the string read from  the file into a list\n",
        "\n",
        "    student.append(details)  #append this to the list student\n",
        "\n",
        "    line = inp.readline()\n",
        "    line = line.rstrip()\n",
        "for i in range(0,len(student)):\n",
        "         name,id,age,m1,m2 = student[i]  #unpack the list items\n",
        "         total = int(m1) + int(m2)\n",
        "         student[i].append(str(total)) #append total to the list\n",
        "\n",
        "         s = ' '.join(student[i])      #convert the list to a string with space as\n",
        "                                                      #separator\n",
        "\n",
        "         outp.write(s + '\\n')  # write the string into the file with \\n at the\n",
        "                                                # end\n",
        "inp.close()\n",
        "outp.close()\n"
      ],
      "metadata": {
        "id": "txmp4GxNU_Hw",
        "colab": {
          "base_uri": "https://localhost:8080/",
          "height": 229
        },
        "outputId": "b20e688a-caee-4d85-8d17-161f2121b3fe"
      },
      "execution_count": null,
      "outputs": [
        {
          "output_type": "error",
          "ename": "ValueError",
          "evalue": "ignored",
          "traceback": [
            "\u001b[0;31m---------------------------------------------------------------------------\u001b[0m",
            "\u001b[0;31mValueError\u001b[0m                                Traceback (most recent call last)",
            "\u001b[0;32m<ipython-input-8-4bf6f1dba4f7>\u001b[0m in \u001b[0;36m<module>\u001b[0;34m()\u001b[0m\n\u001b[1;32m     13\u001b[0m     \u001b[0mline\u001b[0m \u001b[0;34m=\u001b[0m \u001b[0mline\u001b[0m\u001b[0;34m.\u001b[0m\u001b[0mrstrip\u001b[0m\u001b[0;34m(\u001b[0m\u001b[0;34m)\u001b[0m\u001b[0;34m\u001b[0m\u001b[0;34m\u001b[0m\u001b[0m\n\u001b[1;32m     14\u001b[0m \u001b[0;32mfor\u001b[0m \u001b[0mi\u001b[0m \u001b[0;32min\u001b[0m \u001b[0mrange\u001b[0m\u001b[0;34m(\u001b[0m\u001b[0;36m0\u001b[0m\u001b[0;34m,\u001b[0m\u001b[0mlen\u001b[0m\u001b[0;34m(\u001b[0m\u001b[0mstudent\u001b[0m\u001b[0;34m)\u001b[0m\u001b[0;34m)\u001b[0m\u001b[0;34m:\u001b[0m\u001b[0;34m\u001b[0m\u001b[0;34m\u001b[0m\u001b[0m\n\u001b[0;32m---> 15\u001b[0;31m          \u001b[0mname\u001b[0m\u001b[0;34m,\u001b[0m\u001b[0mid\u001b[0m\u001b[0;34m,\u001b[0m\u001b[0mage\u001b[0m\u001b[0;34m,\u001b[0m\u001b[0mm1\u001b[0m\u001b[0;34m,\u001b[0m\u001b[0mm2\u001b[0m \u001b[0;34m=\u001b[0m \u001b[0mstudent\u001b[0m\u001b[0;34m[\u001b[0m\u001b[0mi\u001b[0m\u001b[0;34m]\u001b[0m  \u001b[0;31m#unpack the list items\u001b[0m\u001b[0;34m\u001b[0m\u001b[0;34m\u001b[0m\u001b[0m\n\u001b[0m\u001b[1;32m     16\u001b[0m          \u001b[0mtotal\u001b[0m \u001b[0;34m=\u001b[0m \u001b[0mint\u001b[0m\u001b[0;34m(\u001b[0m\u001b[0mm1\u001b[0m\u001b[0;34m)\u001b[0m \u001b[0;34m+\u001b[0m \u001b[0mint\u001b[0m\u001b[0;34m(\u001b[0m\u001b[0mm2\u001b[0m\u001b[0;34m)\u001b[0m\u001b[0;34m\u001b[0m\u001b[0;34m\u001b[0m\u001b[0m\n\u001b[1;32m     17\u001b[0m          \u001b[0mstudent\u001b[0m\u001b[0;34m[\u001b[0m\u001b[0mi\u001b[0m\u001b[0;34m]\u001b[0m\u001b[0;34m.\u001b[0m\u001b[0mappend\u001b[0m\u001b[0;34m(\u001b[0m\u001b[0mstr\u001b[0m\u001b[0;34m(\u001b[0m\u001b[0mtotal\u001b[0m\u001b[0;34m)\u001b[0m\u001b[0;34m)\u001b[0m \u001b[0;31m#append total to the list\u001b[0m\u001b[0;34m\u001b[0m\u001b[0;34m\u001b[0m\u001b[0m\n",
            "\u001b[0;31mValueError\u001b[0m: not enough values to unpack (expected 5, got 4)"
          ]
        }
      ]
    }
  ]
}